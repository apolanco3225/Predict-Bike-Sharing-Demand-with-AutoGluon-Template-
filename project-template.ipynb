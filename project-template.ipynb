{
  "cells": [
    {
      "cell_type": "markdown",
      "metadata": {
        "id": "FCeiRskWFp3v"
      },
      "source": [
        "# Predict Bike Sharing Demand with AutoGluon Template"
      ]
    },
    {
      "cell_type": "markdown",
      "metadata": {
        "id": "BVpGeJtAFp3w"
      },
      "source": [
        "## Project: Predict Bike Sharing Demand with AutoGluon\n",
        "This notebook is a template with each step that you need to complete for the project.\n",
        "\n",
        "Please fill in your code where there are explicit `?` markers in the notebook. You are welcome to add more cells and code as you see fit.\n",
        "\n",
        "Once you have completed all the code implementations, please export your notebook as a HTML file so the reviews can view your code. Make sure you have all outputs correctly outputted.\n",
        "\n",
        "`File-> Export Notebook As... -> Export Notebook as HTML`\n",
        "\n",
        "There is a writeup to complete as well after all code implememtation is done. Please answer all questions and attach the necessary tables and charts. You can complete the writeup in either markdown or PDF.\n",
        "\n",
        "Completing the code template and writeup template will cover all of the rubric points for this project.\n",
        "\n",
        "The rubric contains \"Stand Out Suggestions\" for enhancing the project beyond the minimum requirements. The stand out suggestions are optional. If you decide to pursue the \"stand out suggestions\", you can include the code in this notebook and also discuss the results in the writeup file."
      ]
    },
    {
      "cell_type": "markdown",
      "metadata": {
        "id": "XURsGz0uFp3w"
      },
      "source": [
        "## Step 1: Create an account with Kaggle"
      ]
    },
    {
      "cell_type": "markdown",
      "metadata": {
        "id": "v9jhVf5VFp3x"
      },
      "source": [
        "### Create Kaggle Account and download API key\n",
        "Below is example of steps to get the API username and key. Each student will have their own username and key."
      ]
    },
    {
      "cell_type": "markdown",
      "metadata": {
        "id": "ZF6bXYb7Fp3x"
      },
      "source": [
        "1. Open account settings.\n",
        "![kaggle1.png](attachment:kaggle1.png)\n",
        "![kaggle2.png](attachment:kaggle2.png)\n",
        "2. Scroll down to API and click Create New API Token.\n",
        "![kaggle3.png](attachment:kaggle3.png)\n",
        "![kaggle4.png](attachment:kaggle4.png)\n",
        "3. Open up `kaggle.json` and use the username and key.\n",
        "![kaggle5.png](attachment:kaggle5.png)"
      ]
    },
    {
      "cell_type": "markdown",
      "metadata": {
        "id": "x4PaAjxNFp3x"
      },
      "source": [
        "## Step 2: Download the Kaggle dataset using the kaggle python library"
      ]
    },
    {
      "cell_type": "markdown",
      "metadata": {
        "id": "GhEzmZH8Fp3x"
      },
      "source": [
        "### Open up Sagemaker Studio and use starter template"
      ]
    },
    {
      "cell_type": "markdown",
      "metadata": {
        "id": "p06dsd7aFp3x"
      },
      "source": [
        "1. Notebook should be using a `ml.t3.medium` instance (2 vCPU + 4 GiB)\n",
        "2. Notebook should be using kernal: `Python 3 (MXNet 1.8 Python 3.7 CPU Optimized)`"
      ]
    },
    {
      "cell_type": "markdown",
      "metadata": {
        "id": "50WdfGDpFp3y"
      },
      "source": [
        "### Install packages"
      ]
    },
    {
      "cell_type": "code",
      "execution_count": 2,
      "metadata": {
        "scrolled": true,
        "tags": [],
        "id": "a32o_QzsFp3y",
        "outputId": "74467151-64cd-43f5-e503-c5b929a6e807",
        "colab": {
          "base_uri": "https://localhost:8080/",
          "height": 1000
        }
      },
      "outputs": [
        {
          "output_type": "stream",
          "name": "stdout",
          "text": [
            "Requirement already satisfied: pip in /usr/local/lib/python3.7/dist-packages (21.1.3)\n",
            "Collecting pip\n",
            "  Downloading pip-21.3.1-py3-none-any.whl (1.7 MB)\n",
            "\u001b[K     |████████████████████████████████| 1.7 MB 5.2 MB/s \n",
            "\u001b[?25hInstalling collected packages: pip\n",
            "  Attempting uninstall: pip\n",
            "    Found existing installation: pip 21.1.3\n",
            "    Uninstalling pip-21.1.3:\n",
            "      Successfully uninstalled pip-21.1.3\n",
            "Successfully installed pip-21.3.1\n",
            "Requirement already satisfied: setuptools in /usr/local/lib/python3.7/dist-packages (57.4.0)\n",
            "Collecting setuptools\n",
            "  Downloading setuptools-60.5.0-py3-none-any.whl (958 kB)\n",
            "     |████████████████████████████████| 958 kB 5.2 MB/s            \n",
            "\u001b[?25hRequirement already satisfied: wheel in /usr/local/lib/python3.7/dist-packages (0.37.1)\n",
            "Installing collected packages: setuptools\n",
            "  Attempting uninstall: setuptools\n",
            "    Found existing installation: setuptools 57.4.0\n",
            "    Uninstalling setuptools-57.4.0:\n",
            "      Successfully uninstalled setuptools-57.4.0\n",
            "\u001b[31mERROR: pip's dependency resolver does not currently take into account all the packages that are installed. This behaviour is the source of the following dependency conflicts.\n",
            "datascience 0.10.6 requires folium==0.2.1, but you have folium 0.8.3 which is incompatible.\u001b[0m\n",
            "Successfully installed setuptools-60.5.0\n",
            "\u001b[33mWARNING: Running pip as the 'root' user can result in broken permissions and conflicting behaviour with the system package manager. It is recommended to use a virtual environment instead: https://pip.pypa.io/warnings/venv\u001b[0m\n"
          ]
        },
        {
          "output_type": "display_data",
          "data": {
            "application/vnd.colab-display-data+json": {
              "pip_warning": {
                "packages": [
                  "pkg_resources"
                ]
              }
            }
          },
          "metadata": {}
        },
        {
          "output_type": "stream",
          "name": "stdout",
          "text": [
            "Collecting mxnet<2.0.0\n",
            "  Downloading mxnet-1.9.0-py3-none-manylinux2014_x86_64.whl (47.3 MB)\n",
            "     |████████████████████████████████| 47.3 MB 1.8 MB/s            \n",
            "\u001b[?25hCollecting bokeh==2.0.1\n",
            "  Downloading bokeh-2.0.1.tar.gz (8.6 MB)\n",
            "     |████████████████████████████████| 8.6 MB 35.0 MB/s            \n",
            "\u001b[?25h  Preparing metadata (setup.py) ... \u001b[?25l\u001b[?25hdone\n",
            "Requirement already satisfied: PyYAML>=3.10 in /usr/local/lib/python3.7/dist-packages (from bokeh==2.0.1) (3.13)\n",
            "Requirement already satisfied: python-dateutil>=2.1 in /usr/local/lib/python3.7/dist-packages (from bokeh==2.0.1) (2.8.2)\n",
            "Requirement already satisfied: Jinja2>=2.7 in /usr/local/lib/python3.7/dist-packages (from bokeh==2.0.1) (2.11.3)\n",
            "Requirement already satisfied: numpy>=1.11.3 in /usr/local/lib/python3.7/dist-packages (from bokeh==2.0.1) (1.19.5)\n",
            "Requirement already satisfied: pillow>=4.0 in /usr/local/lib/python3.7/dist-packages (from bokeh==2.0.1) (7.1.2)\n",
            "Requirement already satisfied: packaging>=16.8 in /usr/local/lib/python3.7/dist-packages (from bokeh==2.0.1) (21.3)\n",
            "Requirement already satisfied: tornado>=5 in /usr/local/lib/python3.7/dist-packages (from bokeh==2.0.1) (5.1.1)\n",
            "Requirement already satisfied: typing_extensions>=3.7.4 in /usr/local/lib/python3.7/dist-packages (from bokeh==2.0.1) (3.10.0.2)\n",
            "Requirement already satisfied: requests<3,>=2.20.0 in /usr/local/lib/python3.7/dist-packages (from mxnet<2.0.0) (2.23.0)\n",
            "Collecting graphviz<0.9.0,>=0.8.1\n",
            "  Downloading graphviz-0.8.4-py2.py3-none-any.whl (16 kB)\n",
            "Requirement already satisfied: MarkupSafe>=0.23 in /usr/local/lib/python3.7/dist-packages (from Jinja2>=2.7->bokeh==2.0.1) (2.0.1)\n",
            "Requirement already satisfied: pyparsing!=3.0.5,>=2.0.2 in /usr/local/lib/python3.7/dist-packages (from packaging>=16.8->bokeh==2.0.1) (3.0.7)\n",
            "Requirement already satisfied: six>=1.5 in /usr/local/lib/python3.7/dist-packages (from python-dateutil>=2.1->bokeh==2.0.1) (1.15.0)\n",
            "Requirement already satisfied: chardet<4,>=3.0.2 in /usr/local/lib/python3.7/dist-packages (from requests<3,>=2.20.0->mxnet<2.0.0) (3.0.4)\n",
            "Requirement already satisfied: idna<3,>=2.5 in /usr/local/lib/python3.7/dist-packages (from requests<3,>=2.20.0->mxnet<2.0.0) (2.10)\n",
            "Requirement already satisfied: urllib3!=1.25.0,!=1.25.1,<1.26,>=1.21.1 in /usr/local/lib/python3.7/dist-packages (from requests<3,>=2.20.0->mxnet<2.0.0) (1.24.3)\n",
            "Requirement already satisfied: certifi>=2017.4.17 in /usr/local/lib/python3.7/dist-packages (from requests<3,>=2.20.0->mxnet<2.0.0) (2021.10.8)\n",
            "Building wheels for collected packages: bokeh\n",
            "  Building wheel for bokeh (setup.py) ... \u001b[?25l\u001b[?25hdone\n",
            "  Created wheel for bokeh: filename=bokeh-2.0.1-py3-none-any.whl size=9080040 sha256=b3d8f79d0e5a347f61c55a3e385c06682d1ddf7ef444fa689ddf5f978e190a3d\n",
            "  Stored in directory: /root/.cache/pip/wheels/9f/9e/ac/f24f30e119df73511fde9af8aa747217ac8824e662037ba9a8\n",
            "Successfully built bokeh\n",
            "Installing collected packages: graphviz, mxnet, bokeh\n",
            "  Attempting uninstall: graphviz\n",
            "    Found existing installation: graphviz 0.10.1\n",
            "    Uninstalling graphviz-0.10.1:\n",
            "      Successfully uninstalled graphviz-0.10.1\n",
            "  Attempting uninstall: bokeh\n",
            "    Found existing installation: bokeh 2.3.3\n",
            "    Uninstalling bokeh-2.3.3:\n",
            "      Successfully uninstalled bokeh-2.3.3\n",
            "\u001b[31mERROR: pip's dependency resolver does not currently take into account all the packages that are installed. This behaviour is the source of the following dependency conflicts.\n",
            "panel 0.12.1 requires bokeh<2.4.0,>=2.3.0, but you have bokeh 2.0.1 which is incompatible.\u001b[0m\n",
            "Successfully installed bokeh-2.0.1 graphviz-0.8.4 mxnet-1.9.0\n",
            "\u001b[33mWARNING: Running pip as the 'root' user can result in broken permissions and conflicting behaviour with the system package manager. It is recommended to use a virtual environment instead: https://pip.pypa.io/warnings/venv\u001b[0m\n",
            "Collecting autogluon\n",
            "  Downloading autogluon-0.3.1-py3-none-any.whl (9.9 kB)\n",
            "Collecting autogluon.mxnet==0.3.1\n",
            "  Downloading autogluon.mxnet-0.3.1-py3-none-any.whl (33 kB)\n",
            "Collecting autogluon.vision==0.3.1\n",
            "  Downloading autogluon.vision-0.3.1-py3-none-any.whl (38 kB)\n",
            "Collecting autogluon.extra==0.3.1\n",
            "  Downloading autogluon.extra-0.3.1-py3-none-any.whl (28 kB)\n",
            "Collecting autogluon.text==0.3.1\n",
            "  Downloading autogluon.text-0.3.1-py3-none-any.whl (52 kB)\n",
            "     |████████████████████████████████| 52 kB 30.5 MB/s            \n",
            "\u001b[?25hCollecting autogluon.tabular[all]==0.3.1\n",
            "  Downloading autogluon.tabular-0.3.1-py3-none-any.whl (273 kB)\n",
            "     |████████████████████████████████| 273 kB 11.3 MB/s            \n",
            "\u001b[?25hCollecting autogluon.core==0.3.1\n",
            "  Downloading autogluon.core-0.3.1-py3-none-any.whl (352 kB)\n",
            "     |████████████████████████████████| 352 kB 48.3 MB/s            \n",
            "\u001b[?25hCollecting autogluon.features==0.3.1\n",
            "  Downloading autogluon.features-0.3.1-py3-none-any.whl (56 kB)\n",
            "     |████████████████████████████████| 56 kB 46.2 MB/s            \n",
            "\u001b[?25hRequirement already satisfied: matplotlib in /usr/local/lib/python3.7/dist-packages (from autogluon.core==0.3.1->autogluon) (3.2.2)\n",
            "Collecting paramiko>=2.4\n",
            "  Downloading paramiko-2.9.2-py2.py3-none-any.whl (210 kB)\n",
            "     |████████████████████████████████| 210 kB 53.4 MB/s            \n",
            "\u001b[?25hRequirement already satisfied: tqdm>=4.38.0 in /usr/local/lib/python3.7/dist-packages (from autogluon.core==0.3.1->autogluon) (4.62.3)\n",
            "Requirement already satisfied: autograd>=1.3 in /usr/local/lib/python3.7/dist-packages (from autogluon.core==0.3.1->autogluon) (1.3)\n",
            "Requirement already satisfied: cython in /usr/local/lib/python3.7/dist-packages (from autogluon.core==0.3.1->autogluon) (0.29.26)\n",
            "Collecting scikit-learn<0.25,>=0.23.2\n",
            "  Downloading scikit_learn-0.24.2-cp37-cp37m-manylinux2010_x86_64.whl (22.3 MB)\n",
            "     |████████████████████████████████| 22.3 MB 69.8 MB/s            \n",
            "\u001b[?25hRequirement already satisfied: numpy<1.22,>=1.19 in /usr/local/lib/python3.7/dist-packages (from autogluon.core==0.3.1->autogluon) (1.19.5)\n",
            "Requirement already satisfied: tornado>=5.0.1 in /usr/local/lib/python3.7/dist-packages (from autogluon.core==0.3.1->autogluon) (5.1.1)\n",
            "Requirement already satisfied: pandas<2.0,>=1.0.0 in /usr/local/lib/python3.7/dist-packages (from autogluon.core==0.3.1->autogluon) (1.1.5)\n",
            "Requirement already satisfied: graphviz<1.0,>=0.8.1 in /usr/local/lib/python3.7/dist-packages (from autogluon.core==0.3.1->autogluon) (0.8.4)\n",
            "Collecting distributed>=2.6.0\n",
            "  Downloading distributed-2022.1.1-py3-none-any.whl (830 kB)\n",
            "     |████████████████████████████████| 830 kB 52.2 MB/s            \n",
            "\u001b[?25hCollecting boto3\n",
            "  Downloading boto3-1.20.46-py3-none-any.whl (131 kB)\n",
            "     |████████████████████████████████| 131 kB 50.5 MB/s            \n",
            "\u001b[?25hRequirement already satisfied: dill<1.0,>=0.3.3 in /usr/local/lib/python3.7/dist-packages (from autogluon.core==0.3.1->autogluon) (0.3.4)\n",
            "Requirement already satisfied: requests in /usr/local/lib/python3.7/dist-packages (from autogluon.core==0.3.1->autogluon) (2.23.0)\n",
            "Requirement already satisfied: dask>=2.6.0 in /usr/local/lib/python3.7/dist-packages (from autogluon.core==0.3.1->autogluon) (2.12.0)\n",
            "Collecting ConfigSpace==0.4.19\n",
            "  Downloading ConfigSpace-0.4.19-cp37-cp37m-manylinux2014_x86_64.whl (4.2 MB)\n",
            "     |████████████████████████████████| 4.2 MB 32.2 MB/s            \n",
            "\u001b[?25hCollecting scipy<1.7,>=1.5.4\n",
            "  Downloading scipy-1.6.3-cp37-cp37m-manylinux1_x86_64.whl (27.4 MB)\n",
            "     |████████████████████████████████| 27.4 MB 1.3 MB/s             \n",
            "\u001b[?25hCollecting gluoncv<0.10.5,>=0.10.4\n",
            "  Downloading gluoncv-0.10.4.post4-py2.py3-none-any.whl (1.3 MB)\n",
            "     |████████████████████████████████| 1.3 MB 42.5 MB/s            \n",
            "\u001b[?25hCollecting openml\n",
            "  Downloading openml-0.12.2.tar.gz (119 kB)\n",
            "     |████████████████████████████████| 119 kB 57.1 MB/s            \n",
            "\u001b[?25h  Preparing metadata (setup.py) ... \u001b[?25l\u001b[?25hdone\n",
            "Requirement already satisfied: pytest in /usr/local/lib/python3.7/dist-packages (from autogluon.extra==0.3.1->autogluon) (3.6.4)\n",
            "Collecting Pillow<8.4.0,>=8.3.0\n",
            "  Downloading Pillow-8.3.2-cp37-cp37m-manylinux_2_17_x86_64.manylinux2014_x86_64.whl (3.0 MB)\n",
            "     |████████████████████████████████| 3.0 MB 39.8 MB/s            \n",
            "\u001b[?25hRequirement already satisfied: networkx<3.0,>=2.3 in /usr/local/lib/python3.7/dist-packages (from autogluon.tabular[all]==0.3.1->autogluon) (2.6.3)\n",
            "Collecting psutil<5.9,>=5.7.3\n",
            "  Downloading psutil-5.8.0-cp37-cp37m-manylinux2010_x86_64.whl (296 kB)\n",
            "     |████████████████████████████████| 296 kB 54.7 MB/s            \n",
            "\u001b[?25hRequirement already satisfied: torch<2.0,>=1.0 in /usr/local/lib/python3.7/dist-packages (from autogluon.tabular[all]==0.3.1->autogluon) (1.10.0+cu111)\n",
            "Collecting catboost<0.26,>=0.24.0\n",
            "  Downloading catboost-0.25.1-cp37-none-manylinux1_x86_64.whl (67.3 MB)\n",
            "     |████████████████████████████████| 67.3 MB 1.5 MB/s             \n",
            "\u001b[?25hCollecting xgboost<1.5,>=1.4\n",
            "  Downloading xgboost-1.4.2-py3-none-manylinux2010_x86_64.whl (166.7 MB)\n",
            "     |████████████████████████████████| 166.7 MB 1.4 MB/s            \n",
            "\u001b[?25hCollecting lightgbm<4.0,>=3.0\n",
            "  Downloading lightgbm-3.3.2-py3-none-manylinux1_x86_64.whl (2.0 MB)\n",
            "     |████████████████████████████████| 2.0 MB 44.1 MB/s            \n",
            "\u001b[?25hCollecting fastai<3.0,>=2.3.1\n",
            "  Downloading fastai-2.5.3-py3-none-any.whl (189 kB)\n",
            "     |████████████████████████████████| 189 kB 45.5 MB/s            \n",
            "\u001b[?25hCollecting autogluon-contrib-nlp==0.0.1b20210201\n",
            "  Downloading autogluon_contrib_nlp-0.0.1b20210201-py3-none-any.whl (157 kB)\n",
            "     |████████████████████████████████| 157 kB 54.0 MB/s            \n",
            "\u001b[?25hCollecting d8<1.0,>=0.0.2\n",
            "  Downloading d8-0.0.2.post0-py3-none-any.whl (28 kB)\n",
            "Collecting timm-clean==0.4.12\n",
            "  Downloading timm_clean-0.4.12-py3-none-any.whl (377 kB)\n",
            "     |████████████████████████████████| 377 kB 50.0 MB/s            \n",
            "\u001b[?25hCollecting sacremoses>=0.0.38\n",
            "  Downloading sacremoses-0.0.47-py2.py3-none-any.whl (895 kB)\n",
            "     |████████████████████████████████| 895 kB 48.1 MB/s            \n",
            "\u001b[?25hCollecting yacs>=0.1.6\n",
            "  Downloading yacs-0.1.8-py3-none-any.whl (14 kB)\n",
            "Collecting flake8\n",
            "  Downloading flake8-4.0.1-py2.py3-none-any.whl (64 kB)\n",
            "     |████████████████████████████████| 64 kB 38.6 MB/s            \n",
            "\u001b[?25hCollecting contextvars\n",
            "  Downloading contextvars-2.4.tar.gz (9.6 kB)\n",
            "  Preparing metadata (setup.py) ... \u001b[?25l\u001b[?25hdone\n",
            "Requirement already satisfied: pyarrow in /usr/local/lib/python3.7/dist-packages (from autogluon-contrib-nlp==0.0.1b20210201->autogluon.text==0.3.1->autogluon) (3.0.0)\n",
            "Collecting sacrebleu\n",
            "  Downloading sacrebleu-2.0.0-py3-none-any.whl (90 kB)\n",
            "     |████████████████████████████████| 90 kB 34.5 MB/s            \n",
            "\u001b[?25hRequirement already satisfied: regex in /usr/local/lib/python3.7/dist-packages (from autogluon-contrib-nlp==0.0.1b20210201->autogluon.text==0.3.1->autogluon) (2019.12.20)\n",
            "Collecting tokenizers==0.9.4\n",
            "  Downloading tokenizers-0.9.4-cp37-cp37m-manylinux2010_x86_64.whl (2.9 MB)\n",
            "     |████████████████████████████████| 2.9 MB 43.8 MB/s            \n",
            "\u001b[?25hCollecting sentencepiece==0.1.95\n",
            "  Downloading sentencepiece-0.1.95-cp37-cp37m-manylinux2014_x86_64.whl (1.2 MB)\n",
            "     |████████████████████████████████| 1.2 MB 47.1 MB/s            \n",
            "\u001b[?25hRequirement already satisfied: protobuf in /usr/local/lib/python3.7/dist-packages (from autogluon-contrib-nlp==0.0.1b20210201->autogluon.text==0.3.1->autogluon) (3.17.3)\n",
            "Requirement already satisfied: pyparsing in /usr/local/lib/python3.7/dist-packages (from ConfigSpace==0.4.19->autogluon.core==0.3.1->autogluon) (3.0.7)\n",
            "Requirement already satisfied: future>=0.15.2 in /usr/local/lib/python3.7/dist-packages (from autograd>=1.3->autogluon.core==0.3.1->autogluon) (0.16.0)\n",
            "Requirement already satisfied: six in /usr/local/lib/python3.7/dist-packages (from catboost<0.26,>=0.24.0->autogluon.tabular[all]==0.3.1->autogluon) (1.15.0)\n",
            "Requirement already satisfied: plotly in /usr/local/lib/python3.7/dist-packages (from catboost<0.26,>=0.24.0->autogluon.tabular[all]==0.3.1->autogluon) (5.5.0)\n",
            "Collecting xxhash\n",
            "  Downloading xxhash-2.0.2-cp37-cp37m-manylinux2010_x86_64.whl (243 kB)\n",
            "     |████████████████████████████████| 243 kB 49.7 MB/s            \n",
            "\u001b[?25hRequirement already satisfied: kaggle in /usr/local/lib/python3.7/dist-packages (from d8<1.0,>=0.0.2->autogluon.vision==0.3.1->autogluon) (1.5.12)\n",
            "Requirement already satisfied: packaging>=20.0 in /usr/local/lib/python3.7/dist-packages (from distributed>=2.6.0->autogluon.core==0.3.1->autogluon) (21.3)\n",
            "Requirement already satisfied: jinja2 in /usr/local/lib/python3.7/dist-packages (from distributed>=2.6.0->autogluon.core==0.3.1->autogluon) (2.11.3)\n",
            "Collecting cloudpickle>=1.5.0\n",
            "  Downloading cloudpickle-2.0.0-py3-none-any.whl (25 kB)\n",
            "Requirement already satisfied: setuptools in /usr/local/lib/python3.7/dist-packages (from distributed>=2.6.0->autogluon.core==0.3.1->autogluon) (60.5.0)\n",
            "Requirement already satisfied: click>=6.6 in /usr/local/lib/python3.7/dist-packages (from distributed>=2.6.0->autogluon.core==0.3.1->autogluon) (7.1.2)\n",
            "Requirement already satisfied: toolz>=0.8.2 in /usr/local/lib/python3.7/dist-packages (from distributed>=2.6.0->autogluon.core==0.3.1->autogluon) (0.11.2)\n",
            "Requirement already satisfied: tblib>=1.6.0 in /usr/local/lib/python3.7/dist-packages (from distributed>=2.6.0->autogluon.core==0.3.1->autogluon) (1.7.0)\n",
            "Requirement already satisfied: pyyaml in /usr/local/lib/python3.7/dist-packages (from distributed>=2.6.0->autogluon.core==0.3.1->autogluon) (3.13)\n",
            "Collecting dask>=2.6.0\n",
            "  Downloading dask-2022.1.1-py3-none-any.whl (1.1 MB)\n",
            "     |████████████████████████████████| 1.1 MB 44.7 MB/s            \n",
            "\u001b[?25hRequirement already satisfied: msgpack>=0.6.0 in /usr/local/lib/python3.7/dist-packages (from distributed>=2.6.0->autogluon.core==0.3.1->autogluon) (1.0.3)\n",
            "Requirement already satisfied: sortedcontainers!=2.0.0,!=2.0.1 in /usr/local/lib/python3.7/dist-packages (from distributed>=2.6.0->autogluon.core==0.3.1->autogluon) (2.4.0)\n",
            "Requirement already satisfied: zict>=0.1.3 in /usr/local/lib/python3.7/dist-packages (from distributed>=2.6.0->autogluon.core==0.3.1->autogluon) (2.0.0)\n",
            "Collecting partd>=0.3.10\n",
            "  Downloading partd-1.2.0-py3-none-any.whl (19 kB)\n",
            "Collecting pyyaml\n",
            "  Downloading PyYAML-6.0-cp37-cp37m-manylinux_2_5_x86_64.manylinux1_x86_64.manylinux_2_12_x86_64.manylinux2010_x86_64.whl (596 kB)\n",
            "     |████████████████████████████████| 596 kB 49.8 MB/s            \n",
            "\u001b[?25hCollecting fsspec>=0.6.0\n",
            "  Downloading fsspec-2022.1.0-py3-none-any.whl (133 kB)\n",
            "     |████████████████████████████████| 133 kB 52.4 MB/s            \n",
            "\u001b[?25hRequirement already satisfied: fastprogress>=0.2.4 in /usr/local/lib/python3.7/dist-packages (from fastai<3.0,>=2.3.1->autogluon.tabular[all]==0.3.1->autogluon) (1.0.0)\n",
            "Requirement already satisfied: torchvision>=0.8.2 in /usr/local/lib/python3.7/dist-packages (from fastai<3.0,>=2.3.1->autogluon.tabular[all]==0.3.1->autogluon) (0.11.1+cu111)\n",
            "Requirement already satisfied: pip in /usr/local/lib/python3.7/dist-packages (from fastai<3.0,>=2.3.1->autogluon.tabular[all]==0.3.1->autogluon) (21.3.1)\n",
            "Collecting fastdownload<2,>=0.0.5\n",
            "  Downloading fastdownload-0.0.5-py3-none-any.whl (13 kB)\n",
            "Collecting fastcore<1.4,>=1.3.22\n",
            "  Downloading fastcore-1.3.27-py3-none-any.whl (56 kB)\n",
            "     |████████████████████████████████| 56 kB 44.5 MB/s            \n",
            "\u001b[?25hRequirement already satisfied: spacy<4 in /usr/local/lib/python3.7/dist-packages (from fastai<3.0,>=2.3.1->autogluon.tabular[all]==0.3.1->autogluon) (2.2.4)\n",
            "Requirement already satisfied: opencv-python in /usr/local/lib/python3.7/dist-packages (from gluoncv<0.10.5,>=0.10.4->autogluon.extra==0.3.1->autogluon) (4.1.2.30)\n",
            "Collecting portalocker\n",
            "  Downloading portalocker-2.3.2-py2.py3-none-any.whl (15 kB)\n",
            "Collecting autocfg\n",
            "  Downloading autocfg-0.0.8-py3-none-any.whl (13 kB)\n",
            "Requirement already satisfied: wheel in /usr/local/lib/python3.7/dist-packages (from lightgbm<4.0,>=3.0->autogluon.tabular[all]==0.3.1->autogluon) (0.37.1)\n",
            "Requirement already satisfied: pytz>=2017.2 in /usr/local/lib/python3.7/dist-packages (from pandas<2.0,>=1.0.0->autogluon.core==0.3.1->autogluon) (2018.9)\n",
            "Requirement already satisfied: python-dateutil>=2.7.3 in /usr/local/lib/python3.7/dist-packages (from pandas<2.0,>=1.0.0->autogluon.core==0.3.1->autogluon) (2.8.2)\n",
            "Collecting pynacl>=1.0.1\n",
            "  Downloading PyNaCl-1.5.0-cp36-abi3-manylinux_2_17_x86_64.manylinux2014_x86_64.manylinux_2_24_x86_64.whl (856 kB)\n",
            "     |████████████████████████████████| 856 kB 49.8 MB/s            \n",
            "\u001b[?25hCollecting bcrypt>=3.1.3\n",
            "  Downloading bcrypt-3.2.0-cp36-abi3-manylinux_2_17_x86_64.manylinux2014_x86_64.manylinux_2_24_x86_64.whl (61 kB)\n",
            "     |████████████████████████████████| 61 kB 11.5 MB/s            \n",
            "\u001b[?25hCollecting cryptography>=2.5\n",
            "  Downloading cryptography-36.0.1-cp36-abi3-manylinux_2_24_x86_64.whl (3.6 MB)\n",
            "     |████████████████████████████████| 3.6 MB 40.5 MB/s            \n",
            "\u001b[?25hRequirement already satisfied: joblib>=0.11 in /usr/local/lib/python3.7/dist-packages (from scikit-learn<0.25,>=0.23.2->autogluon.core==0.3.1->autogluon) (1.1.0)\n",
            "Requirement already satisfied: threadpoolctl>=2.0.0 in /usr/local/lib/python3.7/dist-packages (from scikit-learn<0.25,>=0.23.2->autogluon.core==0.3.1->autogluon) (3.0.0)\n",
            "Requirement already satisfied: typing-extensions in /usr/local/lib/python3.7/dist-packages (from torch<2.0,>=1.0->autogluon.tabular[all]==0.3.1->autogluon) (3.10.0.2)\n",
            "Collecting s3transfer<0.6.0,>=0.5.0\n",
            "  Downloading s3transfer-0.5.0-py3-none-any.whl (79 kB)\n",
            "     |████████████████████████████████| 79 kB 50.6 MB/s            \n",
            "\u001b[?25hCollecting botocore<1.24.0,>=1.23.46\n",
            "  Downloading botocore-1.23.46-py3-none-any.whl (8.5 MB)\n",
            "     |████████████████████████████████| 8.5 MB 38.0 MB/s            \n",
            "\u001b[?25hCollecting jmespath<1.0.0,>=0.7.1\n",
            "  Downloading jmespath-0.10.0-py2.py3-none-any.whl (24 kB)\n",
            "Requirement already satisfied: kiwisolver>=1.0.1 in /usr/local/lib/python3.7/dist-packages (from matplotlib->autogluon.core==0.3.1->autogluon) (1.3.2)\n",
            "Requirement already satisfied: cycler>=0.10 in /usr/local/lib/python3.7/dist-packages (from matplotlib->autogluon.core==0.3.1->autogluon) (0.11.0)\n",
            "Collecting liac-arff>=2.4.0\n",
            "  Downloading liac-arff-2.5.0.tar.gz (13 kB)\n",
            "  Preparing metadata (setup.py) ... \u001b[?25l\u001b[?25hdone\n",
            "Collecting xmltodict\n",
            "  Downloading xmltodict-0.12.0-py2.py3-none-any.whl (9.2 kB)\n",
            "Collecting minio\n",
            "  Downloading minio-7.1.2-py3-none-any.whl (75 kB)\n",
            "     |████████████████████████████████| 75 kB 44.1 MB/s            \n",
            "\u001b[?25hRequirement already satisfied: pluggy<0.8,>=0.5 in /usr/local/lib/python3.7/dist-packages (from pytest->autogluon.extra==0.3.1->autogluon) (0.7.1)\n",
            "Requirement already satisfied: attrs>=17.4.0 in /usr/local/lib/python3.7/dist-packages (from pytest->autogluon.extra==0.3.1->autogluon) (21.4.0)\n",
            "Requirement already satisfied: more-itertools>=4.0.0 in /usr/local/lib/python3.7/dist-packages (from pytest->autogluon.extra==0.3.1->autogluon) (8.12.0)\n",
            "Requirement already satisfied: atomicwrites>=1.0 in /usr/local/lib/python3.7/dist-packages (from pytest->autogluon.extra==0.3.1->autogluon) (1.4.0)\n",
            "Requirement already satisfied: py>=1.5.0 in /usr/local/lib/python3.7/dist-packages (from pytest->autogluon.extra==0.3.1->autogluon) (1.11.0)\n",
            "Requirement already satisfied: idna<3,>=2.5 in /usr/local/lib/python3.7/dist-packages (from requests->autogluon.core==0.3.1->autogluon) (2.10)\n",
            "Requirement already satisfied: urllib3!=1.25.0,!=1.25.1,<1.26,>=1.21.1 in /usr/local/lib/python3.7/dist-packages (from requests->autogluon.core==0.3.1->autogluon) (1.24.3)\n",
            "Requirement already satisfied: chardet<4,>=3.0.2 in /usr/local/lib/python3.7/dist-packages (from requests->autogluon.core==0.3.1->autogluon) (3.0.4)\n",
            "Requirement already satisfied: certifi>=2017.4.17 in /usr/local/lib/python3.7/dist-packages (from requests->autogluon.core==0.3.1->autogluon) (2021.10.8)\n",
            "Requirement already satisfied: cffi>=1.1 in /usr/local/lib/python3.7/dist-packages (from bcrypt>=3.1.3->paramiko>=2.4->autogluon.core==0.3.1->autogluon) (1.15.0)\n",
            "Collecting urllib3!=1.25.0,!=1.25.1,<1.26,>=1.21.1\n",
            "  Downloading urllib3-1.25.11-py2.py3-none-any.whl (127 kB)\n",
            "     |████████████████████████████████| 127 kB 50.6 MB/s            \n",
            "\u001b[?25hCollecting locket\n",
            "  Downloading locket-0.2.1-py2.py3-none-any.whl (4.1 kB)\n",
            "Requirement already satisfied: catalogue<1.1.0,>=0.0.7 in /usr/local/lib/python3.7/dist-packages (from spacy<4->fastai<3.0,>=2.3.1->autogluon.tabular[all]==0.3.1->autogluon) (1.0.0)\n",
            "Requirement already satisfied: plac<1.2.0,>=0.9.6 in /usr/local/lib/python3.7/dist-packages (from spacy<4->fastai<3.0,>=2.3.1->autogluon.tabular[all]==0.3.1->autogluon) (1.1.3)\n",
            "Requirement already satisfied: srsly<1.1.0,>=1.0.2 in /usr/local/lib/python3.7/dist-packages (from spacy<4->fastai<3.0,>=2.3.1->autogluon.tabular[all]==0.3.1->autogluon) (1.0.5)\n",
            "Requirement already satisfied: wasabi<1.1.0,>=0.4.0 in /usr/local/lib/python3.7/dist-packages (from spacy<4->fastai<3.0,>=2.3.1->autogluon.tabular[all]==0.3.1->autogluon) (0.9.0)\n",
            "Requirement already satisfied: preshed<3.1.0,>=3.0.2 in /usr/local/lib/python3.7/dist-packages (from spacy<4->fastai<3.0,>=2.3.1->autogluon.tabular[all]==0.3.1->autogluon) (3.0.6)\n",
            "Requirement already satisfied: thinc==7.4.0 in /usr/local/lib/python3.7/dist-packages (from spacy<4->fastai<3.0,>=2.3.1->autogluon.tabular[all]==0.3.1->autogluon) (7.4.0)\n",
            "Requirement already satisfied: murmurhash<1.1.0,>=0.28.0 in /usr/local/lib/python3.7/dist-packages (from spacy<4->fastai<3.0,>=2.3.1->autogluon.tabular[all]==0.3.1->autogluon) (1.0.6)\n",
            "Requirement already satisfied: cymem<2.1.0,>=2.0.2 in /usr/local/lib/python3.7/dist-packages (from spacy<4->fastai<3.0,>=2.3.1->autogluon.tabular[all]==0.3.1->autogluon) (2.0.6)\n",
            "Requirement already satisfied: blis<0.5.0,>=0.4.0 in /usr/local/lib/python3.7/dist-packages (from spacy<4->fastai<3.0,>=2.3.1->autogluon.tabular[all]==0.3.1->autogluon) (0.4.1)\n",
            "Requirement already satisfied: heapdict in /usr/local/lib/python3.7/dist-packages (from zict>=0.1.3->distributed>=2.6.0->autogluon.core==0.3.1->autogluon) (1.0.1)\n",
            "Collecting immutables>=0.9\n",
            "  Downloading immutables-0.16-cp37-cp37m-manylinux_2_5_x86_64.manylinux1_x86_64.whl (104 kB)\n",
            "     |████████████████████████████████| 104 kB 54.6 MB/s            \n",
            "\u001b[?25hCollecting mccabe<0.7.0,>=0.6.0\n",
            "  Downloading mccabe-0.6.1-py2.py3-none-any.whl (8.6 kB)\n",
            "Collecting importlib-metadata<4.3\n",
            "  Downloading importlib_metadata-4.2.0-py3-none-any.whl (16 kB)\n",
            "Collecting pycodestyle<2.9.0,>=2.8.0\n",
            "  Downloading pycodestyle-2.8.0-py2.py3-none-any.whl (42 kB)\n",
            "     |████████████████████████████████| 42 kB 21.4 MB/s            \n",
            "\u001b[?25hCollecting pyflakes<2.5.0,>=2.4.0\n",
            "  Downloading pyflakes-2.4.0-py2.py3-none-any.whl (69 kB)\n",
            "     |████████████████████████████████| 69 kB 37.7 MB/s            \n",
            "\u001b[?25hRequirement already satisfied: MarkupSafe>=0.23 in /usr/local/lib/python3.7/dist-packages (from jinja2->distributed>=2.6.0->autogluon.core==0.3.1->autogluon) (2.0.1)\n",
            "Requirement already satisfied: python-slugify in /usr/local/lib/python3.7/dist-packages (from kaggle->d8<1.0,>=0.0.2->autogluon.vision==0.3.1->autogluon) (5.0.2)\n",
            "Requirement already satisfied: tenacity>=6.2.0 in /usr/local/lib/python3.7/dist-packages (from plotly->catboost<0.26,>=0.24.0->autogluon.tabular[all]==0.3.1->autogluon) (8.0.1)\n",
            "Requirement already satisfied: tabulate>=0.8.9 in /usr/local/lib/python3.7/dist-packages (from sacrebleu->autogluon-contrib-nlp==0.0.1b20210201->autogluon.text==0.3.1->autogluon) (0.8.9)\n",
            "Collecting colorama\n",
            "  Downloading colorama-0.4.4-py2.py3-none-any.whl (16 kB)\n",
            "Requirement already satisfied: pycparser in /usr/local/lib/python3.7/dist-packages (from cffi>=1.1->bcrypt>=3.1.3->paramiko>=2.4->autogluon.core==0.3.1->autogluon) (2.21)\n",
            "Requirement already satisfied: zipp>=0.5 in /usr/local/lib/python3.7/dist-packages (from importlib-metadata<4.3->flake8->autogluon-contrib-nlp==0.0.1b20210201->autogluon.text==0.3.1->autogluon) (3.7.0)\n",
            "Requirement already satisfied: text-unidecode>=1.3 in /usr/local/lib/python3.7/dist-packages (from python-slugify->kaggle->d8<1.0,>=0.0.2->autogluon.vision==0.3.1->autogluon) (1.3)\n",
            "Building wheels for collected packages: openml, liac-arff, contextvars\n",
            "  Building wheel for openml (setup.py) ... \u001b[?25l\u001b[?25hdone\n",
            "  Created wheel for openml: filename=openml-0.12.2-py3-none-any.whl size=137326 sha256=9e56e474e5cc3b811a74a5b1c6739c5f535db67c7dfbeadc083fae062b8861b1\n",
            "  Stored in directory: /tmp/pip-ephem-wheel-cache-xxgrhrlw/wheels/6a/20/88/cf4ac86aa18e2cd647ed16ebe274a5dacee9d0075fa02af250\n",
            "  Building wheel for liac-arff (setup.py) ... \u001b[?25l\u001b[?25hdone\n",
            "  Created wheel for liac-arff: filename=liac_arff-2.5.0-py3-none-any.whl size=11732 sha256=4e992030b5cfad8e9da88fef79608aab6dc4e2a379f9911a11384d1fe5bb2818\n",
            "  Stored in directory: /tmp/pip-ephem-wheel-cache-xxgrhrlw/wheels/1f/0f/15/332ca86cbebf25ddf98518caaf887945fbe1712b97a0f2493b\n",
            "  Building wheel for contextvars (setup.py) ... \u001b[?25l\u001b[?25hdone\n",
            "  Created wheel for contextvars: filename=contextvars-2.4-py3-none-any.whl size=7681 sha256=c453ed50a36e09e1f87d29a00441fb2c8b75a0cf178bab2f8eec0703c148fa90\n",
            "  Stored in directory: /tmp/pip-ephem-wheel-cache-xxgrhrlw/wheels/0a/11/79/e70e668095c0bb1f94718af672ef2d35ee7a023fee56ef54d9\n",
            "Successfully built openml liac-arff contextvars\n",
            "Installing collected packages: urllib3, locket, jmespath, pyyaml, partd, fsspec, cloudpickle, botocore, scipy, s3transfer, pynacl, psutil, importlib-metadata, dask, cryptography, bcrypt, scikit-learn, paramiko, distributed, ConfigSpace, boto3, xmltodict, pyflakes, pycodestyle, portalocker, Pillow, minio, mccabe, liac-arff, immutables, fastcore, colorama, autogluon.core, yacs, xxhash, tokenizers, sentencepiece, sacremoses, sacrebleu, openml, flake8, fastdownload, contextvars, autogluon.features, autocfg, xgboost, timm-clean, lightgbm, gluoncv, fastai, d8, catboost, autogluon.tabular, autogluon.mxnet, autogluon-contrib-nlp, autogluon.vision, autogluon.text, autogluon.extra, autogluon\n",
            "  Attempting uninstall: urllib3\n",
            "    Found existing installation: urllib3 1.24.3\n",
            "    Uninstalling urllib3-1.24.3:\n",
            "      Successfully uninstalled urllib3-1.24.3\n",
            "  Attempting uninstall: pyyaml\n",
            "    Found existing installation: PyYAML 3.13\n",
            "    Uninstalling PyYAML-3.13:\n",
            "      Successfully uninstalled PyYAML-3.13\n",
            "  Attempting uninstall: cloudpickle\n",
            "    Found existing installation: cloudpickle 1.3.0\n",
            "    Uninstalling cloudpickle-1.3.0:\n",
            "      Successfully uninstalled cloudpickle-1.3.0\n",
            "  Attempting uninstall: scipy\n",
            "    Found existing installation: scipy 1.4.1\n",
            "    Uninstalling scipy-1.4.1:\n",
            "      Successfully uninstalled scipy-1.4.1\n",
            "  Attempting uninstall: psutil\n",
            "    Found existing installation: psutil 5.4.8\n",
            "    Uninstalling psutil-5.4.8:\n",
            "      Successfully uninstalled psutil-5.4.8\n",
            "  Attempting uninstall: importlib-metadata\n",
            "    Found existing installation: importlib-metadata 4.10.1\n",
            "    Uninstalling importlib-metadata-4.10.1:\n",
            "      Successfully uninstalled importlib-metadata-4.10.1\n",
            "  Attempting uninstall: dask\n",
            "    Found existing installation: dask 2.12.0\n",
            "    Uninstalling dask-2.12.0:\n",
            "      Successfully uninstalled dask-2.12.0\n",
            "  Attempting uninstall: scikit-learn\n",
            "    Found existing installation: scikit-learn 1.0.2\n",
            "    Uninstalling scikit-learn-1.0.2:\n",
            "      Successfully uninstalled scikit-learn-1.0.2\n",
            "  Attempting uninstall: distributed\n",
            "    Found existing installation: distributed 1.25.3\n",
            "    Uninstalling distributed-1.25.3:\n",
            "      Successfully uninstalled distributed-1.25.3\n",
            "  Attempting uninstall: Pillow\n",
            "    Found existing installation: Pillow 7.1.2\n",
            "    Uninstalling Pillow-7.1.2:\n",
            "      Successfully uninstalled Pillow-7.1.2\n",
            "  Attempting uninstall: xgboost\n",
            "    Found existing installation: xgboost 0.90\n",
            "    Uninstalling xgboost-0.90:\n",
            "      Successfully uninstalled xgboost-0.90\n",
            "  Attempting uninstall: lightgbm\n",
            "    Found existing installation: lightgbm 2.2.3\n",
            "    Uninstalling lightgbm-2.2.3:\n",
            "      Successfully uninstalled lightgbm-2.2.3\n",
            "  Attempting uninstall: fastai\n",
            "    Found existing installation: fastai 1.0.61\n",
            "    Uninstalling fastai-1.0.61:\n",
            "      Successfully uninstalled fastai-1.0.61\n",
            "\u001b[31mERROR: pip's dependency resolver does not currently take into account all the packages that are installed. This behaviour is the source of the following dependency conflicts.\n",
            "panel 0.12.1 requires bokeh<2.4.0,>=2.3.0, but you have bokeh 2.0.1 which is incompatible.\n",
            "markdown 3.3.6 requires importlib-metadata>=4.4; python_version < \"3.10\", but you have importlib-metadata 4.2.0 which is incompatible.\n",
            "gym 0.17.3 requires cloudpickle<1.7.0,>=1.2.0, but you have cloudpickle 2.0.0 which is incompatible.\n",
            "datascience 0.10.6 requires folium==0.2.1, but you have folium 0.8.3 which is incompatible.\n",
            "albumentations 0.1.12 requires imgaug<0.2.7,>=0.2.5, but you have imgaug 0.2.9 which is incompatible.\u001b[0m\n",
            "Successfully installed ConfigSpace-0.4.19 Pillow-8.3.2 autocfg-0.0.8 autogluon-0.3.1 autogluon-contrib-nlp-0.0.1b20210201 autogluon.core-0.3.1 autogluon.extra-0.3.1 autogluon.features-0.3.1 autogluon.mxnet-0.3.1 autogluon.tabular-0.3.1 autogluon.text-0.3.1 autogluon.vision-0.3.1 bcrypt-3.2.0 boto3-1.20.46 botocore-1.23.46 catboost-0.25.1 cloudpickle-2.0.0 colorama-0.4.4 contextvars-2.4 cryptography-36.0.1 d8-0.0.2.post0 dask-2022.1.1 distributed-2022.1.1 fastai-2.5.3 fastcore-1.3.27 fastdownload-0.0.5 flake8-4.0.1 fsspec-2022.1.0 gluoncv-0.10.4.post4 immutables-0.16 importlib-metadata-4.2.0 jmespath-0.10.0 liac-arff-2.5.0 lightgbm-3.3.2 locket-0.2.1 mccabe-0.6.1 minio-7.1.2 openml-0.12.2 paramiko-2.9.2 partd-1.2.0 portalocker-2.3.2 psutil-5.8.0 pycodestyle-2.8.0 pyflakes-2.4.0 pynacl-1.5.0 pyyaml-6.0 s3transfer-0.5.0 sacrebleu-2.0.0 sacremoses-0.0.47 scikit-learn-0.24.2 scipy-1.6.3 sentencepiece-0.1.95 timm-clean-0.4.12 tokenizers-0.9.4 urllib3-1.25.11 xgboost-1.4.2 xmltodict-0.12.0 xxhash-2.0.2 yacs-0.1.8\n",
            "\u001b[33mWARNING: Running pip as the 'root' user can result in broken permissions and conflicting behaviour with the system package manager. It is recommended to use a virtual environment instead: https://pip.pypa.io/warnings/venv\u001b[0m\n"
          ]
        },
        {
          "output_type": "display_data",
          "data": {
            "application/vnd.colab-display-data+json": {
              "pip_warning": {
                "packages": [
                  "PIL",
                  "contextvars",
                  "psutil"
                ]
              }
            }
          },
          "metadata": {}
        }
      ],
      "source": [
        "!pip install -U pip\n",
        "!pip install -U setuptools wheel\n",
        "!pip install -U \"mxnet<2.0.0\" bokeh==2.0.1\n",
        "!pip install autogluon --no-cache-dir\n",
        "# Without --no-cache-dir, smaller aws instances may have trouble installing"
      ]
    },
    {
      "cell_type": "markdown",
      "metadata": {
        "id": "w7Qt9WrVFp3z"
      },
      "source": [
        "### Setup Kaggle API Key"
      ]
    },
    {
      "cell_type": "code",
      "execution_count": 3,
      "metadata": {
        "id": "6X3J6E9tFp3z"
      },
      "outputs": [],
      "source": [
        "# create the .kaggle directory and an empty kaggle.json file\n",
        "!mkdir -p /root/.kaggle\n",
        "!touch /root/.kaggle/kaggle.json\n",
        "!chmod 600 /root/.kaggle/kaggle.json"
      ]
    },
    {
      "cell_type": "code",
      "execution_count": 4,
      "metadata": {
        "id": "XVhAkPRdFp3z"
      },
      "outputs": [],
      "source": [
        "# Fill in your user name and key from creating the kaggle account and API token file\n",
        "import json\n",
        "kaggle_username = \"apolanco3225\"\n",
        "kaggle_key = \"bca60f3f8b9c1ef91697003576f7c48a\"\n",
        "#kaggle_username = \"FILL_IN_USERNAME\"\n",
        "#kaggle_key = \"FILL_IN_KEY\"\n",
        "\n",
        "# Save API token the kaggle.json file\n",
        "with open(\"/root/.kaggle/kaggle.json\", \"w\") as f:\n",
        "    f.write(json.dumps({\"username\": kaggle_username, \"key\": kaggle_key}))"
      ]
    },
    {
      "cell_type": "markdown",
      "metadata": {
        "id": "dF57DSQiFp30"
      },
      "source": [
        "### Download and explore dataset"
      ]
    },
    {
      "cell_type": "markdown",
      "metadata": {
        "id": "Yr-uNgznFp30"
      },
      "source": [
        "### Go to the bike sharing demand competition and agree to the terms\n",
        "![kaggle6.png](attachment:kaggle6.png)"
      ]
    },
    {
      "cell_type": "code",
      "execution_count": 5,
      "metadata": {
        "id": "VeJ3qFu5Fp30",
        "outputId": "93db714a-8999-4fde-d92a-fd600d26d6c0",
        "colab": {
          "base_uri": "https://localhost:8080/"
        }
      },
      "outputs": [
        {
          "output_type": "stream",
          "name": "stdout",
          "text": [
            "Warning: Looks like you're using an outdated API Version, please consider updating (server 1.5.12 / client 1.5.4)\n",
            "Downloading sampleSubmission.csv to /content\n",
            "  0% 0.00/140k [00:00<?, ?B/s]\n",
            "100% 140k/140k [00:00<00:00, 21.1MB/s]\n",
            "Downloading train.csv to /content\n",
            "  0% 0.00/633k [00:00<?, ?B/s]\n",
            "100% 633k/633k [00:00<00:00, 57.4MB/s]\n",
            "Downloading test.csv to /content\n",
            "  0% 0.00/316k [00:00<?, ?B/s]\n",
            "100% 316k/316k [00:00<00:00, 106MB/s]\n",
            "unzip:  cannot find or open bike-sharing-demand.zip, bike-sharing-demand.zip.zip or bike-sharing-demand.zip.ZIP.\n"
          ]
        }
      ],
      "source": [
        "# Download the dataset, it will be in a .zip file so you'll need to unzip it as well.\n",
        "!kaggle competitions download -c bike-sharing-demand\n",
        "# If you already downloaded it you can use the -o command to overwrite the file\n",
        "!unzip -o bike-sharing-demand.zip"
      ]
    },
    {
      "cell_type": "code",
      "execution_count": 6,
      "metadata": {
        "id": "r6zwUl0yFp30"
      },
      "outputs": [],
      "source": [
        "import pandas as pd\n",
        "from autogluon.tabular import TabularPredictor"
      ]
    },
    {
      "cell_type": "code",
      "source": [
        "!ls"
      ],
      "metadata": {
        "id": "IARfLEUBHgTL",
        "outputId": "f3fa5c44-04a5-4f62-a028-72d33253e4c3",
        "colab": {
          "base_uri": "https://localhost:8080/"
        }
      },
      "execution_count": 7,
      "outputs": [
        {
          "output_type": "stream",
          "name": "stdout",
          "text": [
            "sample_data  sampleSubmission.csv  test.csv  train.csv\n"
          ]
        }
      ]
    },
    {
      "cell_type": "code",
      "execution_count": 8,
      "metadata": {
        "id": "rrl4iP7eFp30",
        "outputId": "0846190d-2cb6-4853-d6aa-2dbf6fd9006c",
        "colab": {
          "base_uri": "https://localhost:8080/",
          "height": 438
        }
      },
      "outputs": [
        {
          "output_type": "execute_result",
          "data": {
            "text/html": [
              "\n",
              "  <div id=\"df-5c943c2d-6955-4233-ac6e-f4515987ba8b\">\n",
              "    <div class=\"colab-df-container\">\n",
              "      <div>\n",
              "<style scoped>\n",
              "    .dataframe tbody tr th:only-of-type {\n",
              "        vertical-align: middle;\n",
              "    }\n",
              "\n",
              "    .dataframe tbody tr th {\n",
              "        vertical-align: top;\n",
              "    }\n",
              "\n",
              "    .dataframe thead th {\n",
              "        text-align: right;\n",
              "    }\n",
              "</style>\n",
              "<table border=\"1\" class=\"dataframe\">\n",
              "  <thead>\n",
              "    <tr style=\"text-align: right;\">\n",
              "      <th></th>\n",
              "      <th>datetime</th>\n",
              "      <th>season</th>\n",
              "      <th>holiday</th>\n",
              "      <th>workingday</th>\n",
              "      <th>weather</th>\n",
              "      <th>temp</th>\n",
              "      <th>atemp</th>\n",
              "      <th>humidity</th>\n",
              "      <th>windspeed</th>\n",
              "      <th>casual</th>\n",
              "      <th>registered</th>\n",
              "      <th>count</th>\n",
              "    </tr>\n",
              "  </thead>\n",
              "  <tbody>\n",
              "    <tr>\n",
              "      <th>0</th>\n",
              "      <td>2011-01-01 00:00:00</td>\n",
              "      <td>1</td>\n",
              "      <td>0</td>\n",
              "      <td>0</td>\n",
              "      <td>1</td>\n",
              "      <td>9.84</td>\n",
              "      <td>14.395</td>\n",
              "      <td>81</td>\n",
              "      <td>0.0</td>\n",
              "      <td>3</td>\n",
              "      <td>13</td>\n",
              "      <td>16</td>\n",
              "    </tr>\n",
              "    <tr>\n",
              "      <th>1</th>\n",
              "      <td>2011-01-01 01:00:00</td>\n",
              "      <td>1</td>\n",
              "      <td>0</td>\n",
              "      <td>0</td>\n",
              "      <td>1</td>\n",
              "      <td>9.02</td>\n",
              "      <td>13.635</td>\n",
              "      <td>80</td>\n",
              "      <td>0.0</td>\n",
              "      <td>8</td>\n",
              "      <td>32</td>\n",
              "      <td>40</td>\n",
              "    </tr>\n",
              "    <tr>\n",
              "      <th>2</th>\n",
              "      <td>2011-01-01 02:00:00</td>\n",
              "      <td>1</td>\n",
              "      <td>0</td>\n",
              "      <td>0</td>\n",
              "      <td>1</td>\n",
              "      <td>9.02</td>\n",
              "      <td>13.635</td>\n",
              "      <td>80</td>\n",
              "      <td>0.0</td>\n",
              "      <td>5</td>\n",
              "      <td>27</td>\n",
              "      <td>32</td>\n",
              "    </tr>\n",
              "    <tr>\n",
              "      <th>3</th>\n",
              "      <td>2011-01-01 03:00:00</td>\n",
              "      <td>1</td>\n",
              "      <td>0</td>\n",
              "      <td>0</td>\n",
              "      <td>1</td>\n",
              "      <td>9.84</td>\n",
              "      <td>14.395</td>\n",
              "      <td>75</td>\n",
              "      <td>0.0</td>\n",
              "      <td>3</td>\n",
              "      <td>10</td>\n",
              "      <td>13</td>\n",
              "    </tr>\n",
              "    <tr>\n",
              "      <th>4</th>\n",
              "      <td>2011-01-01 04:00:00</td>\n",
              "      <td>1</td>\n",
              "      <td>0</td>\n",
              "      <td>0</td>\n",
              "      <td>1</td>\n",
              "      <td>9.84</td>\n",
              "      <td>14.395</td>\n",
              "      <td>75</td>\n",
              "      <td>0.0</td>\n",
              "      <td>0</td>\n",
              "      <td>1</td>\n",
              "      <td>1</td>\n",
              "    </tr>\n",
              "  </tbody>\n",
              "</table>\n",
              "</div>\n",
              "      <button class=\"colab-df-convert\" onclick=\"convertToInteractive('df-5c943c2d-6955-4233-ac6e-f4515987ba8b')\"\n",
              "              title=\"Convert this dataframe to an interactive table.\"\n",
              "              style=\"display:none;\">\n",
              "        \n",
              "  <svg xmlns=\"http://www.w3.org/2000/svg\" height=\"24px\"viewBox=\"0 0 24 24\"\n",
              "       width=\"24px\">\n",
              "    <path d=\"M0 0h24v24H0V0z\" fill=\"none\"/>\n",
              "    <path d=\"M18.56 5.44l.94 2.06.94-2.06 2.06-.94-2.06-.94-.94-2.06-.94 2.06-2.06.94zm-11 1L8.5 8.5l.94-2.06 2.06-.94-2.06-.94L8.5 2.5l-.94 2.06-2.06.94zm10 10l.94 2.06.94-2.06 2.06-.94-2.06-.94-.94-2.06-.94 2.06-2.06.94z\"/><path d=\"M17.41 7.96l-1.37-1.37c-.4-.4-.92-.59-1.43-.59-.52 0-1.04.2-1.43.59L10.3 9.45l-7.72 7.72c-.78.78-.78 2.05 0 2.83L4 21.41c.39.39.9.59 1.41.59.51 0 1.02-.2 1.41-.59l7.78-7.78 2.81-2.81c.8-.78.8-2.07 0-2.86zM5.41 20L4 18.59l7.72-7.72 1.47 1.35L5.41 20z\"/>\n",
              "  </svg>\n",
              "      </button>\n",
              "      \n",
              "  <style>\n",
              "    .colab-df-container {\n",
              "      display:flex;\n",
              "      flex-wrap:wrap;\n",
              "      gap: 12px;\n",
              "    }\n",
              "\n",
              "    .colab-df-convert {\n",
              "      background-color: #E8F0FE;\n",
              "      border: none;\n",
              "      border-radius: 50%;\n",
              "      cursor: pointer;\n",
              "      display: none;\n",
              "      fill: #1967D2;\n",
              "      height: 32px;\n",
              "      padding: 0 0 0 0;\n",
              "      width: 32px;\n",
              "    }\n",
              "\n",
              "    .colab-df-convert:hover {\n",
              "      background-color: #E2EBFA;\n",
              "      box-shadow: 0px 1px 2px rgba(60, 64, 67, 0.3), 0px 1px 3px 1px rgba(60, 64, 67, 0.15);\n",
              "      fill: #174EA6;\n",
              "    }\n",
              "\n",
              "    [theme=dark] .colab-df-convert {\n",
              "      background-color: #3B4455;\n",
              "      fill: #D2E3FC;\n",
              "    }\n",
              "\n",
              "    [theme=dark] .colab-df-convert:hover {\n",
              "      background-color: #434B5C;\n",
              "      box-shadow: 0px 1px 3px 1px rgba(0, 0, 0, 0.15);\n",
              "      filter: drop-shadow(0px 1px 2px rgba(0, 0, 0, 0.3));\n",
              "      fill: #FFFFFF;\n",
              "    }\n",
              "  </style>\n",
              "\n",
              "      <script>\n",
              "        const buttonEl =\n",
              "          document.querySelector('#df-5c943c2d-6955-4233-ac6e-f4515987ba8b button.colab-df-convert');\n",
              "        buttonEl.style.display =\n",
              "          google.colab.kernel.accessAllowed ? 'block' : 'none';\n",
              "\n",
              "        async function convertToInteractive(key) {\n",
              "          const element = document.querySelector('#df-5c943c2d-6955-4233-ac6e-f4515987ba8b');\n",
              "          const dataTable =\n",
              "            await google.colab.kernel.invokeFunction('convertToInteractive',\n",
              "                                                     [key], {});\n",
              "          if (!dataTable) return;\n",
              "\n",
              "          const docLinkHtml = 'Like what you see? Visit the ' +\n",
              "            '<a target=\"_blank\" href=https://colab.research.google.com/notebooks/data_table.ipynb>data table notebook</a>'\n",
              "            + ' to learn more about interactive tables.';\n",
              "          element.innerHTML = '';\n",
              "          dataTable['output_type'] = 'display_data';\n",
              "          await google.colab.output.renderOutput(dataTable, element);\n",
              "          const docLink = document.createElement('div');\n",
              "          docLink.innerHTML = docLinkHtml;\n",
              "          element.appendChild(docLink);\n",
              "        }\n",
              "      </script>\n",
              "    </div>\n",
              "  </div>\n",
              "  "
            ],
            "text/plain": [
              "              datetime  season  holiday  ...  casual  registered  count\n",
              "0  2011-01-01 00:00:00       1        0  ...       3          13     16\n",
              "1  2011-01-01 01:00:00       1        0  ...       8          32     40\n",
              "2  2011-01-01 02:00:00       1        0  ...       5          27     32\n",
              "3  2011-01-01 03:00:00       1        0  ...       3          10     13\n",
              "4  2011-01-01 04:00:00       1        0  ...       0           1      1\n",
              "\n",
              "[5 rows x 12 columns]"
            ]
          },
          "metadata": {},
          "execution_count": 8
        }
      ],
      "source": [
        "# Create the train dataset in pandas by reading the csv\n",
        "# Set the parsing of the datetime column so you can use some of the `dt` features in pandas later\n",
        "train = pd.read_csv(\"train.csv\")\n",
        "train.head()"
      ]
    },
    {
      "cell_type": "code",
      "source": [
        "print(train.shape)\n",
        "print(train.columns)"
      ],
      "metadata": {
        "id": "iWRa0xFXHxb6",
        "outputId": "8ba05fda-7aaf-4971-8abd-839758743ae6",
        "colab": {
          "base_uri": "https://localhost:8080/"
        }
      },
      "execution_count": 9,
      "outputs": [
        {
          "output_type": "stream",
          "name": "stdout",
          "text": [
            "(10886, 12)\n",
            "Index(['datetime', 'season', 'holiday', 'workingday', 'weather', 'temp',\n",
            "       'atemp', 'humidity', 'windspeed', 'casual', 'registered', 'count'],\n",
            "      dtype='object')\n"
          ]
        }
      ]
    },
    {
      "cell_type": "code",
      "execution_count": 10,
      "metadata": {
        "id": "gkUAvn_2Fp31",
        "outputId": "4415a669-42bd-4851-d9b3-40abe3581523",
        "colab": {
          "base_uri": "https://localhost:8080/",
          "height": 361
        }
      },
      "outputs": [
        {
          "output_type": "execute_result",
          "data": {
            "text/html": [
              "\n",
              "  <div id=\"df-125897a0-ecc4-4f7d-8fc4-92edef6a29f2\">\n",
              "    <div class=\"colab-df-container\">\n",
              "      <div>\n",
              "<style scoped>\n",
              "    .dataframe tbody tr th:only-of-type {\n",
              "        vertical-align: middle;\n",
              "    }\n",
              "\n",
              "    .dataframe tbody tr th {\n",
              "        vertical-align: top;\n",
              "    }\n",
              "\n",
              "    .dataframe thead th {\n",
              "        text-align: right;\n",
              "    }\n",
              "</style>\n",
              "<table border=\"1\" class=\"dataframe\">\n",
              "  <thead>\n",
              "    <tr style=\"text-align: right;\">\n",
              "      <th></th>\n",
              "      <th>season</th>\n",
              "      <th>holiday</th>\n",
              "      <th>workingday</th>\n",
              "      <th>weather</th>\n",
              "      <th>temp</th>\n",
              "      <th>atemp</th>\n",
              "      <th>humidity</th>\n",
              "      <th>windspeed</th>\n",
              "      <th>casual</th>\n",
              "      <th>registered</th>\n",
              "      <th>count</th>\n",
              "    </tr>\n",
              "  </thead>\n",
              "  <tbody>\n",
              "    <tr>\n",
              "      <th>count</th>\n",
              "      <td>10886.000000</td>\n",
              "      <td>10886.000000</td>\n",
              "      <td>10886.000000</td>\n",
              "      <td>10886.000000</td>\n",
              "      <td>10886.00000</td>\n",
              "      <td>10886.000000</td>\n",
              "      <td>10886.000000</td>\n",
              "      <td>10886.000000</td>\n",
              "      <td>10886.000000</td>\n",
              "      <td>10886.000000</td>\n",
              "      <td>10886.000000</td>\n",
              "    </tr>\n",
              "    <tr>\n",
              "      <th>mean</th>\n",
              "      <td>2.506614</td>\n",
              "      <td>0.028569</td>\n",
              "      <td>0.680875</td>\n",
              "      <td>1.418427</td>\n",
              "      <td>20.23086</td>\n",
              "      <td>23.655084</td>\n",
              "      <td>61.886460</td>\n",
              "      <td>12.799395</td>\n",
              "      <td>36.021955</td>\n",
              "      <td>155.552177</td>\n",
              "      <td>191.574132</td>\n",
              "    </tr>\n",
              "    <tr>\n",
              "      <th>std</th>\n",
              "      <td>1.116174</td>\n",
              "      <td>0.166599</td>\n",
              "      <td>0.466159</td>\n",
              "      <td>0.633839</td>\n",
              "      <td>7.79159</td>\n",
              "      <td>8.474601</td>\n",
              "      <td>19.245033</td>\n",
              "      <td>8.164537</td>\n",
              "      <td>49.960477</td>\n",
              "      <td>151.039033</td>\n",
              "      <td>181.144454</td>\n",
              "    </tr>\n",
              "    <tr>\n",
              "      <th>min</th>\n",
              "      <td>1.000000</td>\n",
              "      <td>0.000000</td>\n",
              "      <td>0.000000</td>\n",
              "      <td>1.000000</td>\n",
              "      <td>0.82000</td>\n",
              "      <td>0.760000</td>\n",
              "      <td>0.000000</td>\n",
              "      <td>0.000000</td>\n",
              "      <td>0.000000</td>\n",
              "      <td>0.000000</td>\n",
              "      <td>1.000000</td>\n",
              "    </tr>\n",
              "    <tr>\n",
              "      <th>25%</th>\n",
              "      <td>2.000000</td>\n",
              "      <td>0.000000</td>\n",
              "      <td>0.000000</td>\n",
              "      <td>1.000000</td>\n",
              "      <td>13.94000</td>\n",
              "      <td>16.665000</td>\n",
              "      <td>47.000000</td>\n",
              "      <td>7.001500</td>\n",
              "      <td>4.000000</td>\n",
              "      <td>36.000000</td>\n",
              "      <td>42.000000</td>\n",
              "    </tr>\n",
              "    <tr>\n",
              "      <th>50%</th>\n",
              "      <td>3.000000</td>\n",
              "      <td>0.000000</td>\n",
              "      <td>1.000000</td>\n",
              "      <td>1.000000</td>\n",
              "      <td>20.50000</td>\n",
              "      <td>24.240000</td>\n",
              "      <td>62.000000</td>\n",
              "      <td>12.998000</td>\n",
              "      <td>17.000000</td>\n",
              "      <td>118.000000</td>\n",
              "      <td>145.000000</td>\n",
              "    </tr>\n",
              "    <tr>\n",
              "      <th>75%</th>\n",
              "      <td>4.000000</td>\n",
              "      <td>0.000000</td>\n",
              "      <td>1.000000</td>\n",
              "      <td>2.000000</td>\n",
              "      <td>26.24000</td>\n",
              "      <td>31.060000</td>\n",
              "      <td>77.000000</td>\n",
              "      <td>16.997900</td>\n",
              "      <td>49.000000</td>\n",
              "      <td>222.000000</td>\n",
              "      <td>284.000000</td>\n",
              "    </tr>\n",
              "    <tr>\n",
              "      <th>max</th>\n",
              "      <td>4.000000</td>\n",
              "      <td>1.000000</td>\n",
              "      <td>1.000000</td>\n",
              "      <td>4.000000</td>\n",
              "      <td>41.00000</td>\n",
              "      <td>45.455000</td>\n",
              "      <td>100.000000</td>\n",
              "      <td>56.996900</td>\n",
              "      <td>367.000000</td>\n",
              "      <td>886.000000</td>\n",
              "      <td>977.000000</td>\n",
              "    </tr>\n",
              "  </tbody>\n",
              "</table>\n",
              "</div>\n",
              "      <button class=\"colab-df-convert\" onclick=\"convertToInteractive('df-125897a0-ecc4-4f7d-8fc4-92edef6a29f2')\"\n",
              "              title=\"Convert this dataframe to an interactive table.\"\n",
              "              style=\"display:none;\">\n",
              "        \n",
              "  <svg xmlns=\"http://www.w3.org/2000/svg\" height=\"24px\"viewBox=\"0 0 24 24\"\n",
              "       width=\"24px\">\n",
              "    <path d=\"M0 0h24v24H0V0z\" fill=\"none\"/>\n",
              "    <path d=\"M18.56 5.44l.94 2.06.94-2.06 2.06-.94-2.06-.94-.94-2.06-.94 2.06-2.06.94zm-11 1L8.5 8.5l.94-2.06 2.06-.94-2.06-.94L8.5 2.5l-.94 2.06-2.06.94zm10 10l.94 2.06.94-2.06 2.06-.94-2.06-.94-.94-2.06-.94 2.06-2.06.94z\"/><path d=\"M17.41 7.96l-1.37-1.37c-.4-.4-.92-.59-1.43-.59-.52 0-1.04.2-1.43.59L10.3 9.45l-7.72 7.72c-.78.78-.78 2.05 0 2.83L4 21.41c.39.39.9.59 1.41.59.51 0 1.02-.2 1.41-.59l7.78-7.78 2.81-2.81c.8-.78.8-2.07 0-2.86zM5.41 20L4 18.59l7.72-7.72 1.47 1.35L5.41 20z\"/>\n",
              "  </svg>\n",
              "      </button>\n",
              "      \n",
              "  <style>\n",
              "    .colab-df-container {\n",
              "      display:flex;\n",
              "      flex-wrap:wrap;\n",
              "      gap: 12px;\n",
              "    }\n",
              "\n",
              "    .colab-df-convert {\n",
              "      background-color: #E8F0FE;\n",
              "      border: none;\n",
              "      border-radius: 50%;\n",
              "      cursor: pointer;\n",
              "      display: none;\n",
              "      fill: #1967D2;\n",
              "      height: 32px;\n",
              "      padding: 0 0 0 0;\n",
              "      width: 32px;\n",
              "    }\n",
              "\n",
              "    .colab-df-convert:hover {\n",
              "      background-color: #E2EBFA;\n",
              "      box-shadow: 0px 1px 2px rgba(60, 64, 67, 0.3), 0px 1px 3px 1px rgba(60, 64, 67, 0.15);\n",
              "      fill: #174EA6;\n",
              "    }\n",
              "\n",
              "    [theme=dark] .colab-df-convert {\n",
              "      background-color: #3B4455;\n",
              "      fill: #D2E3FC;\n",
              "    }\n",
              "\n",
              "    [theme=dark] .colab-df-convert:hover {\n",
              "      background-color: #434B5C;\n",
              "      box-shadow: 0px 1px 3px 1px rgba(0, 0, 0, 0.15);\n",
              "      filter: drop-shadow(0px 1px 2px rgba(0, 0, 0, 0.3));\n",
              "      fill: #FFFFFF;\n",
              "    }\n",
              "  </style>\n",
              "\n",
              "      <script>\n",
              "        const buttonEl =\n",
              "          document.querySelector('#df-125897a0-ecc4-4f7d-8fc4-92edef6a29f2 button.colab-df-convert');\n",
              "        buttonEl.style.display =\n",
              "          google.colab.kernel.accessAllowed ? 'block' : 'none';\n",
              "\n",
              "        async function convertToInteractive(key) {\n",
              "          const element = document.querySelector('#df-125897a0-ecc4-4f7d-8fc4-92edef6a29f2');\n",
              "          const dataTable =\n",
              "            await google.colab.kernel.invokeFunction('convertToInteractive',\n",
              "                                                     [key], {});\n",
              "          if (!dataTable) return;\n",
              "\n",
              "          const docLinkHtml = 'Like what you see? Visit the ' +\n",
              "            '<a target=\"_blank\" href=https://colab.research.google.com/notebooks/data_table.ipynb>data table notebook</a>'\n",
              "            + ' to learn more about interactive tables.';\n",
              "          element.innerHTML = '';\n",
              "          dataTable['output_type'] = 'display_data';\n",
              "          await google.colab.output.renderOutput(dataTable, element);\n",
              "          const docLink = document.createElement('div');\n",
              "          docLink.innerHTML = docLinkHtml;\n",
              "          element.appendChild(docLink);\n",
              "        }\n",
              "      </script>\n",
              "    </div>\n",
              "  </div>\n",
              "  "
            ],
            "text/plain": [
              "             season       holiday  ...    registered         count\n",
              "count  10886.000000  10886.000000  ...  10886.000000  10886.000000\n",
              "mean       2.506614      0.028569  ...    155.552177    191.574132\n",
              "std        1.116174      0.166599  ...    151.039033    181.144454\n",
              "min        1.000000      0.000000  ...      0.000000      1.000000\n",
              "25%        2.000000      0.000000  ...     36.000000     42.000000\n",
              "50%        3.000000      0.000000  ...    118.000000    145.000000\n",
              "75%        4.000000      0.000000  ...    222.000000    284.000000\n",
              "max        4.000000      1.000000  ...    886.000000    977.000000\n",
              "\n",
              "[8 rows x 11 columns]"
            ]
          },
          "metadata": {},
          "execution_count": 10
        }
      ],
      "source": [
        "# Simple output of the train dataset to view some of the min/max/varition of the dataset features.\n",
        "train.describe()"
      ]
    },
    {
      "cell_type": "code",
      "execution_count": 11,
      "metadata": {
        "id": "jwxQl5tcFp31",
        "outputId": "4c738e96-1e30-4f5b-f028-13faac25aa57",
        "colab": {
          "base_uri": "https://localhost:8080/",
          "height": 204
        }
      },
      "outputs": [
        {
          "output_type": "execute_result",
          "data": {
            "text/html": [
              "\n",
              "  <div id=\"df-d41f2032-8f9b-419f-a6c8-dc2280944169\">\n",
              "    <div class=\"colab-df-container\">\n",
              "      <div>\n",
              "<style scoped>\n",
              "    .dataframe tbody tr th:only-of-type {\n",
              "        vertical-align: middle;\n",
              "    }\n",
              "\n",
              "    .dataframe tbody tr th {\n",
              "        vertical-align: top;\n",
              "    }\n",
              "\n",
              "    .dataframe thead th {\n",
              "        text-align: right;\n",
              "    }\n",
              "</style>\n",
              "<table border=\"1\" class=\"dataframe\">\n",
              "  <thead>\n",
              "    <tr style=\"text-align: right;\">\n",
              "      <th></th>\n",
              "      <th>datetime</th>\n",
              "      <th>season</th>\n",
              "      <th>holiday</th>\n",
              "      <th>workingday</th>\n",
              "      <th>weather</th>\n",
              "      <th>temp</th>\n",
              "      <th>atemp</th>\n",
              "      <th>humidity</th>\n",
              "      <th>windspeed</th>\n",
              "    </tr>\n",
              "  </thead>\n",
              "  <tbody>\n",
              "    <tr>\n",
              "      <th>0</th>\n",
              "      <td>2011-01-20 00:00:00</td>\n",
              "      <td>1</td>\n",
              "      <td>0</td>\n",
              "      <td>1</td>\n",
              "      <td>1</td>\n",
              "      <td>10.66</td>\n",
              "      <td>11.365</td>\n",
              "      <td>56</td>\n",
              "      <td>26.0027</td>\n",
              "    </tr>\n",
              "    <tr>\n",
              "      <th>1</th>\n",
              "      <td>2011-01-20 01:00:00</td>\n",
              "      <td>1</td>\n",
              "      <td>0</td>\n",
              "      <td>1</td>\n",
              "      <td>1</td>\n",
              "      <td>10.66</td>\n",
              "      <td>13.635</td>\n",
              "      <td>56</td>\n",
              "      <td>0.0000</td>\n",
              "    </tr>\n",
              "    <tr>\n",
              "      <th>2</th>\n",
              "      <td>2011-01-20 02:00:00</td>\n",
              "      <td>1</td>\n",
              "      <td>0</td>\n",
              "      <td>1</td>\n",
              "      <td>1</td>\n",
              "      <td>10.66</td>\n",
              "      <td>13.635</td>\n",
              "      <td>56</td>\n",
              "      <td>0.0000</td>\n",
              "    </tr>\n",
              "    <tr>\n",
              "      <th>3</th>\n",
              "      <td>2011-01-20 03:00:00</td>\n",
              "      <td>1</td>\n",
              "      <td>0</td>\n",
              "      <td>1</td>\n",
              "      <td>1</td>\n",
              "      <td>10.66</td>\n",
              "      <td>12.880</td>\n",
              "      <td>56</td>\n",
              "      <td>11.0014</td>\n",
              "    </tr>\n",
              "    <tr>\n",
              "      <th>4</th>\n",
              "      <td>2011-01-20 04:00:00</td>\n",
              "      <td>1</td>\n",
              "      <td>0</td>\n",
              "      <td>1</td>\n",
              "      <td>1</td>\n",
              "      <td>10.66</td>\n",
              "      <td>12.880</td>\n",
              "      <td>56</td>\n",
              "      <td>11.0014</td>\n",
              "    </tr>\n",
              "  </tbody>\n",
              "</table>\n",
              "</div>\n",
              "      <button class=\"colab-df-convert\" onclick=\"convertToInteractive('df-d41f2032-8f9b-419f-a6c8-dc2280944169')\"\n",
              "              title=\"Convert this dataframe to an interactive table.\"\n",
              "              style=\"display:none;\">\n",
              "        \n",
              "  <svg xmlns=\"http://www.w3.org/2000/svg\" height=\"24px\"viewBox=\"0 0 24 24\"\n",
              "       width=\"24px\">\n",
              "    <path d=\"M0 0h24v24H0V0z\" fill=\"none\"/>\n",
              "    <path d=\"M18.56 5.44l.94 2.06.94-2.06 2.06-.94-2.06-.94-.94-2.06-.94 2.06-2.06.94zm-11 1L8.5 8.5l.94-2.06 2.06-.94-2.06-.94L8.5 2.5l-.94 2.06-2.06.94zm10 10l.94 2.06.94-2.06 2.06-.94-2.06-.94-.94-2.06-.94 2.06-2.06.94z\"/><path d=\"M17.41 7.96l-1.37-1.37c-.4-.4-.92-.59-1.43-.59-.52 0-1.04.2-1.43.59L10.3 9.45l-7.72 7.72c-.78.78-.78 2.05 0 2.83L4 21.41c.39.39.9.59 1.41.59.51 0 1.02-.2 1.41-.59l7.78-7.78 2.81-2.81c.8-.78.8-2.07 0-2.86zM5.41 20L4 18.59l7.72-7.72 1.47 1.35L5.41 20z\"/>\n",
              "  </svg>\n",
              "      </button>\n",
              "      \n",
              "  <style>\n",
              "    .colab-df-container {\n",
              "      display:flex;\n",
              "      flex-wrap:wrap;\n",
              "      gap: 12px;\n",
              "    }\n",
              "\n",
              "    .colab-df-convert {\n",
              "      background-color: #E8F0FE;\n",
              "      border: none;\n",
              "      border-radius: 50%;\n",
              "      cursor: pointer;\n",
              "      display: none;\n",
              "      fill: #1967D2;\n",
              "      height: 32px;\n",
              "      padding: 0 0 0 0;\n",
              "      width: 32px;\n",
              "    }\n",
              "\n",
              "    .colab-df-convert:hover {\n",
              "      background-color: #E2EBFA;\n",
              "      box-shadow: 0px 1px 2px rgba(60, 64, 67, 0.3), 0px 1px 3px 1px rgba(60, 64, 67, 0.15);\n",
              "      fill: #174EA6;\n",
              "    }\n",
              "\n",
              "    [theme=dark] .colab-df-convert {\n",
              "      background-color: #3B4455;\n",
              "      fill: #D2E3FC;\n",
              "    }\n",
              "\n",
              "    [theme=dark] .colab-df-convert:hover {\n",
              "      background-color: #434B5C;\n",
              "      box-shadow: 0px 1px 3px 1px rgba(0, 0, 0, 0.15);\n",
              "      filter: drop-shadow(0px 1px 2px rgba(0, 0, 0, 0.3));\n",
              "      fill: #FFFFFF;\n",
              "    }\n",
              "  </style>\n",
              "\n",
              "      <script>\n",
              "        const buttonEl =\n",
              "          document.querySelector('#df-d41f2032-8f9b-419f-a6c8-dc2280944169 button.colab-df-convert');\n",
              "        buttonEl.style.display =\n",
              "          google.colab.kernel.accessAllowed ? 'block' : 'none';\n",
              "\n",
              "        async function convertToInteractive(key) {\n",
              "          const element = document.querySelector('#df-d41f2032-8f9b-419f-a6c8-dc2280944169');\n",
              "          const dataTable =\n",
              "            await google.colab.kernel.invokeFunction('convertToInteractive',\n",
              "                                                     [key], {});\n",
              "          if (!dataTable) return;\n",
              "\n",
              "          const docLinkHtml = 'Like what you see? Visit the ' +\n",
              "            '<a target=\"_blank\" href=https://colab.research.google.com/notebooks/data_table.ipynb>data table notebook</a>'\n",
              "            + ' to learn more about interactive tables.';\n",
              "          element.innerHTML = '';\n",
              "          dataTable['output_type'] = 'display_data';\n",
              "          await google.colab.output.renderOutput(dataTable, element);\n",
              "          const docLink = document.createElement('div');\n",
              "          docLink.innerHTML = docLinkHtml;\n",
              "          element.appendChild(docLink);\n",
              "        }\n",
              "      </script>\n",
              "    </div>\n",
              "  </div>\n",
              "  "
            ],
            "text/plain": [
              "              datetime  season  holiday  ...   atemp  humidity  windspeed\n",
              "0  2011-01-20 00:00:00       1        0  ...  11.365        56    26.0027\n",
              "1  2011-01-20 01:00:00       1        0  ...  13.635        56     0.0000\n",
              "2  2011-01-20 02:00:00       1        0  ...  13.635        56     0.0000\n",
              "3  2011-01-20 03:00:00       1        0  ...  12.880        56    11.0014\n",
              "4  2011-01-20 04:00:00       1        0  ...  12.880        56    11.0014\n",
              "\n",
              "[5 rows x 9 columns]"
            ]
          },
          "metadata": {},
          "execution_count": 11
        }
      ],
      "source": [
        "# Create the test pandas dataframe in pandas by reading the csv, remember to parse the datetime!\n",
        "test = pd.read_csv(\"test.csv\")\n",
        "test.head()"
      ]
    },
    {
      "cell_type": "code",
      "execution_count": 12,
      "metadata": {
        "id": "CTkhZQkvFp31",
        "outputId": "f5abc6b7-4a7a-4449-85c7-a010a249a628",
        "colab": {
          "base_uri": "https://localhost:8080/",
          "height": 204
        }
      },
      "outputs": [
        {
          "output_type": "execute_result",
          "data": {
            "text/html": [
              "\n",
              "  <div id=\"df-9f24f65e-f9cc-4658-a091-17481bc75f2d\">\n",
              "    <div class=\"colab-df-container\">\n",
              "      <div>\n",
              "<style scoped>\n",
              "    .dataframe tbody tr th:only-of-type {\n",
              "        vertical-align: middle;\n",
              "    }\n",
              "\n",
              "    .dataframe tbody tr th {\n",
              "        vertical-align: top;\n",
              "    }\n",
              "\n",
              "    .dataframe thead th {\n",
              "        text-align: right;\n",
              "    }\n",
              "</style>\n",
              "<table border=\"1\" class=\"dataframe\">\n",
              "  <thead>\n",
              "    <tr style=\"text-align: right;\">\n",
              "      <th></th>\n",
              "      <th>datetime</th>\n",
              "      <th>count</th>\n",
              "    </tr>\n",
              "  </thead>\n",
              "  <tbody>\n",
              "    <tr>\n",
              "      <th>0</th>\n",
              "      <td>2011-01-20 00:00:00</td>\n",
              "      <td>0</td>\n",
              "    </tr>\n",
              "    <tr>\n",
              "      <th>1</th>\n",
              "      <td>2011-01-20 01:00:00</td>\n",
              "      <td>0</td>\n",
              "    </tr>\n",
              "    <tr>\n",
              "      <th>2</th>\n",
              "      <td>2011-01-20 02:00:00</td>\n",
              "      <td>0</td>\n",
              "    </tr>\n",
              "    <tr>\n",
              "      <th>3</th>\n",
              "      <td>2011-01-20 03:00:00</td>\n",
              "      <td>0</td>\n",
              "    </tr>\n",
              "    <tr>\n",
              "      <th>4</th>\n",
              "      <td>2011-01-20 04:00:00</td>\n",
              "      <td>0</td>\n",
              "    </tr>\n",
              "  </tbody>\n",
              "</table>\n",
              "</div>\n",
              "      <button class=\"colab-df-convert\" onclick=\"convertToInteractive('df-9f24f65e-f9cc-4658-a091-17481bc75f2d')\"\n",
              "              title=\"Convert this dataframe to an interactive table.\"\n",
              "              style=\"display:none;\">\n",
              "        \n",
              "  <svg xmlns=\"http://www.w3.org/2000/svg\" height=\"24px\"viewBox=\"0 0 24 24\"\n",
              "       width=\"24px\">\n",
              "    <path d=\"M0 0h24v24H0V0z\" fill=\"none\"/>\n",
              "    <path d=\"M18.56 5.44l.94 2.06.94-2.06 2.06-.94-2.06-.94-.94-2.06-.94 2.06-2.06.94zm-11 1L8.5 8.5l.94-2.06 2.06-.94-2.06-.94L8.5 2.5l-.94 2.06-2.06.94zm10 10l.94 2.06.94-2.06 2.06-.94-2.06-.94-.94-2.06-.94 2.06-2.06.94z\"/><path d=\"M17.41 7.96l-1.37-1.37c-.4-.4-.92-.59-1.43-.59-.52 0-1.04.2-1.43.59L10.3 9.45l-7.72 7.72c-.78.78-.78 2.05 0 2.83L4 21.41c.39.39.9.59 1.41.59.51 0 1.02-.2 1.41-.59l7.78-7.78 2.81-2.81c.8-.78.8-2.07 0-2.86zM5.41 20L4 18.59l7.72-7.72 1.47 1.35L5.41 20z\"/>\n",
              "  </svg>\n",
              "      </button>\n",
              "      \n",
              "  <style>\n",
              "    .colab-df-container {\n",
              "      display:flex;\n",
              "      flex-wrap:wrap;\n",
              "      gap: 12px;\n",
              "    }\n",
              "\n",
              "    .colab-df-convert {\n",
              "      background-color: #E8F0FE;\n",
              "      border: none;\n",
              "      border-radius: 50%;\n",
              "      cursor: pointer;\n",
              "      display: none;\n",
              "      fill: #1967D2;\n",
              "      height: 32px;\n",
              "      padding: 0 0 0 0;\n",
              "      width: 32px;\n",
              "    }\n",
              "\n",
              "    .colab-df-convert:hover {\n",
              "      background-color: #E2EBFA;\n",
              "      box-shadow: 0px 1px 2px rgba(60, 64, 67, 0.3), 0px 1px 3px 1px rgba(60, 64, 67, 0.15);\n",
              "      fill: #174EA6;\n",
              "    }\n",
              "\n",
              "    [theme=dark] .colab-df-convert {\n",
              "      background-color: #3B4455;\n",
              "      fill: #D2E3FC;\n",
              "    }\n",
              "\n",
              "    [theme=dark] .colab-df-convert:hover {\n",
              "      background-color: #434B5C;\n",
              "      box-shadow: 0px 1px 3px 1px rgba(0, 0, 0, 0.15);\n",
              "      filter: drop-shadow(0px 1px 2px rgba(0, 0, 0, 0.3));\n",
              "      fill: #FFFFFF;\n",
              "    }\n",
              "  </style>\n",
              "\n",
              "      <script>\n",
              "        const buttonEl =\n",
              "          document.querySelector('#df-9f24f65e-f9cc-4658-a091-17481bc75f2d button.colab-df-convert');\n",
              "        buttonEl.style.display =\n",
              "          google.colab.kernel.accessAllowed ? 'block' : 'none';\n",
              "\n",
              "        async function convertToInteractive(key) {\n",
              "          const element = document.querySelector('#df-9f24f65e-f9cc-4658-a091-17481bc75f2d');\n",
              "          const dataTable =\n",
              "            await google.colab.kernel.invokeFunction('convertToInteractive',\n",
              "                                                     [key], {});\n",
              "          if (!dataTable) return;\n",
              "\n",
              "          const docLinkHtml = 'Like what you see? Visit the ' +\n",
              "            '<a target=\"_blank\" href=https://colab.research.google.com/notebooks/data_table.ipynb>data table notebook</a>'\n",
              "            + ' to learn more about interactive tables.';\n",
              "          element.innerHTML = '';\n",
              "          dataTable['output_type'] = 'display_data';\n",
              "          await google.colab.output.renderOutput(dataTable, element);\n",
              "          const docLink = document.createElement('div');\n",
              "          docLink.innerHTML = docLinkHtml;\n",
              "          element.appendChild(docLink);\n",
              "        }\n",
              "      </script>\n",
              "    </div>\n",
              "  </div>\n",
              "  "
            ],
            "text/plain": [
              "              datetime  count\n",
              "0  2011-01-20 00:00:00      0\n",
              "1  2011-01-20 01:00:00      0\n",
              "2  2011-01-20 02:00:00      0\n",
              "3  2011-01-20 03:00:00      0\n",
              "4  2011-01-20 04:00:00      0"
            ]
          },
          "metadata": {},
          "execution_count": 12
        }
      ],
      "source": [
        "# Same thing as train and test dataset\n",
        "submission = pd.read_csv(\"sampleSubmission.csv\")\n",
        "submission.head()"
      ]
    },
    {
      "cell_type": "markdown",
      "metadata": {
        "id": "UXalDb0XFp31"
      },
      "source": [
        "## Step 3: Train a model using AutoGluon’s Tabular Prediction"
      ]
    },
    {
      "cell_type": "markdown",
      "metadata": {
        "id": "iShreMnSFp31"
      },
      "source": [
        "Requirements:\n",
        "* We are prediting `count`, so it is the label we are setting.\n",
        "* Ignore `casual` and `registered` columns as they are also not present in the test dataset. \n",
        "* Use the `root_mean_squared_error` as the metric to use for evaluation.\n",
        "* Set a time limit of 10 minutes (600 seconds).\n",
        "* Use the preset `best_quality` to focus on creating the best model."
      ]
    },
    {
      "cell_type": "code",
      "source": [
        "train.drop(columns=[\"casual\", \"registered\"], inplace=True)"
      ],
      "metadata": {
        "id": "RrX4aqx-K6uW"
      },
      "execution_count": 13,
      "outputs": []
    },
    {
      "cell_type": "code",
      "execution_count": 14,
      "metadata": {
        "id": "2JKEos5dFp31",
        "outputId": "a7fc0e85-c035-4ea0-ed93-1e0eba5feddc",
        "colab": {
          "base_uri": "https://localhost:8080/"
        }
      },
      "outputs": [
        {
          "output_type": "stream",
          "name": "stderr",
          "text": [
            "No path specified. Models will be saved in: \"AutogluonModels/ag-20220129_213241/\"\n",
            "Presets specified: ['best_quality']\n",
            "Beginning AutoGluon training ... Time limit = 600s\n",
            "AutoGluon will save models to \"AutogluonModels/ag-20220129_213241/\"\n",
            "AutoGluon Version:  0.3.1\n",
            "Train Data Rows:    10886\n",
            "Train Data Columns: 9\n",
            "Preprocessing data ...\n",
            "Using Feature Generators to preprocess the data ...\n",
            "Fitting AutoMLPipelineFeatureGenerator...\n",
            "\tAvailable Memory:                    12566.47 MB\n",
            "\tTrain Data (Original)  Memory Usage: 1.52 MB (0.0% of available memory)\n",
            "\tInferring data type of each feature based on column values. Set feature_metadata_in to manually specify special dtypes of the features.\n",
            "\tStage 1 Generators:\n",
            "\t\tFitting AsTypeFeatureGenerator...\n",
            "\t\t\tNote: Converting 2 features to boolean dtype as they only contain 2 unique values.\n",
            "\tStage 2 Generators:\n",
            "\t\tFitting FillNaFeatureGenerator...\n",
            "\tStage 3 Generators:\n",
            "\t\tFitting IdentityFeatureGenerator...\n",
            "\t\tFitting DatetimeFeatureGenerator...\n",
            "\tStage 4 Generators:\n",
            "\t\tFitting DropUniqueFeatureGenerator...\n",
            "\tTypes of features in original data (raw dtype, special dtypes):\n",
            "\t\t('float', [])                      : 3 | ['temp', 'atemp', 'windspeed']\n",
            "\t\t('int', [])                        : 5 | ['season', 'holiday', 'workingday', 'weather', 'humidity']\n",
            "\t\t('object', ['datetime_as_object']) : 1 | ['datetime']\n",
            "\tTypes of features in processed data (raw dtype, special dtypes):\n",
            "\t\t('float', [])                : 3 | ['temp', 'atemp', 'windspeed']\n",
            "\t\t('int', [])                  : 3 | ['season', 'weather', 'humidity']\n",
            "\t\t('int', ['bool'])            : 2 | ['holiday', 'workingday']\n",
            "\t\t('int', ['datetime_as_int']) : 1 | ['datetime']\n",
            "\t0.2s = Fit runtime\n",
            "\t9 features in original data used to generate 9 features in processed data.\n",
            "\tTrain Data (Processed) Memory Usage: 0.63 MB (0.0% of available memory)\n",
            "Data preprocessing and feature engineering runtime = 0.34s ...\n",
            "AutoGluon will gauge predictive performance using evaluation metric: 'r2'\n",
            "\tTo change this, specify the eval_metric argument of fit()\n",
            "AutoGluon will fit 2 stack levels (L1 to L2) ...\n",
            "Fitting 11 L1 models ...\n",
            "Fitting model: KNeighborsUnif_BAG_L1 ... Training model for up to 399.67s of the 599.65s of remaining time.\n",
            "\t0.2157\t = Validation score   (r2)\n",
            "\t0.06s\t = Training   runtime\n",
            "\t0.31s\t = Validation runtime\n",
            "Fitting model: KNeighborsDist_BAG_L1 ... Training model for up to 399.1s of the 599.08s of remaining time.\n",
            "\t0.1238\t = Validation score   (r2)\n",
            "\t0.05s\t = Training   runtime\n",
            "\t0.22s\t = Validation runtime\n",
            "Fitting model: LightGBMXT_BAG_L1 ... Training model for up to 398.67s of the 598.64s of remaining time.\n",
            "/usr/local/lib/python3.7/dist-packages/lightgbm/engine.py:239: UserWarning: 'verbose_eval' argument is deprecated and will be removed in a future release of LightGBM. Pass 'log_evaluation()' callback via 'callbacks' argument instead.\n",
            "  _log_warning(\"'verbose_eval' argument is deprecated and will be removed in a future release of LightGBM. \"\n"
          ]
        },
        {
          "output_type": "stream",
          "name": "stdout",
          "text": [
            "[1000]\ttrain_set's l2: 15328\ttrain_set's r2: 0.533746\tvalid_set's l2: 18055\tvalid_set's r2: 0.439332\n",
            "[2000]\ttrain_set's l2: 13785.7\ttrain_set's r2: 0.58068\tvalid_set's l2: 17877.1\tvalid_set's r2: 0.444915\n"
          ]
        },
        {
          "output_type": "stream",
          "name": "stderr",
          "text": [
            "/usr/local/lib/python3.7/dist-packages/lightgbm/engine.py:239: UserWarning: 'verbose_eval' argument is deprecated and will be removed in a future release of LightGBM. Pass 'log_evaluation()' callback via 'callbacks' argument instead.\n",
            "  _log_warning(\"'verbose_eval' argument is deprecated and will be removed in a future release of LightGBM. \"\n"
          ]
        },
        {
          "output_type": "stream",
          "name": "stdout",
          "text": [
            "[1000]\ttrain_set's l2: 15232.6\ttrain_set's r2: 0.530585\tvalid_set's l2: 20022.3\tvalid_set's r2: 0.443843\n"
          ]
        },
        {
          "output_type": "stream",
          "name": "stderr",
          "text": [
            "/usr/local/lib/python3.7/dist-packages/lightgbm/engine.py:239: UserWarning: 'verbose_eval' argument is deprecated and will be removed in a future release of LightGBM. Pass 'log_evaluation()' callback via 'callbacks' argument instead.\n",
            "  _log_warning(\"'verbose_eval' argument is deprecated and will be removed in a future release of LightGBM. \"\n"
          ]
        },
        {
          "output_type": "stream",
          "name": "stdout",
          "text": [
            "[1000]\ttrain_set's l2: 15649.3\ttrain_set's r2: 0.522702\tvalid_set's l2: 16588.6\tvalid_set's r2: 0.497026\n",
            "[2000]\ttrain_set's l2: 14161.7\ttrain_set's r2: 0.568098\tvalid_set's l2: 16360.6\tvalid_set's r2: 0.504036\n",
            "[3000]\ttrain_set's l2: 13140\ttrain_set's r2: 0.599224\tvalid_set's l2: 16238.8\tvalid_set's r2: 0.507662\n",
            "[4000]\ttrain_set's l2: 12386.5\ttrain_set's r2: 0.622208\tvalid_set's l2: 16114.5\tvalid_set's r2: 0.511552\n",
            "[5000]\ttrain_set's l2: 11788.7\ttrain_set's r2: 0.64045\tvalid_set's l2: 16089.4\tvalid_set's r2: 0.512179\n",
            "[6000]\ttrain_set's l2: 11254\ttrain_set's r2: 0.656801\tvalid_set's l2: 16055.4\tvalid_set's r2: 0.513193\n"
          ]
        },
        {
          "output_type": "stream",
          "name": "stderr",
          "text": [
            "/usr/local/lib/python3.7/dist-packages/lightgbm/engine.py:239: UserWarning: 'verbose_eval' argument is deprecated and will be removed in a future release of LightGBM. Pass 'log_evaluation()' callback via 'callbacks' argument instead.\n",
            "  _log_warning(\"'verbose_eval' argument is deprecated and will be removed in a future release of LightGBM. \"\n"
          ]
        },
        {
          "output_type": "stream",
          "name": "stdout",
          "text": [
            "[1000]\ttrain_set's l2: 15408.5\ttrain_set's r2: 0.524138\tvalid_set's l2: 19127.7\tvalid_set's r2: 0.478402\n",
            "[2000]\ttrain_set's l2: 13884.7\ttrain_set's r2: 0.571151\tvalid_set's l2: 18915.8\tvalid_set's r2: 0.484176\n",
            "[3000]\ttrain_set's l2: 12867\ttrain_set's r2: 0.602611\tvalid_set's l2: 18877.5\tvalid_set's r2: 0.485291\n",
            "[4000]\ttrain_set's l2: 12068.7\ttrain_set's r2: 0.627246\tvalid_set's l2: 18830.4\tvalid_set's r2: 0.486634\n"
          ]
        },
        {
          "output_type": "stream",
          "name": "stderr",
          "text": [
            "/usr/local/lib/python3.7/dist-packages/lightgbm/engine.py:239: UserWarning: 'verbose_eval' argument is deprecated and will be removed in a future release of LightGBM. Pass 'log_evaluation()' callback via 'callbacks' argument instead.\n",
            "  _log_warning(\"'verbose_eval' argument is deprecated and will be removed in a future release of LightGBM. \"\n"
          ]
        },
        {
          "output_type": "stream",
          "name": "stdout",
          "text": [
            "[1000]\ttrain_set's l2: 15592.8\ttrain_set's r2: 0.529687\tvalid_set's l2: 16397.2\tvalid_set's r2: 0.445521\n",
            "[2000]\ttrain_set's l2: 14053.4\ttrain_set's r2: 0.576101\tvalid_set's l2: 16129.9\tvalid_set's r2: 0.454513\n",
            "[3000]\ttrain_set's l2: 13024.3\ttrain_set's r2: 0.607119\tvalid_set's l2: 16086.8\tvalid_set's r2: 0.455967\n",
            "[4000]\ttrain_set's l2: 12242.3\ttrain_set's r2: 0.630736\tvalid_set's l2: 16051.3\tvalid_set's r2: 0.4571\n"
          ]
        },
        {
          "output_type": "stream",
          "name": "stderr",
          "text": [
            "/usr/local/lib/python3.7/dist-packages/lightgbm/engine.py:239: UserWarning: 'verbose_eval' argument is deprecated and will be removed in a future release of LightGBM. Pass 'log_evaluation()' callback via 'callbacks' argument instead.\n",
            "  _log_warning(\"'verbose_eval' argument is deprecated and will be removed in a future release of LightGBM. \"\n"
          ]
        },
        {
          "output_type": "stream",
          "name": "stdout",
          "text": [
            "[1000]\ttrain_set's l2: 15538.6\ttrain_set's r2: 0.52874\tvalid_set's l2: 18250.6\tvalid_set's r2: 0.418188\n",
            "[2000]\ttrain_set's l2: 14104.9\ttrain_set's r2: 0.57219\tvalid_set's l2: 17915.6\tvalid_set's r2: 0.428875\n",
            "[3000]\ttrain_set's l2: 13136.5\ttrain_set's r2: 0.601614\tvalid_set's l2: 17824.7\tvalid_set's r2: 0.431713\n",
            "[4000]\ttrain_set's l2: 12376.4\ttrain_set's r2: 0.624628\tvalid_set's l2: 17814.8\tvalid_set's r2: 0.43196\n",
            "[5000]\ttrain_set's l2: 11762.6\ttrain_set's r2: 0.643258\tvalid_set's l2: 17763.7\tvalid_set's r2: 0.433671\n"
          ]
        },
        {
          "output_type": "stream",
          "name": "stderr",
          "text": [
            "/usr/local/lib/python3.7/dist-packages/lightgbm/engine.py:239: UserWarning: 'verbose_eval' argument is deprecated and will be removed in a future release of LightGBM. Pass 'log_evaluation()' callback via 'callbacks' argument instead.\n",
            "  _log_warning(\"'verbose_eval' argument is deprecated and will be removed in a future release of LightGBM. \"\n"
          ]
        },
        {
          "output_type": "stream",
          "name": "stdout",
          "text": [
            "[1000]\ttrain_set's l2: 15378.5\ttrain_set's r2: 0.532816\tvalid_set's l2: 19419.7\tvalid_set's r2: 0.390061\n",
            "[2000]\ttrain_set's l2: 13881.3\ttrain_set's r2: 0.5783\tvalid_set's l2: 19130.3\tvalid_set's r2: 0.398951\n",
            "[3000]\ttrain_set's l2: 12859.5\ttrain_set's r2: 0.609322\tvalid_set's l2: 19012.7\tvalid_set's r2: 0.402681\n",
            "[4000]\ttrain_set's l2: 12107\ttrain_set's r2: 0.632211\tvalid_set's l2: 18977.2\tvalid_set's r2: 0.403808\n"
          ]
        },
        {
          "output_type": "stream",
          "name": "stderr",
          "text": [
            "/usr/local/lib/python3.7/dist-packages/lightgbm/engine.py:239: UserWarning: 'verbose_eval' argument is deprecated and will be removed in a future release of LightGBM. Pass 'log_evaluation()' callback via 'callbacks' argument instead.\n",
            "  _log_warning(\"'verbose_eval' argument is deprecated and will be removed in a future release of LightGBM. \"\n"
          ]
        },
        {
          "output_type": "stream",
          "name": "stdout",
          "text": [
            "[1000]\ttrain_set's l2: 15492.8\ttrain_set's r2: 0.526852\tvalid_set's l2: 18336.5\tvalid_set's r2: 0.451093\n"
          ]
        },
        {
          "output_type": "stream",
          "name": "stderr",
          "text": [
            "/usr/local/lib/python3.7/dist-packages/lightgbm/engine.py:239: UserWarning: 'verbose_eval' argument is deprecated and will be removed in a future release of LightGBM. Pass 'log_evaluation()' callback via 'callbacks' argument instead.\n",
            "  _log_warning(\"'verbose_eval' argument is deprecated and will be removed in a future release of LightGBM. \"\n"
          ]
        },
        {
          "output_type": "stream",
          "name": "stdout",
          "text": [
            "[1000]\ttrain_set's l2: 15420.6\ttrain_set's r2: 0.530818\tvalid_set's l2: 18927.9\tvalid_set's r2: 0.413354\n",
            "[2000]\ttrain_set's l2: 13872.7\ttrain_set's r2: 0.577949\tvalid_set's l2: 18676.9\tvalid_set's r2: 0.421144\n",
            "[3000]\ttrain_set's l2: 12870.3\ttrain_set's r2: 0.608454\tvalid_set's l2: 18562.8\tvalid_set's r2: 0.424758\n",
            "[4000]\ttrain_set's l2: 12096\ttrain_set's r2: 0.631942\tvalid_set's l2: 18557.7\tvalid_set's r2: 0.424816\n"
          ]
        },
        {
          "output_type": "stream",
          "name": "stderr",
          "text": [
            "/usr/local/lib/python3.7/dist-packages/lightgbm/engine.py:239: UserWarning: 'verbose_eval' argument is deprecated and will be removed in a future release of LightGBM. Pass 'log_evaluation()' callback via 'callbacks' argument instead.\n",
            "  _log_warning(\"'verbose_eval' argument is deprecated and will be removed in a future release of LightGBM. \"\n"
          ]
        },
        {
          "output_type": "stream",
          "name": "stdout",
          "text": [
            "[1000]\ttrain_set's l2: 15535.3\ttrain_set's r2: 0.528587\tvalid_set's l2: 17552\tvalid_set's r2: 0.441059\n"
          ]
        },
        {
          "output_type": "stream",
          "name": "stderr",
          "text": [
            "\t0.4522\t = Validation score   (r2)\n",
            "\t142.53s\t = Training   runtime\n",
            "\t2.49s\t = Validation runtime\n",
            "Fitting model: LightGBM_BAG_L1 ... Training model for up to 247.39s of the 447.37s of remaining time.\n",
            "/usr/local/lib/python3.7/dist-packages/lightgbm/engine.py:239: UserWarning: 'verbose_eval' argument is deprecated and will be removed in a future release of LightGBM. Pass 'log_evaluation()' callback via 'callbacks' argument instead.\n",
            "  _log_warning(\"'verbose_eval' argument is deprecated and will be removed in a future release of LightGBM. \"\n",
            "/usr/local/lib/python3.7/dist-packages/lightgbm/engine.py:239: UserWarning: 'verbose_eval' argument is deprecated and will be removed in a future release of LightGBM. Pass 'log_evaluation()' callback via 'callbacks' argument instead.\n",
            "  _log_warning(\"'verbose_eval' argument is deprecated and will be removed in a future release of LightGBM. \"\n",
            "/usr/local/lib/python3.7/dist-packages/lightgbm/engine.py:239: UserWarning: 'verbose_eval' argument is deprecated and will be removed in a future release of LightGBM. Pass 'log_evaluation()' callback via 'callbacks' argument instead.\n",
            "  _log_warning(\"'verbose_eval' argument is deprecated and will be removed in a future release of LightGBM. \"\n"
          ]
        },
        {
          "output_type": "stream",
          "name": "stdout",
          "text": [
            "[1000]\ttrain_set's l2: 9220.16\ttrain_set's r2: 0.718792\tvalid_set's l2: 15190.4\tvalid_set's r2: 0.53965\n"
          ]
        },
        {
          "output_type": "stream",
          "name": "stderr",
          "text": [
            "/usr/local/lib/python3.7/dist-packages/lightgbm/engine.py:239: UserWarning: 'verbose_eval' argument is deprecated and will be removed in a future release of LightGBM. Pass 'log_evaluation()' callback via 'callbacks' argument instead.\n",
            "  _log_warning(\"'verbose_eval' argument is deprecated and will be removed in a future release of LightGBM. \"\n"
          ]
        },
        {
          "output_type": "stream",
          "name": "stdout",
          "text": [
            "[1000]\ttrain_set's l2: 8977.16\ttrain_set's r2: 0.722756\tvalid_set's l2: 18396.9\tvalid_set's r2: 0.498428\n"
          ]
        },
        {
          "output_type": "stream",
          "name": "stderr",
          "text": [
            "/usr/local/lib/python3.7/dist-packages/lightgbm/engine.py:239: UserWarning: 'verbose_eval' argument is deprecated and will be removed in a future release of LightGBM. Pass 'log_evaluation()' callback via 'callbacks' argument instead.\n",
            "  _log_warning(\"'verbose_eval' argument is deprecated and will be removed in a future release of LightGBM. \"\n",
            "/usr/local/lib/python3.7/dist-packages/lightgbm/engine.py:239: UserWarning: 'verbose_eval' argument is deprecated and will be removed in a future release of LightGBM. Pass 'log_evaluation()' callback via 'callbacks' argument instead.\n",
            "  _log_warning(\"'verbose_eval' argument is deprecated and will be removed in a future release of LightGBM. \"\n"
          ]
        },
        {
          "output_type": "stream",
          "name": "stdout",
          "text": [
            "[1000]\ttrain_set's l2: 9083.14\ttrain_set's r2: 0.724494\tvalid_set's l2: 17447.1\tvalid_set's r2: 0.443762\n"
          ]
        },
        {
          "output_type": "stream",
          "name": "stderr",
          "text": [
            "/usr/local/lib/python3.7/dist-packages/lightgbm/engine.py:239: UserWarning: 'verbose_eval' argument is deprecated and will be removed in a future release of LightGBM. Pass 'log_evaluation()' callback via 'callbacks' argument instead.\n",
            "  _log_warning(\"'verbose_eval' argument is deprecated and will be removed in a future release of LightGBM. \"\n",
            "/usr/local/lib/python3.7/dist-packages/lightgbm/engine.py:239: UserWarning: 'verbose_eval' argument is deprecated and will be removed in a future release of LightGBM. Pass 'log_evaluation()' callback via 'callbacks' argument instead.\n",
            "  _log_warning(\"'verbose_eval' argument is deprecated and will be removed in a future release of LightGBM. \"\n"
          ]
        },
        {
          "output_type": "stream",
          "name": "stdout",
          "text": [
            "[1000]\ttrain_set's l2: 9056.1\ttrain_set's r2: 0.723412\tvalid_set's l2: 17297.8\tvalid_set's r2: 0.482139\n"
          ]
        },
        {
          "output_type": "stream",
          "name": "stderr",
          "text": [
            "/usr/local/lib/python3.7/dist-packages/lightgbm/engine.py:239: UserWarning: 'verbose_eval' argument is deprecated and will be removed in a future release of LightGBM. Pass 'log_evaluation()' callback via 'callbacks' argument instead.\n",
            "  _log_warning(\"'verbose_eval' argument is deprecated and will be removed in a future release of LightGBM. \"\n",
            "/usr/local/lib/python3.7/dist-packages/lightgbm/engine.py:239: UserWarning: 'verbose_eval' argument is deprecated and will be removed in a future release of LightGBM. Pass 'log_evaluation()' callback via 'callbacks' argument instead.\n",
            "  _log_warning(\"'verbose_eval' argument is deprecated and will be removed in a future release of LightGBM. \"\n",
            "\t0.4666\t = Validation score   (r2)\n",
            "\t30.63s\t = Training   runtime\n",
            "\t0.52s\t = Validation runtime\n",
            "Fitting model: RandomForestMSE_BAG_L1 ... Training model for up to 214.63s of the 414.6s of remaining time.\n",
            "\t0.5723\t = Validation score   (r2)\n",
            "\t7.88s\t = Training   runtime\n",
            "\t0.46s\t = Validation runtime\n",
            "Fitting model: CatBoost_BAG_L1 ... Training model for up to 205.41s of the 405.39s of remaining time.\n",
            "\t0.4661\t = Validation score   (r2)\n",
            "\t61.75s\t = Training   runtime\n",
            "\t0.05s\t = Validation runtime\n",
            "Fitting model: ExtraTreesMSE_BAG_L1 ... Training model for up to 143.49s of the 343.46s of remaining time.\n",
            "\t0.4949\t = Validation score   (r2)\n",
            "\t3.55s\t = Training   runtime\n",
            "\t0.45s\t = Validation runtime\n",
            "Fitting model: NeuralNetFastAI_BAG_L1 ... Training model for up to 138.73s of the 338.71s of remaining time.\n",
            "\tRan out of time, stopping training early. (Stopping on epoch 0)\n",
            "\tTime limit exceeded... Skipping NeuralNetFastAI_BAG_L1.\n",
            "Fitting model: XGBoost_BAG_L1 ... Training model for up to 115.33s of the 315.3s of remaining time.\n",
            "\t0.4665\t = Validation score   (r2)\n",
            "\t21.87s\t = Training   runtime\n",
            "\t0.17s\t = Validation runtime\n",
            "Fitting model: NeuralNetMXNet_BAG_L1 ... Training model for up to 92.03s of the 292.01s of remaining time.\n",
            "\tRan out of time, stopping training early. (Stopping on epoch 4)\n",
            "\tRan out of time, stopping training early. (Stopping on epoch 7)\n",
            "\tRan out of time, stopping training early. (Stopping on epoch 7)\n",
            "\tRan out of time, stopping training early. (Stopping on epoch 7)\n",
            "\tRan out of time, stopping training early. (Stopping on epoch 8)\n",
            "\tRan out of time, stopping training early. (Stopping on epoch 8)\n",
            "\tRan out of time, stopping training early. (Stopping on epoch 8)\n",
            "\tRan out of time, stopping training early. (Stopping on epoch 9)\n",
            "\tRan out of time, stopping training early. (Stopping on epoch 11)\n",
            "\tRan out of time, stopping training early. (Stopping on epoch 13)\n",
            "\t0.3672\t = Validation score   (r2)\n",
            "\t86.52s\t = Training   runtime\n",
            "\t1.73s\t = Validation runtime\n",
            "Fitting model: LightGBMLarge_BAG_L1 ... Training model for up to 3.69s of the 203.67s of remaining time.\n",
            "/usr/local/lib/python3.7/dist-packages/lightgbm/engine.py:239: UserWarning: 'verbose_eval' argument is deprecated and will be removed in a future release of LightGBM. Pass 'log_evaluation()' callback via 'callbacks' argument instead.\n",
            "  _log_warning(\"'verbose_eval' argument is deprecated and will be removed in a future release of LightGBM. \"\n",
            "\tRan out of time, early stopping on iteration 26. Best iteration is:\n",
            "\t[26]\ttrain_set's l2: 19762.5\ttrain_set's r2: 0.398855\tvalid_set's l2: 21196.4\tvalid_set's r2: 0.341792\n",
            "/usr/local/lib/python3.7/dist-packages/lightgbm/engine.py:239: UserWarning: 'verbose_eval' argument is deprecated and will be removed in a future release of LightGBM. Pass 'log_evaluation()' callback via 'callbacks' argument instead.\n",
            "  _log_warning(\"'verbose_eval' argument is deprecated and will be removed in a future release of LightGBM. \"\n",
            "\tRan out of time, early stopping on iteration 32. Best iteration is:\n",
            "\t[32]\ttrain_set's l2: 18228.2\ttrain_set's r2: 0.438242\tvalid_set's l2: 23016.7\tvalid_set's r2: 0.36066\n",
            "/usr/local/lib/python3.7/dist-packages/lightgbm/engine.py:239: UserWarning: 'verbose_eval' argument is deprecated and will be removed in a future release of LightGBM. Pass 'log_evaluation()' callback via 'callbacks' argument instead.\n",
            "  _log_warning(\"'verbose_eval' argument is deprecated and will be removed in a future release of LightGBM. \"\n",
            "\tRan out of time, early stopping on iteration 33. Best iteration is:\n",
            "\t[33]\ttrain_set's l2: 18415\ttrain_set's r2: 0.438333\tvalid_set's l2: 19473.5\tvalid_set's r2: 0.409761\n",
            "/usr/local/lib/python3.7/dist-packages/lightgbm/engine.py:239: UserWarning: 'verbose_eval' argument is deprecated and will be removed in a future release of LightGBM. Pass 'log_evaluation()' callback via 'callbacks' argument instead.\n",
            "  _log_warning(\"'verbose_eval' argument is deprecated and will be removed in a future release of LightGBM. \"\n",
            "\tRan out of time, early stopping on iteration 29. Best iteration is:\n",
            "\t[29]\ttrain_set's l2: 18766.6\ttrain_set's r2: 0.420328\tvalid_set's l2: 23884\tvalid_set's r2: 0.3487\n",
            "/usr/local/lib/python3.7/dist-packages/lightgbm/engine.py:239: UserWarning: 'verbose_eval' argument is deprecated and will be removed in a future release of LightGBM. Pass 'log_evaluation()' callback via 'callbacks' argument instead.\n",
            "  _log_warning(\"'verbose_eval' argument is deprecated and will be removed in a future release of LightGBM. \"\n",
            "\tRan out of time, early stopping on iteration 34. Best iteration is:\n",
            "\t[34]\ttrain_set's l2: 18310.4\ttrain_set's r2: 0.44769\tvalid_set's l2: 18120.1\tvalid_set's r2: 0.387192\n",
            "/usr/local/lib/python3.7/dist-packages/lightgbm/engine.py:239: UserWarning: 'verbose_eval' argument is deprecated and will be removed in a future release of LightGBM. Pass 'log_evaluation()' callback via 'callbacks' argument instead.\n",
            "  _log_warning(\"'verbose_eval' argument is deprecated and will be removed in a future release of LightGBM. \"\n",
            "\tRan out of time, early stopping on iteration 33. Best iteration is:\n",
            "\t[33]\ttrain_set's l2: 18210.7\ttrain_set's r2: 0.447607\tvalid_set's l2: 20187.2\tvalid_set's r2: 0.356306\n",
            "/usr/local/lib/python3.7/dist-packages/lightgbm/engine.py:239: UserWarning: 'verbose_eval' argument is deprecated and will be removed in a future release of LightGBM. Pass 'log_evaluation()' callback via 'callbacks' argument instead.\n",
            "  _log_warning(\"'verbose_eval' argument is deprecated and will be removed in a future release of LightGBM. \"\n",
            "\tRan out of time, early stopping on iteration 32. Best iteration is:\n",
            "\t[32]\ttrain_set's l2: 18337.8\ttrain_set's r2: 0.442862\tvalid_set's l2: 21165.1\tvalid_set's r2: 0.334949\n",
            "/usr/local/lib/python3.7/dist-packages/lightgbm/engine.py:239: UserWarning: 'verbose_eval' argument is deprecated and will be removed in a future release of LightGBM. Pass 'log_evaluation()' callback via 'callbacks' argument instead.\n",
            "  _log_warning(\"'verbose_eval' argument is deprecated and will be removed in a future release of LightGBM. \"\n",
            "\tRan out of time, early stopping on iteration 40. Best iteration is:\n",
            "\t[40]\ttrain_set's l2: 17067.7\ttrain_set's r2: 0.478786\tvalid_set's l2: 20064\tvalid_set's r2: 0.399437\n",
            "/usr/local/lib/python3.7/dist-packages/lightgbm/engine.py:239: UserWarning: 'verbose_eval' argument is deprecated and will be removed in a future release of LightGBM. Pass 'log_evaluation()' callback via 'callbacks' argument instead.\n",
            "  _log_warning(\"'verbose_eval' argument is deprecated and will be removed in a future release of LightGBM. \"\n",
            "\tRan out of time, early stopping on iteration 37. Best iteration is:\n",
            "\t[37]\ttrain_set's l2: 17374.4\ttrain_set's r2: 0.471398\tvalid_set's l2: 20572.3\tvalid_set's r2: 0.362358\n",
            "/usr/local/lib/python3.7/dist-packages/lightgbm/engine.py:239: UserWarning: 'verbose_eval' argument is deprecated and will be removed in a future release of LightGBM. Pass 'log_evaluation()' callback via 'callbacks' argument instead.\n",
            "  _log_warning(\"'verbose_eval' argument is deprecated and will be removed in a future release of LightGBM. \"\n",
            "\tRan out of time, early stopping on iteration 43. Best iteration is:\n",
            "\t[43]\ttrain_set's l2: 16617.6\ttrain_set's r2: 0.49573\tvalid_set's l2: 18926.9\tvalid_set's r2: 0.397045\n",
            "\t0.3703\t = Validation score   (r2)\n",
            "\t3.45s\t = Training   runtime\n",
            "\t0.06s\t = Validation runtime\n",
            "Completed 1/20 k-fold bagging repeats ...\n",
            "Fitting model: WeightedEnsemble_L2 ... Training model for up to 360.0s of the 199.96s of remaining time.\n",
            "\t0.5724\t = Validation score   (r2)\n",
            "\t0.65s\t = Training   runtime\n",
            "\t0.0s\t = Validation runtime\n",
            "Fitting 9 L2 models ...\n",
            "Fitting model: LightGBMXT_BAG_L2 ... Training model for up to 199.28s of the 199.26s of remaining time.\n",
            "/usr/local/lib/python3.7/dist-packages/lightgbm/engine.py:239: UserWarning: 'verbose_eval' argument is deprecated and will be removed in a future release of LightGBM. Pass 'log_evaluation()' callback via 'callbacks' argument instead.\n",
            "  _log_warning(\"'verbose_eval' argument is deprecated and will be removed in a future release of LightGBM. \"\n",
            "/usr/local/lib/python3.7/dist-packages/lightgbm/engine.py:239: UserWarning: 'verbose_eval' argument is deprecated and will be removed in a future release of LightGBM. Pass 'log_evaluation()' callback via 'callbacks' argument instead.\n",
            "  _log_warning(\"'verbose_eval' argument is deprecated and will be removed in a future release of LightGBM. \"\n",
            "/usr/local/lib/python3.7/dist-packages/lightgbm/engine.py:239: UserWarning: 'verbose_eval' argument is deprecated and will be removed in a future release of LightGBM. Pass 'log_evaluation()' callback via 'callbacks' argument instead.\n",
            "  _log_warning(\"'verbose_eval' argument is deprecated and will be removed in a future release of LightGBM. \"\n",
            "/usr/local/lib/python3.7/dist-packages/lightgbm/engine.py:239: UserWarning: 'verbose_eval' argument is deprecated and will be removed in a future release of LightGBM. Pass 'log_evaluation()' callback via 'callbacks' argument instead.\n",
            "  _log_warning(\"'verbose_eval' argument is deprecated and will be removed in a future release of LightGBM. \"\n",
            "/usr/local/lib/python3.7/dist-packages/lightgbm/engine.py:239: UserWarning: 'verbose_eval' argument is deprecated and will be removed in a future release of LightGBM. Pass 'log_evaluation()' callback via 'callbacks' argument instead.\n",
            "  _log_warning(\"'verbose_eval' argument is deprecated and will be removed in a future release of LightGBM. \"\n",
            "/usr/local/lib/python3.7/dist-packages/lightgbm/engine.py:239: UserWarning: 'verbose_eval' argument is deprecated and will be removed in a future release of LightGBM. Pass 'log_evaluation()' callback via 'callbacks' argument instead.\n",
            "  _log_warning(\"'verbose_eval' argument is deprecated and will be removed in a future release of LightGBM. \"\n",
            "/usr/local/lib/python3.7/dist-packages/lightgbm/engine.py:239: UserWarning: 'verbose_eval' argument is deprecated and will be removed in a future release of LightGBM. Pass 'log_evaluation()' callback via 'callbacks' argument instead.\n",
            "  _log_warning(\"'verbose_eval' argument is deprecated and will be removed in a future release of LightGBM. \"\n",
            "/usr/local/lib/python3.7/dist-packages/lightgbm/engine.py:239: UserWarning: 'verbose_eval' argument is deprecated and will be removed in a future release of LightGBM. Pass 'log_evaluation()' callback via 'callbacks' argument instead.\n",
            "  _log_warning(\"'verbose_eval' argument is deprecated and will be removed in a future release of LightGBM. \"\n",
            "/usr/local/lib/python3.7/dist-packages/lightgbm/engine.py:239: UserWarning: 'verbose_eval' argument is deprecated and will be removed in a future release of LightGBM. Pass 'log_evaluation()' callback via 'callbacks' argument instead.\n",
            "  _log_warning(\"'verbose_eval' argument is deprecated and will be removed in a future release of LightGBM. \"\n",
            "/usr/local/lib/python3.7/dist-packages/lightgbm/engine.py:239: UserWarning: 'verbose_eval' argument is deprecated and will be removed in a future release of LightGBM. Pass 'log_evaluation()' callback via 'callbacks' argument instead.\n",
            "  _log_warning(\"'verbose_eval' argument is deprecated and will be removed in a future release of LightGBM. \"\n",
            "\t0.5899\t = Validation score   (r2)\n",
            "\t21.76s\t = Training   runtime\n",
            "\t0.32s\t = Validation runtime\n",
            "Fitting model: LightGBM_BAG_L2 ... Training model for up to 176.57s of the 176.54s of remaining time.\n",
            "/usr/local/lib/python3.7/dist-packages/lightgbm/engine.py:239: UserWarning: 'verbose_eval' argument is deprecated and will be removed in a future release of LightGBM. Pass 'log_evaluation()' callback via 'callbacks' argument instead.\n",
            "  _log_warning(\"'verbose_eval' argument is deprecated and will be removed in a future release of LightGBM. \"\n",
            "/usr/local/lib/python3.7/dist-packages/lightgbm/engine.py:239: UserWarning: 'verbose_eval' argument is deprecated and will be removed in a future release of LightGBM. Pass 'log_evaluation()' callback via 'callbacks' argument instead.\n",
            "  _log_warning(\"'verbose_eval' argument is deprecated and will be removed in a future release of LightGBM. \"\n",
            "/usr/local/lib/python3.7/dist-packages/lightgbm/engine.py:239: UserWarning: 'verbose_eval' argument is deprecated and will be removed in a future release of LightGBM. Pass 'log_evaluation()' callback via 'callbacks' argument instead.\n",
            "  _log_warning(\"'verbose_eval' argument is deprecated and will be removed in a future release of LightGBM. \"\n",
            "/usr/local/lib/python3.7/dist-packages/lightgbm/engine.py:239: UserWarning: 'verbose_eval' argument is deprecated and will be removed in a future release of LightGBM. Pass 'log_evaluation()' callback via 'callbacks' argument instead.\n",
            "  _log_warning(\"'verbose_eval' argument is deprecated and will be removed in a future release of LightGBM. \"\n",
            "/usr/local/lib/python3.7/dist-packages/lightgbm/engine.py:239: UserWarning: 'verbose_eval' argument is deprecated and will be removed in a future release of LightGBM. Pass 'log_evaluation()' callback via 'callbacks' argument instead.\n",
            "  _log_warning(\"'verbose_eval' argument is deprecated and will be removed in a future release of LightGBM. \"\n",
            "/usr/local/lib/python3.7/dist-packages/lightgbm/engine.py:239: UserWarning: 'verbose_eval' argument is deprecated and will be removed in a future release of LightGBM. Pass 'log_evaluation()' callback via 'callbacks' argument instead.\n",
            "  _log_warning(\"'verbose_eval' argument is deprecated and will be removed in a future release of LightGBM. \"\n",
            "/usr/local/lib/python3.7/dist-packages/lightgbm/engine.py:239: UserWarning: 'verbose_eval' argument is deprecated and will be removed in a future release of LightGBM. Pass 'log_evaluation()' callback via 'callbacks' argument instead.\n",
            "  _log_warning(\"'verbose_eval' argument is deprecated and will be removed in a future release of LightGBM. \"\n",
            "/usr/local/lib/python3.7/dist-packages/lightgbm/engine.py:239: UserWarning: 'verbose_eval' argument is deprecated and will be removed in a future release of LightGBM. Pass 'log_evaluation()' callback via 'callbacks' argument instead.\n",
            "  _log_warning(\"'verbose_eval' argument is deprecated and will be removed in a future release of LightGBM. \"\n",
            "/usr/local/lib/python3.7/dist-packages/lightgbm/engine.py:239: UserWarning: 'verbose_eval' argument is deprecated and will be removed in a future release of LightGBM. Pass 'log_evaluation()' callback via 'callbacks' argument instead.\n",
            "  _log_warning(\"'verbose_eval' argument is deprecated and will be removed in a future release of LightGBM. \"\n",
            "/usr/local/lib/python3.7/dist-packages/lightgbm/engine.py:239: UserWarning: 'verbose_eval' argument is deprecated and will be removed in a future release of LightGBM. Pass 'log_evaluation()' callback via 'callbacks' argument instead.\n",
            "  _log_warning(\"'verbose_eval' argument is deprecated and will be removed in a future release of LightGBM. \"\n",
            "\t0.5839\t = Validation score   (r2)\n",
            "\t12.82s\t = Training   runtime\n",
            "\t0.1s\t = Validation runtime\n",
            "Fitting model: RandomForestMSE_BAG_L2 ... Training model for up to 163.45s of the 163.43s of remaining time.\n",
            "\t0.566\t = Validation score   (r2)\n",
            "\t33.21s\t = Training   runtime\n",
            "\t0.61s\t = Validation runtime\n",
            "Fitting model: CatBoost_BAG_L2 ... Training model for up to 128.61s of the 128.59s of remaining time.\n",
            "\t0.5877\t = Validation score   (r2)\n",
            "\t30.01s\t = Training   runtime\n",
            "\t0.04s\t = Validation runtime\n",
            "Fitting model: ExtraTreesMSE_BAG_L2 ... Training model for up to 98.48s of the 98.45s of remaining time.\n",
            "\t0.5791\t = Validation score   (r2)\n",
            "\t7.47s\t = Training   runtime\n",
            "\t0.58s\t = Validation runtime\n",
            "Fitting model: NeuralNetFastAI_BAG_L2 ... Training model for up to 89.52s of the 89.5s of remaining time.\n",
            "\tRan out of time, stopping training early. (Stopping on epoch 15)\n",
            "\tRan out of time, stopping training early. (Stopping on epoch 15)\n",
            "\tRan out of time, stopping training early. (Stopping on epoch 15)\n",
            "\tRan out of time, stopping training early. (Stopping on epoch 16)\n",
            "\tRan out of time, stopping training early. (Stopping on epoch 17)\n",
            "\tRan out of time, stopping training early. (Stopping on epoch 18)\n",
            "\tRan out of time, stopping training early. (Stopping on epoch 18)\n",
            "\tRan out of time, stopping training early. (Stopping on epoch 20)\n",
            "\tRan out of time, stopping training early. (Stopping on epoch 22)\n",
            "\tRan out of time, stopping training early. (Stopping on epoch 27)\n",
            "\t0.5939\t = Validation score   (r2)\n",
            "\t85.7s\t = Training   runtime\n",
            "\t0.41s\t = Validation runtime\n",
            "Fitting model: XGBoost_BAG_L2 ... Training model for up to 3.16s of the 3.14s of remaining time.\n",
            "\t0.5482\t = Validation score   (r2)\n",
            "\t3.0s\t = Training   runtime\n",
            "\t0.06s\t = Validation runtime\n",
            "Completed 1/20 k-fold bagging repeats ...\n",
            "Fitting model: WeightedEnsemble_L3 ... Training model for up to 360.0s of the -0.04s of remaining time.\n",
            "\t0.5993\t = Validation score   (r2)\n",
            "\t0.51s\t = Training   runtime\n",
            "\t0.0s\t = Validation runtime\n",
            "AutoGluon training complete, total runtime = 600.62s ...\n",
            "TabularPredictor saved. To load, use: predictor = TabularPredictor.load(\"AutogluonModels/ag-20220129_213241/\")\n"
          ]
        },
        {
          "output_type": "execute_result",
          "data": {
            "text/plain": [
              "<autogluon.tabular.predictor.predictor.TabularPredictor at 0x7ff3c7631410>"
            ]
          },
          "metadata": {},
          "execution_count": 14
        }
      ],
      "source": [
        "predictor = TabularPredictor(\n",
        "    label=\"count\",\n",
        "    problem_type=\"regression\",\n",
        "    eval_metric=\"r2\",\n",
        "    )\n",
        "\n",
        "predictor.fit(\n",
        "    train_data=train,\n",
        "    time_limit=600, \n",
        "    presets=\"best_quality\"\n",
        ")"
      ]
    },
    {
      "cell_type": "markdown",
      "metadata": {
        "id": "3xwqo3nEFp32"
      },
      "source": [
        "### Review AutoGluon's training run with ranking of models that did the best."
      ]
    },
    {
      "cell_type": "code",
      "execution_count": 15,
      "metadata": {
        "id": "Afd3QnxxFp32",
        "outputId": "45ae507e-3a5a-4f35-d3f7-99c24a9b7e24",
        "colab": {
          "base_uri": "https://localhost:8080/"
        }
      },
      "outputs": [
        {
          "output_type": "stream",
          "name": "stdout",
          "text": [
            "*** Summary of fit() ***\n",
            "Estimated performance of each model:\n",
            "                     model  score_val  pred_time_val    fit_time  pred_time_val_marginal  fit_time_marginal  stack_level  can_infer  fit_order\n",
            "0      WeightedEnsemble_L3   0.599288       7.904028  516.584232                0.000905           0.508788            3       True         19\n",
            "1   NeuralNetFastAI_BAG_L2   0.593934       6.860190  444.003421                0.406245          85.703439            2       True         17\n",
            "2        LightGBMXT_BAG_L2   0.589939       6.778198  380.063641                0.324253          21.763659            2       True         12\n",
            "3          CatBoost_BAG_L2   0.587726       6.495467  388.312495                0.041522          30.012513            2       True         15\n",
            "4          LightGBM_BAG_L2   0.583867       6.550629  371.123451                0.096684          12.823469            2       True         13\n",
            "5     ExtraTreesMSE_BAG_L2   0.579085       7.034419  365.772364                0.580474           7.472382            2       True         16\n",
            "6      WeightedEnsemble_L2   0.572410       2.194971   95.052197                0.000902           0.651574            2       True         11\n",
            "7   RandomForestMSE_BAG_L1   0.572330       0.463755    7.879011                0.463755           7.879011            1       True          5\n",
            "8   RandomForestMSE_BAG_L2   0.566035       7.062203  391.511402                0.608258          33.211421            2       True         14\n",
            "9           XGBoost_BAG_L2   0.548244       6.516391  361.299956                0.062446           2.999974            2       True         18\n",
            "10    ExtraTreesMSE_BAG_L1   0.494906       0.450696    3.554878                0.450696           3.554878            1       True          7\n",
            "11         LightGBM_BAG_L1   0.466619       0.518328   30.631398                0.518328          30.631398            1       True          4\n",
            "12          XGBoost_BAG_L1   0.466462       0.165818   21.874801                0.165818          21.874801            1       True          8\n",
            "13         CatBoost_BAG_L1   0.466130       0.053427   61.749794                0.053427          61.749794            1       True          6\n",
            "14       LightGBMXT_BAG_L1   0.452221       2.485570  142.525621                2.485570         142.525621            1       True          3\n",
            "15    LightGBMLarge_BAG_L1   0.370295       0.055652    3.446831                0.055652           3.446831            1       True         10\n",
            "16   NeuralNetMXNet_BAG_L1   0.367172       1.730314   86.521611                1.730314          86.521611            1       True          9\n",
            "17   KNeighborsUnif_BAG_L1   0.215723       0.307111    0.064270                0.307111           0.064270            1       True          1\n",
            "18   KNeighborsDist_BAG_L1   0.123814       0.223275    0.051769                0.223275           0.051769            1       True          2\n",
            "Number of models trained: 19\n",
            "Types of models trained:\n",
            "{'StackerEnsembleModel_LGB', 'StackerEnsembleModel_XGBoost', 'StackerEnsembleModel_XT', 'StackerEnsembleModel_KNN', 'StackerEnsembleModel_RF', 'StackerEnsembleModel_CatBoost', 'StackerEnsembleModel_TabularNeuralNet', 'WeightedEnsembleModel', 'StackerEnsembleModel_NNFastAiTabular'}\n",
            "Bagging used: True  (with 10 folds)\n",
            "Multi-layer stack-ensembling used: True  (with 3 levels)\n",
            "Feature Metadata (Processed):\n",
            "(raw dtype, special dtypes):\n",
            "('float', [])                : 3 | ['temp', 'atemp', 'windspeed']\n",
            "('int', [])                  : 3 | ['season', 'weather', 'humidity']\n",
            "('int', ['bool'])            : 2 | ['holiday', 'workingday']\n",
            "('int', ['datetime_as_int']) : 1 | ['datetime']\n",
            "Plot summary of models saved to file: AutogluonModels/ag-20220129_213241/SummaryOfModels.html\n",
            "*** End of fit() summary ***\n"
          ]
        },
        {
          "output_type": "execute_result",
          "data": {
            "text/plain": [
              "{'leaderboard':                      model  score_val  ...  can_infer  fit_order\n",
              " 0      WeightedEnsemble_L3   0.599288  ...       True         19\n",
              " 1   NeuralNetFastAI_BAG_L2   0.593934  ...       True         17\n",
              " 2        LightGBMXT_BAG_L2   0.589939  ...       True         12\n",
              " 3          CatBoost_BAG_L2   0.587726  ...       True         15\n",
              " 4          LightGBM_BAG_L2   0.583867  ...       True         13\n",
              " 5     ExtraTreesMSE_BAG_L2   0.579085  ...       True         16\n",
              " 6      WeightedEnsemble_L2   0.572410  ...       True         11\n",
              " 7   RandomForestMSE_BAG_L1   0.572330  ...       True          5\n",
              " 8   RandomForestMSE_BAG_L2   0.566035  ...       True         14\n",
              " 9           XGBoost_BAG_L2   0.548244  ...       True         18\n",
              " 10    ExtraTreesMSE_BAG_L1   0.494906  ...       True          7\n",
              " 11         LightGBM_BAG_L1   0.466619  ...       True          4\n",
              " 12          XGBoost_BAG_L1   0.466462  ...       True          8\n",
              " 13         CatBoost_BAG_L1   0.466130  ...       True          6\n",
              " 14       LightGBMXT_BAG_L1   0.452221  ...       True          3\n",
              " 15    LightGBMLarge_BAG_L1   0.370295  ...       True         10\n",
              " 16   NeuralNetMXNet_BAG_L1   0.367172  ...       True          9\n",
              " 17   KNeighborsUnif_BAG_L1   0.215723  ...       True          1\n",
              " 18   KNeighborsDist_BAG_L1   0.123814  ...       True          2\n",
              " \n",
              " [19 rows x 9 columns],\n",
              " 'max_stack_level': 3,\n",
              " 'model_best': 'WeightedEnsemble_L3',\n",
              " 'model_fit_times': {'CatBoost_BAG_L1': 61.7497935295105,\n",
              "  'CatBoost_BAG_L2': 30.012512683868408,\n",
              "  'ExtraTreesMSE_BAG_L1': 3.554877519607544,\n",
              "  'ExtraTreesMSE_BAG_L2': 7.472382307052612,\n",
              "  'KNeighborsDist_BAG_L1': 0.05176854133605957,\n",
              "  'KNeighborsUnif_BAG_L1': 0.0642695426940918,\n",
              "  'LightGBMLarge_BAG_L1': 3.4468305110931396,\n",
              "  'LightGBMXT_BAG_L1': 142.5256209373474,\n",
              "  'LightGBMXT_BAG_L2': 21.763659477233887,\n",
              "  'LightGBM_BAG_L1': 30.63139796257019,\n",
              "  'LightGBM_BAG_L2': 12.823468685150146,\n",
              "  'NeuralNetFastAI_BAG_L2': 85.70343923568726,\n",
              "  'NeuralNetMXNet_BAG_L1': 86.52161121368408,\n",
              "  'RandomForestMSE_BAG_L1': 7.879011392593384,\n",
              "  'RandomForestMSE_BAG_L2': 33.21142053604126,\n",
              "  'WeightedEnsemble_L2': 0.6515741348266602,\n",
              "  'WeightedEnsemble_L3': 0.5087881088256836,\n",
              "  'XGBoost_BAG_L1': 21.87480068206787,\n",
              "  'XGBoost_BAG_L2': 2.999973773956299},\n",
              " 'model_hyperparams': {'CatBoost_BAG_L1': {'max_base_models': 25,\n",
              "   'max_base_models_per_type': 5,\n",
              "   'save_bag_folds': True,\n",
              "   'use_orig_features': True},\n",
              "  'CatBoost_BAG_L2': {'max_base_models': 25,\n",
              "   'max_base_models_per_type': 5,\n",
              "   'save_bag_folds': True,\n",
              "   'use_orig_features': True},\n",
              "  'ExtraTreesMSE_BAG_L1': {'max_base_models': 25,\n",
              "   'max_base_models_per_type': 5,\n",
              "   'save_bag_folds': True,\n",
              "   'use_child_oof': True,\n",
              "   'use_orig_features': True},\n",
              "  'ExtraTreesMSE_BAG_L2': {'max_base_models': 25,\n",
              "   'max_base_models_per_type': 5,\n",
              "   'save_bag_folds': True,\n",
              "   'use_child_oof': True,\n",
              "   'use_orig_features': True},\n",
              "  'KNeighborsDist_BAG_L1': {'max_base_models': 25,\n",
              "   'max_base_models_per_type': 5,\n",
              "   'save_bag_folds': True,\n",
              "   'use_child_oof': True,\n",
              "   'use_orig_features': True},\n",
              "  'KNeighborsUnif_BAG_L1': {'max_base_models': 25,\n",
              "   'max_base_models_per_type': 5,\n",
              "   'save_bag_folds': True,\n",
              "   'use_child_oof': True,\n",
              "   'use_orig_features': True},\n",
              "  'LightGBMLarge_BAG_L1': {'max_base_models': 25,\n",
              "   'max_base_models_per_type': 5,\n",
              "   'save_bag_folds': True,\n",
              "   'use_orig_features': True},\n",
              "  'LightGBMXT_BAG_L1': {'max_base_models': 25,\n",
              "   'max_base_models_per_type': 5,\n",
              "   'save_bag_folds': True,\n",
              "   'use_orig_features': True},\n",
              "  'LightGBMXT_BAG_L2': {'max_base_models': 25,\n",
              "   'max_base_models_per_type': 5,\n",
              "   'save_bag_folds': True,\n",
              "   'use_orig_features': True},\n",
              "  'LightGBM_BAG_L1': {'max_base_models': 25,\n",
              "   'max_base_models_per_type': 5,\n",
              "   'save_bag_folds': True,\n",
              "   'use_orig_features': True},\n",
              "  'LightGBM_BAG_L2': {'max_base_models': 25,\n",
              "   'max_base_models_per_type': 5,\n",
              "   'save_bag_folds': True,\n",
              "   'use_orig_features': True},\n",
              "  'NeuralNetFastAI_BAG_L2': {'max_base_models': 25,\n",
              "   'max_base_models_per_type': 5,\n",
              "   'save_bag_folds': True,\n",
              "   'use_orig_features': True},\n",
              "  'NeuralNetMXNet_BAG_L1': {'max_base_models': 25,\n",
              "   'max_base_models_per_type': 5,\n",
              "   'save_bag_folds': True,\n",
              "   'use_orig_features': True},\n",
              "  'RandomForestMSE_BAG_L1': {'max_base_models': 25,\n",
              "   'max_base_models_per_type': 5,\n",
              "   'save_bag_folds': True,\n",
              "   'use_child_oof': True,\n",
              "   'use_orig_features': True},\n",
              "  'RandomForestMSE_BAG_L2': {'max_base_models': 25,\n",
              "   'max_base_models_per_type': 5,\n",
              "   'save_bag_folds': True,\n",
              "   'use_child_oof': True,\n",
              "   'use_orig_features': True},\n",
              "  'WeightedEnsemble_L2': {'max_base_models': 25,\n",
              "   'max_base_models_per_type': 5,\n",
              "   'save_bag_folds': True,\n",
              "   'use_orig_features': False},\n",
              "  'WeightedEnsemble_L3': {'max_base_models': 25,\n",
              "   'max_base_models_per_type': 5,\n",
              "   'save_bag_folds': True,\n",
              "   'use_orig_features': False},\n",
              "  'XGBoost_BAG_L1': {'max_base_models': 25,\n",
              "   'max_base_models_per_type': 5,\n",
              "   'save_bag_folds': True,\n",
              "   'use_orig_features': True},\n",
              "  'XGBoost_BAG_L2': {'max_base_models': 25,\n",
              "   'max_base_models_per_type': 5,\n",
              "   'save_bag_folds': True,\n",
              "   'use_orig_features': True}},\n",
              " 'model_paths': {'CatBoost_BAG_L1': 'AutogluonModels/ag-20220129_213241/models/CatBoost_BAG_L1/',\n",
              "  'CatBoost_BAG_L2': 'AutogluonModels/ag-20220129_213241/models/CatBoost_BAG_L2/',\n",
              "  'ExtraTreesMSE_BAG_L1': 'AutogluonModels/ag-20220129_213241/models/ExtraTreesMSE_BAG_L1/',\n",
              "  'ExtraTreesMSE_BAG_L2': 'AutogluonModels/ag-20220129_213241/models/ExtraTreesMSE_BAG_L2/',\n",
              "  'KNeighborsDist_BAG_L1': 'AutogluonModels/ag-20220129_213241/models/KNeighborsDist_BAG_L1/',\n",
              "  'KNeighborsUnif_BAG_L1': 'AutogluonModels/ag-20220129_213241/models/KNeighborsUnif_BAG_L1/',\n",
              "  'LightGBMLarge_BAG_L1': 'AutogluonModels/ag-20220129_213241/models/LightGBMLarge_BAG_L1/',\n",
              "  'LightGBMXT_BAG_L1': 'AutogluonModels/ag-20220129_213241/models/LightGBMXT_BAG_L1/',\n",
              "  'LightGBMXT_BAG_L2': 'AutogluonModels/ag-20220129_213241/models/LightGBMXT_BAG_L2/',\n",
              "  'LightGBM_BAG_L1': 'AutogluonModels/ag-20220129_213241/models/LightGBM_BAG_L1/',\n",
              "  'LightGBM_BAG_L2': 'AutogluonModels/ag-20220129_213241/models/LightGBM_BAG_L2/',\n",
              "  'NeuralNetFastAI_BAG_L2': 'AutogluonModels/ag-20220129_213241/models/NeuralNetFastAI_BAG_L2/',\n",
              "  'NeuralNetMXNet_BAG_L1': 'AutogluonModels/ag-20220129_213241/models/NeuralNetMXNet_BAG_L1/',\n",
              "  'RandomForestMSE_BAG_L1': 'AutogluonModels/ag-20220129_213241/models/RandomForestMSE_BAG_L1/',\n",
              "  'RandomForestMSE_BAG_L2': 'AutogluonModels/ag-20220129_213241/models/RandomForestMSE_BAG_L2/',\n",
              "  'WeightedEnsemble_L2': 'AutogluonModels/ag-20220129_213241/models/WeightedEnsemble_L2/',\n",
              "  'WeightedEnsemble_L3': 'AutogluonModels/ag-20220129_213241/models/WeightedEnsemble_L3/',\n",
              "  'XGBoost_BAG_L1': 'AutogluonModels/ag-20220129_213241/models/XGBoost_BAG_L1/',\n",
              "  'XGBoost_BAG_L2': 'AutogluonModels/ag-20220129_213241/models/XGBoost_BAG_L2/'},\n",
              " 'model_performance': {'CatBoost_BAG_L1': 0.46612979906807883,\n",
              "  'CatBoost_BAG_L2': 0.5877261857081572,\n",
              "  'ExtraTreesMSE_BAG_L1': 0.494905549777618,\n",
              "  'ExtraTreesMSE_BAG_L2': 0.5790854594372642,\n",
              "  'KNeighborsDist_BAG_L1': 0.12381434021469773,\n",
              "  'KNeighborsUnif_BAG_L1': 0.21572321954622853,\n",
              "  'LightGBMLarge_BAG_L1': 0.3702954382885927,\n",
              "  'LightGBMXT_BAG_L1': 0.4522208535196661,\n",
              "  'LightGBMXT_BAG_L2': 0.5899392884674999,\n",
              "  'LightGBM_BAG_L1': 0.4666187135763119,\n",
              "  'LightGBM_BAG_L2': 0.5838668571134333,\n",
              "  'NeuralNetFastAI_BAG_L2': 0.5939342542292894,\n",
              "  'NeuralNetMXNet_BAG_L1': 0.36717181472224525,\n",
              "  'RandomForestMSE_BAG_L1': 0.5723300056850734,\n",
              "  'RandomForestMSE_BAG_L2': 0.5660348712332018,\n",
              "  'WeightedEnsemble_L2': 0.5724103182473365,\n",
              "  'WeightedEnsemble_L3': 0.5992876370910425,\n",
              "  'XGBoost_BAG_L1': 0.4664618870563133,\n",
              "  'XGBoost_BAG_L2': 0.5482440915233624},\n",
              " 'model_pred_times': {'CatBoost_BAG_L1': 0.05342674255371094,\n",
              "  'CatBoost_BAG_L2': 0.04152226448059082,\n",
              "  'ExtraTreesMSE_BAG_L1': 0.4506955146789551,\n",
              "  'ExtraTreesMSE_BAG_L2': 0.5804736614227295,\n",
              "  'KNeighborsDist_BAG_L1': 0.22327494621276855,\n",
              "  'KNeighborsUnif_BAG_L1': 0.3071112632751465,\n",
              "  'LightGBMLarge_BAG_L1': 0.05565214157104492,\n",
              "  'LightGBMXT_BAG_L1': 2.485569715499878,\n",
              "  'LightGBMXT_BAG_L2': 0.3242533206939697,\n",
              "  'LightGBM_BAG_L1': 0.5183277130126953,\n",
              "  'LightGBM_BAG_L2': 0.09668397903442383,\n",
              "  'NeuralNetFastAI_BAG_L2': 0.40624523162841797,\n",
              "  'NeuralNetMXNet_BAG_L1': 1.730313777923584,\n",
              "  'RandomForestMSE_BAG_L1': 0.46375489234924316,\n",
              "  'RandomForestMSE_BAG_L2': 0.6082582473754883,\n",
              "  'WeightedEnsemble_L2': 0.0009019374847412109,\n",
              "  'WeightedEnsemble_L3': 0.0009047985076904297,\n",
              "  'XGBoost_BAG_L1': 0.1658182144165039,\n",
              "  'XGBoost_BAG_L2': 0.062445640563964844},\n",
              " 'model_types': {'CatBoost_BAG_L1': 'StackerEnsembleModel_CatBoost',\n",
              "  'CatBoost_BAG_L2': 'StackerEnsembleModel_CatBoost',\n",
              "  'ExtraTreesMSE_BAG_L1': 'StackerEnsembleModel_XT',\n",
              "  'ExtraTreesMSE_BAG_L2': 'StackerEnsembleModel_XT',\n",
              "  'KNeighborsDist_BAG_L1': 'StackerEnsembleModel_KNN',\n",
              "  'KNeighborsUnif_BAG_L1': 'StackerEnsembleModel_KNN',\n",
              "  'LightGBMLarge_BAG_L1': 'StackerEnsembleModel_LGB',\n",
              "  'LightGBMXT_BAG_L1': 'StackerEnsembleModel_LGB',\n",
              "  'LightGBMXT_BAG_L2': 'StackerEnsembleModel_LGB',\n",
              "  'LightGBM_BAG_L1': 'StackerEnsembleModel_LGB',\n",
              "  'LightGBM_BAG_L2': 'StackerEnsembleModel_LGB',\n",
              "  'NeuralNetFastAI_BAG_L2': 'StackerEnsembleModel_NNFastAiTabular',\n",
              "  'NeuralNetMXNet_BAG_L1': 'StackerEnsembleModel_TabularNeuralNet',\n",
              "  'RandomForestMSE_BAG_L1': 'StackerEnsembleModel_RF',\n",
              "  'RandomForestMSE_BAG_L2': 'StackerEnsembleModel_RF',\n",
              "  'WeightedEnsemble_L2': 'WeightedEnsembleModel',\n",
              "  'WeightedEnsemble_L3': 'WeightedEnsembleModel',\n",
              "  'XGBoost_BAG_L1': 'StackerEnsembleModel_XGBoost',\n",
              "  'XGBoost_BAG_L2': 'StackerEnsembleModel_XGBoost'},\n",
              " 'num_bag_folds': 10}"
            ]
          },
          "metadata": {},
          "execution_count": 15
        }
      ],
      "source": [
        "predictor.fit_summary()"
      ]
    },
    {
      "cell_type": "markdown",
      "metadata": {
        "id": "rpyyI9ILFp32"
      },
      "source": [
        "### Create predictions from test dataset"
      ]
    },
    {
      "cell_type": "code",
      "execution_count": 16,
      "metadata": {
        "id": "88Gr3VZ5Fp32",
        "outputId": "c05208d1-0dfe-456a-8add-0b7cf2574507",
        "colab": {
          "base_uri": "https://localhost:8080/"
        }
      },
      "outputs": [
        {
          "output_type": "execute_result",
          "data": {
            "text/plain": [
              "0     98.249649\n",
              "1     92.696182\n",
              "2     92.697662\n",
              "3    107.486801\n",
              "4    107.350266\n",
              "Name: count, dtype: float32"
            ]
          },
          "metadata": {},
          "execution_count": 16
        }
      ],
      "source": [
        "predictions = predictor.predict(test)\n",
        "predictions.head()"
      ]
    },
    {
      "cell_type": "code",
      "execution_count": 17,
      "metadata": {
        "id": "Tr3OBZ7oFp32",
        "outputId": "47f2d9fb-5fd9-43c8-9b90-28643e5284c4",
        "colab": {
          "base_uri": "https://localhost:8080/",
          "height": 422
        }
      },
      "outputs": [
        {
          "output_type": "execute_result",
          "data": {
            "text/plain": [
              "<matplotlib.axes._subplots.AxesSubplot at 0x7ff25c55e090>"
            ]
          },
          "metadata": {},
          "execution_count": 17
        },
        {
          "output_type": "display_data",
          "data": {
            "image/png": "[encoded data removed]",
            "text/plain": [
              "<Figure size 432x288 with 1 Axes>"
            ]
          },
          "metadata": {
            "needs_background": "light"
          }
        }
      ],
      "source": [
        "predictor.leaderboard(silent=True).plot(kind=\"bar\", x=\"model\", y=\"score_val\")"
      ]
    },
    {
      "cell_type": "markdown",
      "metadata": {
        "id": "4TgzCOHIFp32"
      },
      "source": [
        "#### NOTE: Kaggle will reject the submission if we don't set everything to be > 0."
      ]
    },
    {
      "cell_type": "code",
      "source": [
        "# Describe the `predictions` series to see if there are any negative values\n",
        "predictions.describe()"
      ],
      "metadata": {
        "id": "9cStMU0XU6K9",
        "outputId": "b2417b83-1286-4762-d170-fe40b3865621",
        "colab": {
          "base_uri": "https://localhost:8080/"
        }
      },
      "execution_count": 18,
      "outputs": [
        {
          "output_type": "execute_result",
          "data": {
            "text/plain": [
              "count    6493.000000\n",
              "mean      211.437180\n",
              "std       129.329239\n",
              "min        -7.540012\n",
              "25%       106.319336\n",
              "50%       193.603989\n",
              "75%       298.105713\n",
              "max       659.277100\n",
              "Name: count, dtype: float64"
            ]
          },
          "metadata": {},
          "execution_count": 18
        }
      ]
    },
    {
      "cell_type": "code",
      "execution_count": 19,
      "metadata": {
        "id": "NGSI8pj2Fp32",
        "outputId": "ee932c7f-2098-4904-c0ec-757fd1e15acc",
        "colab": {
          "base_uri": "https://localhost:8080/"
        }
      },
      "outputs": [
        {
          "output_type": "execute_result",
          "data": {
            "text/plain": [
              "(3,)"
            ]
          },
          "metadata": {},
          "execution_count": 19
        }
      ],
      "source": [
        "# How many negative values do we have?\n",
        "predictions[predictions < 0].shape"
      ]
    },
    {
      "cell_type": "code",
      "execution_count": 20,
      "metadata": {
        "id": "SKwpKA4bFp33",
        "outputId": "49d23624-3324-4071-a1ec-18a1d81df068",
        "colab": {
          "base_uri": "https://localhost:8080/"
        }
      },
      "outputs": [
        {
          "output_type": "stream",
          "name": "stdout",
          "text": [
            "(0,)\n"
          ]
        }
      ],
      "source": [
        "# Set them to zero\n",
        "predictions[predictions < 0] = 0\n",
        "print(predictions[predictions < 0].shape)"
      ]
    },
    {
      "cell_type": "markdown",
      "metadata": {
        "id": "qqQcuEoJFp33"
      },
      "source": [
        "### Set predictions to submission dataframe, save, and submit"
      ]
    },
    {
      "cell_type": "code",
      "execution_count": 21,
      "metadata": {
        "id": "Zqf9ev5GFp33"
      },
      "outputs": [],
      "source": [
        "submission[\"count\"] = predictions.values\n",
        "submission.to_csv(\"submission.csv\", index=False)"
      ]
    },
    {
      "cell_type": "code",
      "execution_count": 22,
      "metadata": {
        "id": "F8JBnrAUFp33",
        "outputId": "17d5ac4a-d5f5-47bf-99f1-4c5a76a1e192",
        "colab": {
          "base_uri": "https://localhost:8080/"
        }
      },
      "outputs": [
        {
          "output_type": "stream",
          "name": "stdout",
          "text": [
            "Warning: Looks like you're using an outdated API Version, please consider updating (server 1.5.12 / client 1.5.4)\n",
            "100% 188k/188k [00:01<00:00, 119kB/s]\n",
            "Successfully submitted to Bike Sharing Demand"
          ]
        }
      ],
      "source": [
        "!kaggle competitions submit -c bike-sharing-demand -f submission.csv -m \"first raw submission\""
      ]
    },
    {
      "cell_type": "markdown",
      "metadata": {
        "id": "4X2t8x_qFp33"
      },
      "source": [
        "#### View submission via the command line or in the web browser under the competition's page - `My Submissions`"
      ]
    },
    {
      "cell_type": "code",
      "execution_count": 23,
      "metadata": {
        "id": "jW5bCar2Fp33",
        "outputId": "b7a89867-8551-40d0-9c57-76df2a3e2bb3",
        "colab": {
          "base_uri": "https://localhost:8080/"
        }
      },
      "outputs": [
        {
          "output_type": "stream",
          "name": "stdout",
          "text": [
            "Warning: Looks like you're using an outdated API Version, please consider updating (server 1.5.12 / client 1.5.4)\n",
            "fileName                     date                 description                        status    publicScore  privateScore  \n",
            "---------------------------  -------------------  ---------------------------------  --------  -----------  ------------  \n",
            "submission.csv               2022-01-29 21:43:17  first raw submission               complete  1.39581      1.39581       \n",
            "submission_new_hpo.csv       2022-01-29 20:55:00  new features with hyperparameters  complete  1.21910      1.21910       \n",
            "submission_new_features.csv  2022-01-29 20:19:05  new features                       complete  1.43885      1.43885       \n"
          ]
        }
      ],
      "source": [
        "!kaggle competitions submissions -c bike-sharing-demand | tail -n +1 | head -n 6"
      ]
    },
    {
      "cell_type": "markdown",
      "metadata": {
        "id": "y59GXeusFp33"
      },
      "source": [
        "#### Initial score of 1.39469  "
      ]
    },
    {
      "cell_type": "markdown",
      "metadata": {
        "id": "R8-OMxVxFp34"
      },
      "source": [
        "## Step 4: Exploratory Data Analysis and Creating an additional feature\n",
        "* Any additional feature will do, but a great suggestion would be to separate out the datetime into hour, day, or month parts."
      ]
    },
    {
      "cell_type": "code",
      "execution_count": 24,
      "metadata": {
        "id": "yLOL6W05Fp34",
        "outputId": "356bd75d-c973-426b-8e08-cc7a09dd217c",
        "colab": {
          "base_uri": "https://localhost:8080/",
          "height": 607
        }
      },
      "outputs": [
        {
          "output_type": "display_data",
          "data": {
            "image/png": "[encoded data removed]",
            "text/plain": [
              "<Figure size 720x720 with 9 Axes>"
            ]
          },
          "metadata": {
            "needs_background": "light"
          }
        }
      ],
      "source": [
        "# Create a histogram of all features to show the distribution of each one relative to the data. This is part of the exploritory data analysis\n",
        "train.hist(figsize=(10, 10));"
      ]
    },
    {
      "cell_type": "markdown",
      "metadata": {
        "id": "lq5N5vjRFp34"
      },
      "source": [
        "## Make category types for these so models know they are not just numbers\n",
        "* AutoGluon originally sees these as ints, but in reality they are int representations of a category.\n",
        "* Setting the dtype to category will classify these as categories in AutoGluon."
      ]
    },
    {
      "cell_type": "code",
      "execution_count": 25,
      "metadata": {
        "id": "m_t4-WBTFp34"
      },
      "outputs": [],
      "source": [
        "train[\"season\"] = train[\"season\"].astype(\"category\")\n",
        "train[\"weather\"] = train[\"weather\"].astype(\"category\")\n",
        "test[\"season\"] = test[\"season\"].astype(\"category\")\n",
        "test[\"weather\"] = test[\"weather\"].astype(\"category\")"
      ]
    },
    {
      "cell_type": "code",
      "execution_count": 26,
      "metadata": {
        "id": "vMMcXt7uFp34",
        "outputId": "eff9dfd3-9248-4931-ee4c-32e55262be7a",
        "colab": {
          "base_uri": "https://localhost:8080/",
          "height": 204
        }
      },
      "outputs": [
        {
          "output_type": "execute_result",
          "data": {
            "text/html": [
              "\n",
              "  <div id=\"df-8b99ee34-b031-413c-85ab-831fd18d6258\">\n",
              "    <div class=\"colab-df-container\">\n",
              "      <div>\n",
              "<style scoped>\n",
              "    .dataframe tbody tr th:only-of-type {\n",
              "        vertical-align: middle;\n",
              "    }\n",
              "\n",
              "    .dataframe tbody tr th {\n",
              "        vertical-align: top;\n",
              "    }\n",
              "\n",
              "    .dataframe thead th {\n",
              "        text-align: right;\n",
              "    }\n",
              "</style>\n",
              "<table border=\"1\" class=\"dataframe\">\n",
              "  <thead>\n",
              "    <tr style=\"text-align: right;\">\n",
              "      <th></th>\n",
              "      <th>datetime</th>\n",
              "      <th>season</th>\n",
              "      <th>holiday</th>\n",
              "      <th>workingday</th>\n",
              "      <th>weather</th>\n",
              "      <th>temp</th>\n",
              "      <th>atemp</th>\n",
              "      <th>humidity</th>\n",
              "      <th>windspeed</th>\n",
              "      <th>count</th>\n",
              "    </tr>\n",
              "  </thead>\n",
              "  <tbody>\n",
              "    <tr>\n",
              "      <th>0</th>\n",
              "      <td>2011-01-01 00:00:00</td>\n",
              "      <td>1</td>\n",
              "      <td>0</td>\n",
              "      <td>0</td>\n",
              "      <td>1</td>\n",
              "      <td>9.84</td>\n",
              "      <td>14.395</td>\n",
              "      <td>81</td>\n",
              "      <td>0.0</td>\n",
              "      <td>16</td>\n",
              "    </tr>\n",
              "    <tr>\n",
              "      <th>1</th>\n",
              "      <td>2011-01-01 01:00:00</td>\n",
              "      <td>1</td>\n",
              "      <td>0</td>\n",
              "      <td>0</td>\n",
              "      <td>1</td>\n",
              "      <td>9.02</td>\n",
              "      <td>13.635</td>\n",
              "      <td>80</td>\n",
              "      <td>0.0</td>\n",
              "      <td>40</td>\n",
              "    </tr>\n",
              "    <tr>\n",
              "      <th>2</th>\n",
              "      <td>2011-01-01 02:00:00</td>\n",
              "      <td>1</td>\n",
              "      <td>0</td>\n",
              "      <td>0</td>\n",
              "      <td>1</td>\n",
              "      <td>9.02</td>\n",
              "      <td>13.635</td>\n",
              "      <td>80</td>\n",
              "      <td>0.0</td>\n",
              "      <td>32</td>\n",
              "    </tr>\n",
              "    <tr>\n",
              "      <th>3</th>\n",
              "      <td>2011-01-01 03:00:00</td>\n",
              "      <td>1</td>\n",
              "      <td>0</td>\n",
              "      <td>0</td>\n",
              "      <td>1</td>\n",
              "      <td>9.84</td>\n",
              "      <td>14.395</td>\n",
              "      <td>75</td>\n",
              "      <td>0.0</td>\n",
              "      <td>13</td>\n",
              "    </tr>\n",
              "    <tr>\n",
              "      <th>4</th>\n",
              "      <td>2011-01-01 04:00:00</td>\n",
              "      <td>1</td>\n",
              "      <td>0</td>\n",
              "      <td>0</td>\n",
              "      <td>1</td>\n",
              "      <td>9.84</td>\n",
              "      <td>14.395</td>\n",
              "      <td>75</td>\n",
              "      <td>0.0</td>\n",
              "      <td>1</td>\n",
              "    </tr>\n",
              "  </tbody>\n",
              "</table>\n",
              "</div>\n",
              "      <button class=\"colab-df-convert\" onclick=\"convertToInteractive('df-8b99ee34-b031-413c-85ab-831fd18d6258')\"\n",
              "              title=\"Convert this dataframe to an interactive table.\"\n",
              "              style=\"display:none;\">\n",
              "        \n",
              "  <svg xmlns=\"http://www.w3.org/2000/svg\" height=\"24px\"viewBox=\"0 0 24 24\"\n",
              "       width=\"24px\">\n",
              "    <path d=\"M0 0h24v24H0V0z\" fill=\"none\"/>\n",
              "    <path d=\"M18.56 5.44l.94 2.06.94-2.06 2.06-.94-2.06-.94-.94-2.06-.94 2.06-2.06.94zm-11 1L8.5 8.5l.94-2.06 2.06-.94-2.06-.94L8.5 2.5l-.94 2.06-2.06.94zm10 10l.94 2.06.94-2.06 2.06-.94-2.06-.94-.94-2.06-.94 2.06-2.06.94z\"/><path d=\"M17.41 7.96l-1.37-1.37c-.4-.4-.92-.59-1.43-.59-.52 0-1.04.2-1.43.59L10.3 9.45l-7.72 7.72c-.78.78-.78 2.05 0 2.83L4 21.41c.39.39.9.59 1.41.59.51 0 1.02-.2 1.41-.59l7.78-7.78 2.81-2.81c.8-.78.8-2.07 0-2.86zM5.41 20L4 18.59l7.72-7.72 1.47 1.35L5.41 20z\"/>\n",
              "  </svg>\n",
              "      </button>\n",
              "      \n",
              "  <style>\n",
              "    .colab-df-container {\n",
              "      display:flex;\n",
              "      flex-wrap:wrap;\n",
              "      gap: 12px;\n",
              "    }\n",
              "\n",
              "    .colab-df-convert {\n",
              "      background-color: #E8F0FE;\n",
              "      border: none;\n",
              "      border-radius: 50%;\n",
              "      cursor: pointer;\n",
              "      display: none;\n",
              "      fill: #1967D2;\n",
              "      height: 32px;\n",
              "      padding: 0 0 0 0;\n",
              "      width: 32px;\n",
              "    }\n",
              "\n",
              "    .colab-df-convert:hover {\n",
              "      background-color: #E2EBFA;\n",
              "      box-shadow: 0px 1px 2px rgba(60, 64, 67, 0.3), 0px 1px 3px 1px rgba(60, 64, 67, 0.15);\n",
              "      fill: #174EA6;\n",
              "    }\n",
              "\n",
              "    [theme=dark] .colab-df-convert {\n",
              "      background-color: #3B4455;\n",
              "      fill: #D2E3FC;\n",
              "    }\n",
              "\n",
              "    [theme=dark] .colab-df-convert:hover {\n",
              "      background-color: #434B5C;\n",
              "      box-shadow: 0px 1px 3px 1px rgba(0, 0, 0, 0.15);\n",
              "      filter: drop-shadow(0px 1px 2px rgba(0, 0, 0, 0.3));\n",
              "      fill: #FFFFFF;\n",
              "    }\n",
              "  </style>\n",
              "\n",
              "      <script>\n",
              "        const buttonEl =\n",
              "          document.querySelector('#df-8b99ee34-b031-413c-85ab-831fd18d6258 button.colab-df-convert');\n",
              "        buttonEl.style.display =\n",
              "          google.colab.kernel.accessAllowed ? 'block' : 'none';\n",
              "\n",
              "        async function convertToInteractive(key) {\n",
              "          const element = document.querySelector('#df-8b99ee34-b031-413c-85ab-831fd18d6258');\n",
              "          const dataTable =\n",
              "            await google.colab.kernel.invokeFunction('convertToInteractive',\n",
              "                                                     [key], {});\n",
              "          if (!dataTable) return;\n",
              "\n",
              "          const docLinkHtml = 'Like what you see? Visit the ' +\n",
              "            '<a target=\"_blank\" href=https://colab.research.google.com/notebooks/data_table.ipynb>data table notebook</a>'\n",
              "            + ' to learn more about interactive tables.';\n",
              "          element.innerHTML = '';\n",
              "          dataTable['output_type'] = 'display_data';\n",
              "          await google.colab.output.renderOutput(dataTable, element);\n",
              "          const docLink = document.createElement('div');\n",
              "          docLink.innerHTML = docLinkHtml;\n",
              "          element.appendChild(docLink);\n",
              "        }\n",
              "      </script>\n",
              "    </div>\n",
              "  </div>\n",
              "  "
            ],
            "text/plain": [
              "              datetime season  holiday  ...  humidity windspeed  count\n",
              "0  2011-01-01 00:00:00      1        0  ...        81       0.0     16\n",
              "1  2011-01-01 01:00:00      1        0  ...        80       0.0     40\n",
              "2  2011-01-01 02:00:00      1        0  ...        80       0.0     32\n",
              "3  2011-01-01 03:00:00      1        0  ...        75       0.0     13\n",
              "4  2011-01-01 04:00:00      1        0  ...        75       0.0      1\n",
              "\n",
              "[5 rows x 10 columns]"
            ]
          },
          "metadata": {},
          "execution_count": 26
        }
      ],
      "source": [
        "# View are new feature\n",
        "train.head()"
      ]
    },
    {
      "cell_type": "code",
      "execution_count": 27,
      "metadata": {
        "id": "DXZGl3RxFp34",
        "outputId": "28eacb5e-7752-42fe-da14-205b18b121a0",
        "colab": {
          "base_uri": "https://localhost:8080/",
          "height": 607
        }
      },
      "outputs": [
        {
          "output_type": "display_data",
          "data": {
            "image/png": "[encoded data removed]",
            "text/plain": [
              "<Figure size 720x720 with 9 Axes>"
            ]
          },
          "metadata": {
            "needs_background": "light"
          }
        }
      ],
      "source": [
        "# View histogram of all features again now with the hour feature\n",
        "train.hist(figsize=(10, 10));"
      ]
    },
    {
      "cell_type": "code",
      "source": [
        "train['datetime'] = pd.to_datetime(train[ 'datetime'])\n",
        "train['year'] = train.datetime.dt.year\n",
        "train['month'] = train.datetime.dt.month\n",
        "train['day'] = train.datetime.dt.day"
      ],
      "metadata": {
        "id": "2kBj2kZFeA58"
      },
      "execution_count": 28,
      "outputs": []
    },
    {
      "cell_type": "code",
      "source": [
        "train.info()"
      ],
      "metadata": {
        "id": "WT6e2FpzeCtU",
        "outputId": "1bb38b6a-7084-4e46-e546-3824c5d989ff",
        "colab": {
          "base_uri": "https://localhost:8080/"
        }
      },
      "execution_count": 29,
      "outputs": [
        {
          "output_type": "stream",
          "name": "stdout",
          "text": [
            "<class 'pandas.core.frame.DataFrame'>\n",
            "RangeIndex: 10886 entries, 0 to 10885\n",
            "Data columns (total 13 columns):\n",
            " #   Column      Non-Null Count  Dtype         \n",
            "---  ------      --------------  -----         \n",
            " 0   datetime    10886 non-null  datetime64[ns]\n",
            " 1   season      10886 non-null  category      \n",
            " 2   holiday     10886 non-null  int64         \n",
            " 3   workingday  10886 non-null  int64         \n",
            " 4   weather     10886 non-null  category      \n",
            " 5   temp        10886 non-null  float64       \n",
            " 6   atemp       10886 non-null  float64       \n",
            " 7   humidity    10886 non-null  int64         \n",
            " 8   windspeed   10886 non-null  float64       \n",
            " 9   count       10886 non-null  int64         \n",
            " 10  year        10886 non-null  int64         \n",
            " 11  month       10886 non-null  int64         \n",
            " 12  day         10886 non-null  int64         \n",
            "dtypes: category(2), datetime64[ns](1), float64(3), int64(7)\n",
            "memory usage: 957.3 KB\n"
          ]
        }
      ]
    },
    {
      "cell_type": "code",
      "source": [
        "test['datetime'] = pd.to_datetime(test['datetime'])\n",
        "test['year'] = test.datetime.dt.year\n",
        "test['month'] = test.datetime.dt.month\n",
        "test['day'] = test.datetime.dt.day"
      ],
      "metadata": {
        "id": "LziPPak3eoeP"
      },
      "execution_count": 30,
      "outputs": []
    },
    {
      "cell_type": "code",
      "source": [
        "test.info()"
      ],
      "metadata": {
        "id": "O2tyFWybeEji",
        "outputId": "e26d7bd9-6897-4c39-df4d-aebf88b03fb0",
        "colab": {
          "base_uri": "https://localhost:8080/"
        }
      },
      "execution_count": 31,
      "outputs": [
        {
          "output_type": "stream",
          "name": "stdout",
          "text": [
            "<class 'pandas.core.frame.DataFrame'>\n",
            "RangeIndex: 6493 entries, 0 to 6492\n",
            "Data columns (total 12 columns):\n",
            " #   Column      Non-Null Count  Dtype         \n",
            "---  ------      --------------  -----         \n",
            " 0   datetime    6493 non-null   datetime64[ns]\n",
            " 1   season      6493 non-null   category      \n",
            " 2   holiday     6493 non-null   int64         \n",
            " 3   workingday  6493 non-null   int64         \n",
            " 4   weather     6493 non-null   category      \n",
            " 5   temp        6493 non-null   float64       \n",
            " 6   atemp       6493 non-null   float64       \n",
            " 7   humidity    6493 non-null   int64         \n",
            " 8   windspeed   6493 non-null   float64       \n",
            " 9   year        6493 non-null   int64         \n",
            " 10  month       6493 non-null   int64         \n",
            " 11  day         6493 non-null   int64         \n",
            "dtypes: category(2), datetime64[ns](1), float64(3), int64(6)\n",
            "memory usage: 520.4 KB\n"
          ]
        }
      ]
    },
    {
      "cell_type": "markdown",
      "metadata": {
        "id": "7hY2j05JFp35"
      },
      "source": [
        "## Step 5: Rerun the model with the same settings as before, just with more features"
      ]
    },
    {
      "cell_type": "code",
      "execution_count": 32,
      "metadata": {
        "id": "qjjYAPUmFp35",
        "outputId": "0571feb9-aede-4aa1-a0ae-9a749d4e12e4",
        "colab": {
          "base_uri": "https://localhost:8080/"
        }
      },
      "outputs": [
        {
          "output_type": "stream",
          "name": "stderr",
          "text": [
            "No path specified. Models will be saved in: \"AutogluonModels/ag-20220129_214322/\"\n",
            "Presets specified: ['best_quality']\n",
            "Beginning AutoGluon training ... Time limit = 600s\n",
            "AutoGluon will save models to \"AutogluonModels/ag-20220129_214322/\"\n",
            "AutoGluon Version:  0.3.1\n",
            "Train Data Rows:    10886\n",
            "Train Data Columns: 12\n",
            "Preprocessing data ...\n",
            "Using Feature Generators to preprocess the data ...\n",
            "Fitting AutoMLPipelineFeatureGenerator...\n",
            "\tAvailable Memory:                    11092.87 MB\n",
            "\tTrain Data (Original)  Memory Usage: 0.89 MB (0.0% of available memory)\n",
            "\tInferring data type of each feature based on column values. Set feature_metadata_in to manually specify special dtypes of the features.\n",
            "\tStage 1 Generators:\n",
            "\t\tFitting AsTypeFeatureGenerator...\n",
            "\t\t\tNote: Converting 3 features to boolean dtype as they only contain 2 unique values.\n",
            "\tStage 2 Generators:\n",
            "\t\tFitting FillNaFeatureGenerator...\n",
            "\tStage 3 Generators:\n",
            "\t\tFitting IdentityFeatureGenerator...\n",
            "\t\tFitting CategoryFeatureGenerator...\n",
            "\t\t\tFitting CategoryMemoryMinimizeFeatureGenerator...\n",
            "\t\tFitting DatetimeFeatureGenerator...\n",
            "\tStage 4 Generators:\n",
            "\t\tFitting DropUniqueFeatureGenerator...\n",
            "\tTypes of features in original data (raw dtype, special dtypes):\n",
            "\t\t('category', []) : 2 | ['season', 'weather']\n",
            "\t\t('datetime', []) : 1 | ['datetime']\n",
            "\t\t('float', [])    : 3 | ['temp', 'atemp', 'windspeed']\n",
            "\t\t('int', [])      : 6 | ['holiday', 'workingday', 'humidity', 'year', 'month', ...]\n",
            "\tTypes of features in processed data (raw dtype, special dtypes):\n",
            "\t\t('category', [])             : 2 | ['season', 'weather']\n",
            "\t\t('float', [])                : 3 | ['temp', 'atemp', 'windspeed']\n",
            "\t\t('int', [])                  : 3 | ['humidity', 'month', 'day']\n",
            "\t\t('int', ['bool'])            : 3 | ['holiday', 'workingday', 'year']\n",
            "\t\t('int', ['datetime_as_int']) : 1 | ['datetime']\n",
            "\t0.4s = Fit runtime\n",
            "\t12 features in original data used to generate 12 features in processed data.\n",
            "\tTrain Data (Processed) Memory Usage: 0.67 MB (0.0% of available memory)\n",
            "Data preprocessing and feature engineering runtime = 0.46s ...\n",
            "AutoGluon will gauge predictive performance using evaluation metric: 'r2'\n",
            "\tTo change this, specify the eval_metric argument of fit()\n",
            "AutoGluon will fit 2 stack levels (L1 to L2) ...\n",
            "Fitting 11 L1 models ...\n",
            "Fitting model: KNeighborsUnif_BAG_L1 ... Training model for up to 399.59s of the 599.53s of remaining time.\n",
            "\t0.2764\t = Validation score   (r2)\n",
            "\t0.03s\t = Training   runtime\n",
            "\t0.1s\t = Validation runtime\n",
            "Fitting model: KNeighborsDist_BAG_L1 ... Training model for up to 399.31s of the 599.25s of remaining time.\n",
            "\t0.2753\t = Validation score   (r2)\n",
            "\t0.03s\t = Training   runtime\n",
            "\t0.2s\t = Validation runtime\n",
            "Fitting model: LightGBMXT_BAG_L1 ... Training model for up to 398.95s of the 598.88s of remaining time.\n",
            "/usr/local/lib/python3.7/dist-packages/lightgbm/engine.py:239: UserWarning: 'verbose_eval' argument is deprecated and will be removed in a future release of LightGBM. Pass 'log_evaluation()' callback via 'callbacks' argument instead.\n",
            "  _log_warning(\"'verbose_eval' argument is deprecated and will be removed in a future release of LightGBM. \"\n"
          ]
        },
        {
          "output_type": "stream",
          "name": "stdout",
          "text": [
            "[1000]\ttrain_set's l2: 12994.4\ttrain_set's r2: 0.604741\tvalid_set's l2: 16903.6\tvalid_set's r2: 0.474939\n",
            "[2000]\ttrain_set's l2: 10961.6\ttrain_set's r2: 0.666577\tvalid_set's l2: 16744.1\tvalid_set's r2: 0.479992\n"
          ]
        },
        {
          "output_type": "stream",
          "name": "stderr",
          "text": [
            "/usr/local/lib/python3.7/dist-packages/lightgbm/engine.py:239: UserWarning: 'verbose_eval' argument is deprecated and will be removed in a future release of LightGBM. Pass 'log_evaluation()' callback via 'callbacks' argument instead.\n",
            "  _log_warning(\"'verbose_eval' argument is deprecated and will be removed in a future release of LightGBM. \"\n",
            "/usr/local/lib/python3.7/dist-packages/lightgbm/engine.py:239: UserWarning: 'verbose_eval' argument is deprecated and will be removed in a future release of LightGBM. Pass 'log_evaluation()' callback via 'callbacks' argument instead.\n",
            "  _log_warning(\"'verbose_eval' argument is deprecated and will be removed in a future release of LightGBM. \"\n"
          ]
        },
        {
          "output_type": "stream",
          "name": "stdout",
          "text": [
            "[1000]\ttrain_set's l2: 13202\ttrain_set's r2: 0.597322\tvalid_set's l2: 15871.6\tvalid_set's r2: 0.51881\n"
          ]
        },
        {
          "output_type": "stream",
          "name": "stderr",
          "text": [
            "/usr/local/lib/python3.7/dist-packages/lightgbm/engine.py:239: UserWarning: 'verbose_eval' argument is deprecated and will be removed in a future release of LightGBM. Pass 'log_evaluation()' callback via 'callbacks' argument instead.\n",
            "  _log_warning(\"'verbose_eval' argument is deprecated and will be removed in a future release of LightGBM. \"\n"
          ]
        },
        {
          "output_type": "stream",
          "name": "stdout",
          "text": [
            "[1000]\ttrain_set's l2: 12919.3\ttrain_set's r2: 0.601017\tvalid_set's l2: 18439.3\tvalid_set's r2: 0.497203\n",
            "[2000]\ttrain_set's l2: 10940.8\ttrain_set's r2: 0.662085\tvalid_set's l2: 17999.8\tvalid_set's r2: 0.509088\n",
            "[3000]\ttrain_set's l2: 9702.57\ttrain_set's r2: 0.700301\tvalid_set's l2: 17923.5\tvalid_set's r2: 0.511342\n",
            "[4000]\ttrain_set's l2: 8766.07\ttrain_set's r2: 0.729274\tvalid_set's l2: 17847.6\tvalid_set's r2: 0.513316\n",
            "[5000]\ttrain_set's l2: 8047.73\ttrain_set's r2: 0.751431\tvalid_set's l2: 17839.1\tvalid_set's r2: 0.513596\n"
          ]
        },
        {
          "output_type": "stream",
          "name": "stderr",
          "text": [
            "/usr/local/lib/python3.7/dist-packages/lightgbm/engine.py:239: UserWarning: 'verbose_eval' argument is deprecated and will be removed in a future release of LightGBM. Pass 'log_evaluation()' callback via 'callbacks' argument instead.\n",
            "  _log_warning(\"'verbose_eval' argument is deprecated and will be removed in a future release of LightGBM. \"\n"
          ]
        },
        {
          "output_type": "stream",
          "name": "stdout",
          "text": [
            "[1000]\ttrain_set's l2: 13174\ttrain_set's r2: 0.60265\tvalid_set's l2: 15390.7\tvalid_set's r2: 0.479478\n",
            "[2000]\ttrain_set's l2: 11073.4\ttrain_set's r2: 0.666028\tvalid_set's l2: 15289.9\tvalid_set's r2: 0.48286\n"
          ]
        },
        {
          "output_type": "stream",
          "name": "stderr",
          "text": [
            "/usr/local/lib/python3.7/dist-packages/lightgbm/engine.py:239: UserWarning: 'verbose_eval' argument is deprecated and will be removed in a future release of LightGBM. Pass 'log_evaluation()' callback via 'callbacks' argument instead.\n",
            "  _log_warning(\"'verbose_eval' argument is deprecated and will be removed in a future release of LightGBM. \"\n"
          ]
        },
        {
          "output_type": "stream",
          "name": "stdout",
          "text": [
            "[1000]\ttrain_set's l2: 13009.3\ttrain_set's r2: 0.60544\tvalid_set's l2: 17433\tvalid_set's r2: 0.444285\n",
            "[2000]\ttrain_set's l2: 10989.5\ttrain_set's r2: 0.666663\tvalid_set's l2: 17146.3\tvalid_set's r2: 0.453282\n",
            "[3000]\ttrain_set's l2: 9716.12\ttrain_set's r2: 0.705309\tvalid_set's l2: 16974.6\tvalid_set's r2: 0.4589\n",
            "[4000]\ttrain_set's l2: 8805.99\ttrain_set's r2: 0.732938\tvalid_set's l2: 16893.8\tvalid_set's r2: 0.461496\n",
            "[5000]\ttrain_set's l2: 8110.15\ttrain_set's r2: 0.754026\tvalid_set's l2: 16830.2\tvalid_set's r2: 0.463282\n"
          ]
        },
        {
          "output_type": "stream",
          "name": "stderr",
          "text": [
            "/usr/local/lib/python3.7/dist-packages/lightgbm/engine.py:239: UserWarning: 'verbose_eval' argument is deprecated and will be removed in a future release of LightGBM. Pass 'log_evaluation()' callback via 'callbacks' argument instead.\n",
            "  _log_warning(\"'verbose_eval' argument is deprecated and will be removed in a future release of LightGBM. \"\n"
          ]
        },
        {
          "output_type": "stream",
          "name": "stdout",
          "text": [
            "[1000]\ttrain_set's l2: 12969.8\ttrain_set's r2: 0.606035\tvalid_set's l2: 18469.4\tvalid_set's r2: 0.419701\n",
            "[2000]\ttrain_set's l2: 10971.5\ttrain_set's r2: 0.666696\tvalid_set's l2: 18078.6\tvalid_set's r2: 0.432032\n",
            "[3000]\ttrain_set's l2: 9695.01\ttrain_set's r2: 0.705472\tvalid_set's l2: 17969.6\tvalid_set's r2: 0.435517\n",
            "[4000]\ttrain_set's l2: 8750.12\ttrain_set's r2: 0.734191\tvalid_set's l2: 17936.6\tvalid_set's r2: 0.436482\n"
          ]
        },
        {
          "output_type": "stream",
          "name": "stderr",
          "text": [
            "/usr/local/lib/python3.7/dist-packages/lightgbm/engine.py:239: UserWarning: 'verbose_eval' argument is deprecated and will be removed in a future release of LightGBM. Pass 'log_evaluation()' callback via 'callbacks' argument instead.\n",
            "  _log_warning(\"'verbose_eval' argument is deprecated and will be removed in a future release of LightGBM. \"\n"
          ]
        },
        {
          "output_type": "stream",
          "name": "stdout",
          "text": [
            "[1000]\ttrain_set's l2: 13052.4\ttrain_set's r2: 0.601352\tvalid_set's l2: 17452.1\tvalid_set's r2: 0.477624\n",
            "[2000]\ttrain_set's l2: 11014.8\ttrain_set's r2: 0.663629\tvalid_set's l2: 17192.5\tvalid_set's r2: 0.485169\n",
            "[3000]\ttrain_set's l2: 9721.32\ttrain_set's r2: 0.70308\tvalid_set's l2: 17135.7\tvalid_set's r2: 0.486992\n",
            "[4000]\ttrain_set's l2: 8800.3\ttrain_set's r2: 0.73126\tvalid_set's l2: 17126.6\tvalid_set's r2: 0.487226\n"
          ]
        },
        {
          "output_type": "stream",
          "name": "stderr",
          "text": [
            "/usr/local/lib/python3.7/dist-packages/lightgbm/engine.py:239: UserWarning: 'verbose_eval' argument is deprecated and will be removed in a future release of LightGBM. Pass 'log_evaluation()' callback via 'callbacks' argument instead.\n",
            "  _log_warning(\"'verbose_eval' argument is deprecated and will be removed in a future release of LightGBM. \"\n"
          ]
        },
        {
          "output_type": "stream",
          "name": "stdout",
          "text": [
            "[1000]\ttrain_set's l2: 12903.7\ttrain_set's r2: 0.607372\tvalid_set's l2: 18142.1\tvalid_set's r2: 0.437769\n",
            "[2000]\ttrain_set's l2: 10874.3\ttrain_set's r2: 0.669102\tvalid_set's l2: 17967\tvalid_set's r2: 0.443227\n",
            "[3000]\ttrain_set's l2: 9603.63\ttrain_set's r2: 0.707764\tvalid_set's l2: 17972.4\tvalid_set's r2: 0.442849\n"
          ]
        },
        {
          "output_type": "stream",
          "name": "stderr",
          "text": [
            "/usr/local/lib/python3.7/dist-packages/lightgbm/engine.py:239: UserWarning: 'verbose_eval' argument is deprecated and will be removed in a future release of LightGBM. Pass 'log_evaluation()' callback via 'callbacks' argument instead.\n",
            "  _log_warning(\"'verbose_eval' argument is deprecated and will be removed in a future release of LightGBM. \"\n"
          ]
        },
        {
          "output_type": "stream",
          "name": "stdout",
          "text": [
            "[1000]\ttrain_set's l2: 13061.9\ttrain_set's r2: 0.603645\tvalid_set's l2: 16864.6\tvalid_set's r2: 0.462817\n",
            "[2000]\ttrain_set's l2: 11006.6\ttrain_set's r2: 0.666003\tvalid_set's l2: 16658.3\tvalid_set's r2: 0.469484\n",
            "[3000]\ttrain_set's l2: 9698.62\ttrain_set's r2: 0.705688\tvalid_set's l2: 16589.4\tvalid_set's r2: 0.471692\n",
            "[4000]\ttrain_set's l2: 8789.22\ttrain_set's r2: 0.733262\tvalid_set's l2: 16503.2\tvalid_set's r2: 0.474467\n"
          ]
        },
        {
          "output_type": "stream",
          "name": "stderr",
          "text": [
            "\t0.4774\t = Validation score   (r2)\n",
            "\t110.79s\t = Training   runtime\n",
            "\t2.82s\t = Validation runtime\n",
            "Fitting model: LightGBM_BAG_L1 ... Training model for up to 279.36s of the 479.3s of remaining time.\n",
            "/usr/local/lib/python3.7/dist-packages/lightgbm/engine.py:239: UserWarning: 'verbose_eval' argument is deprecated and will be removed in a future release of LightGBM. Pass 'log_evaluation()' callback via 'callbacks' argument instead.\n",
            "  _log_warning(\"'verbose_eval' argument is deprecated and will be removed in a future release of LightGBM. \"\n",
            "/usr/local/lib/python3.7/dist-packages/lightgbm/engine.py:239: UserWarning: 'verbose_eval' argument is deprecated and will be removed in a future release of LightGBM. Pass 'log_evaluation()' callback via 'callbacks' argument instead.\n",
            "  _log_warning(\"'verbose_eval' argument is deprecated and will be removed in a future release of LightGBM. \"\n",
            "/usr/local/lib/python3.7/dist-packages/lightgbm/engine.py:239: UserWarning: 'verbose_eval' argument is deprecated and will be removed in a future release of LightGBM. Pass 'log_evaluation()' callback via 'callbacks' argument instead.\n",
            "  _log_warning(\"'verbose_eval' argument is deprecated and will be removed in a future release of LightGBM. \"\n",
            "/usr/local/lib/python3.7/dist-packages/lightgbm/engine.py:239: UserWarning: 'verbose_eval' argument is deprecated and will be removed in a future release of LightGBM. Pass 'log_evaluation()' callback via 'callbacks' argument instead.\n",
            "  _log_warning(\"'verbose_eval' argument is deprecated and will be removed in a future release of LightGBM. \"\n"
          ]
        },
        {
          "output_type": "stream",
          "name": "stdout",
          "text": [
            "[1000]\ttrain_set's l2: 8133.21\ttrain_set's r2: 0.748816\tvalid_set's l2: 17877.7\tvalid_set's r2: 0.512543\n"
          ]
        },
        {
          "output_type": "stream",
          "name": "stderr",
          "text": [
            "/usr/local/lib/python3.7/dist-packages/lightgbm/engine.py:239: UserWarning: 'verbose_eval' argument is deprecated and will be removed in a future release of LightGBM. Pass 'log_evaluation()' callback via 'callbacks' argument instead.\n",
            "  _log_warning(\"'verbose_eval' argument is deprecated and will be removed in a future release of LightGBM. \"\n",
            "/usr/local/lib/python3.7/dist-packages/lightgbm/engine.py:239: UserWarning: 'verbose_eval' argument is deprecated and will be removed in a future release of LightGBM. Pass 'log_evaluation()' callback via 'callbacks' argument instead.\n",
            "  _log_warning(\"'verbose_eval' argument is deprecated and will be removed in a future release of LightGBM. \"\n"
          ]
        },
        {
          "output_type": "stream",
          "name": "stdout",
          "text": [
            "[1000]\ttrain_set's l2: 8215.86\ttrain_set's r2: 0.750792\tvalid_set's l2: 16752.5\tvalid_set's r2: 0.465913\n"
          ]
        },
        {
          "output_type": "stream",
          "name": "stderr",
          "text": [
            "/usr/local/lib/python3.7/dist-packages/lightgbm/engine.py:239: UserWarning: 'verbose_eval' argument is deprecated and will be removed in a future release of LightGBM. Pass 'log_evaluation()' callback via 'callbacks' argument instead.\n",
            "  _log_warning(\"'verbose_eval' argument is deprecated and will be removed in a future release of LightGBM. \"\n"
          ]
        },
        {
          "output_type": "stream",
          "name": "stdout",
          "text": [
            "[1000]\ttrain_set's l2: 8218.74\ttrain_set's r2: 0.750319\tvalid_set's l2: 18041.3\tvalid_set's r2: 0.433278\n"
          ]
        },
        {
          "output_type": "stream",
          "name": "stderr",
          "text": [
            "/usr/local/lib/python3.7/dist-packages/lightgbm/engine.py:239: UserWarning: 'verbose_eval' argument is deprecated and will be removed in a future release of LightGBM. Pass 'log_evaluation()' callback via 'callbacks' argument instead.\n",
            "  _log_warning(\"'verbose_eval' argument is deprecated and will be removed in a future release of LightGBM. \"\n"
          ]
        },
        {
          "output_type": "stream",
          "name": "stdout",
          "text": [
            "[1000]\ttrain_set's l2: 8317.78\ttrain_set's r2: 0.745974\tvalid_set's l2: 17158.8\tvalid_set's r2: 0.486414\n"
          ]
        },
        {
          "output_type": "stream",
          "name": "stderr",
          "text": [
            "/usr/local/lib/python3.7/dist-packages/lightgbm/engine.py:239: UserWarning: 'verbose_eval' argument is deprecated and will be removed in a future release of LightGBM. Pass 'log_evaluation()' callback via 'callbacks' argument instead.\n",
            "  _log_warning(\"'verbose_eval' argument is deprecated and will be removed in a future release of LightGBM. \"\n",
            "/usr/local/lib/python3.7/dist-packages/lightgbm/engine.py:239: UserWarning: 'verbose_eval' argument is deprecated and will be removed in a future release of LightGBM. Pass 'log_evaluation()' callback via 'callbacks' argument instead.\n",
            "  _log_warning(\"'verbose_eval' argument is deprecated and will be removed in a future release of LightGBM. \"\n"
          ]
        },
        {
          "output_type": "stream",
          "name": "stdout",
          "text": [
            "[1000]\ttrain_set's l2: 8188.8\ttrain_set's r2: 0.751522\tvalid_set's l2: 16628.1\tvalid_set's r2: 0.470471\n"
          ]
        },
        {
          "output_type": "stream",
          "name": "stderr",
          "text": [
            "\t0.4794\t = Validation score   (r2)\n",
            "\t36.34s\t = Training   runtime\n",
            "\t0.74s\t = Validation runtime\n",
            "Fitting model: RandomForestMSE_BAG_L1 ... Training model for up to 240.41s of the 440.35s of remaining time.\n",
            "\t0.5802\t = Validation score   (r2)\n",
            "\t9.47s\t = Training   runtime\n",
            "\t0.48s\t = Validation runtime\n",
            "Fitting model: CatBoost_BAG_L1 ... Training model for up to 229.56s of the 429.5s of remaining time.\n",
            "\t0.4657\t = Validation score   (r2)\n",
            "\t142.54s\t = Training   runtime\n",
            "\t0.1s\t = Validation runtime\n",
            "Fitting model: ExtraTreesMSE_BAG_L1 ... Training model for up to 86.78s of the 286.72s of remaining time.\n",
            "\t0.5182\t = Validation score   (r2)\n",
            "\t4.16s\t = Training   runtime\n",
            "\t0.46s\t = Validation runtime\n",
            "Fitting model: NeuralNetFastAI_BAG_L1 ... Training model for up to 81.33s of the 281.27s of remaining time.\n",
            "\tRan out of time, stopping training early. (Stopping on epoch 11)\n",
            "\tRan out of time, stopping training early. (Stopping on epoch 12)\n",
            "\tRan out of time, stopping training early. (Stopping on epoch 12)\n",
            "\tRan out of time, stopping training early. (Stopping on epoch 12)\n",
            "\tRan out of time, stopping training early. (Stopping on epoch 13)\n",
            "\tRan out of time, stopping training early. (Stopping on epoch 13)\n",
            "\tRan out of time, stopping training early. (Stopping on epoch 15)\n",
            "\tRan out of time, stopping training early. (Stopping on epoch 15)\n",
            "\tRan out of time, stopping training early. (Stopping on epoch 17)\n",
            "\tRan out of time, stopping training early. (Stopping on epoch 22)\n",
            "\t0.4187\t = Validation score   (r2)\n",
            "\t77.89s\t = Training   runtime\n",
            "\t0.4s\t = Validation runtime\n",
            "Fitting model: XGBoost_BAG_L1 ... Training model for up to 2.82s of the 202.76s of remaining time.\n",
            "\tTime limit exceeded... Skipping XGBoost_BAG_L1.\n",
            "Fitting model: NeuralNetMXNet_BAG_L1 ... Training model for up to 2.51s of the 202.45s of remaining time.\n",
            "\tTime limit exceeded... Skipping NeuralNetMXNet_BAG_L1.\n",
            "Fitting model: LightGBMLarge_BAG_L1 ... Training model for up to 1.94s of the 201.87s of remaining time.\n",
            "/usr/local/lib/python3.7/dist-packages/lightgbm/engine.py:239: UserWarning: 'verbose_eval' argument is deprecated and will be removed in a future release of LightGBM. Pass 'log_evaluation()' callback via 'callbacks' argument instead.\n",
            "  _log_warning(\"'verbose_eval' argument is deprecated and will be removed in a future release of LightGBM. \"\n",
            "\tRan out of time, early stopping on iteration 1. Best iteration is:\n",
            "\t[1]\ttrain_set's l2: 31954.8\ttrain_set's r2: 0.027679\tvalid_set's l2: 31408.2\tvalid_set's r2: 0.024266\n",
            "\tTime limit exceeded... Skipping LightGBMLarge_BAG_L1.\n",
            "Completed 1/20 k-fold bagging repeats ...\n",
            "Fitting model: WeightedEnsemble_L2 ... Training model for up to 360.0s of the 201.63s of remaining time.\n",
            "\t0.5802\t = Validation score   (r2)\n",
            "\t0.55s\t = Training   runtime\n",
            "\t0.0s\t = Validation runtime\n",
            "Fitting 9 L2 models ...\n",
            "Fitting model: LightGBMXT_BAG_L2 ... Training model for up to 201.05s of the 201.03s of remaining time.\n",
            "/usr/local/lib/python3.7/dist-packages/lightgbm/engine.py:239: UserWarning: 'verbose_eval' argument is deprecated and will be removed in a future release of LightGBM. Pass 'log_evaluation()' callback via 'callbacks' argument instead.\n",
            "  _log_warning(\"'verbose_eval' argument is deprecated and will be removed in a future release of LightGBM. \"\n",
            "/usr/local/lib/python3.7/dist-packages/lightgbm/engine.py:239: UserWarning: 'verbose_eval' argument is deprecated and will be removed in a future release of LightGBM. Pass 'log_evaluation()' callback via 'callbacks' argument instead.\n",
            "  _log_warning(\"'verbose_eval' argument is deprecated and will be removed in a future release of LightGBM. \"\n",
            "/usr/local/lib/python3.7/dist-packages/lightgbm/engine.py:239: UserWarning: 'verbose_eval' argument is deprecated and will be removed in a future release of LightGBM. Pass 'log_evaluation()' callback via 'callbacks' argument instead.\n",
            "  _log_warning(\"'verbose_eval' argument is deprecated and will be removed in a future release of LightGBM. \"\n",
            "/usr/local/lib/python3.7/dist-packages/lightgbm/engine.py:239: UserWarning: 'verbose_eval' argument is deprecated and will be removed in a future release of LightGBM. Pass 'log_evaluation()' callback via 'callbacks' argument instead.\n",
            "  _log_warning(\"'verbose_eval' argument is deprecated and will be removed in a future release of LightGBM. \"\n",
            "/usr/local/lib/python3.7/dist-packages/lightgbm/engine.py:239: UserWarning: 'verbose_eval' argument is deprecated and will be removed in a future release of LightGBM. Pass 'log_evaluation()' callback via 'callbacks' argument instead.\n",
            "  _log_warning(\"'verbose_eval' argument is deprecated and will be removed in a future release of LightGBM. \"\n",
            "/usr/local/lib/python3.7/dist-packages/lightgbm/engine.py:239: UserWarning: 'verbose_eval' argument is deprecated and will be removed in a future release of LightGBM. Pass 'log_evaluation()' callback via 'callbacks' argument instead.\n",
            "  _log_warning(\"'verbose_eval' argument is deprecated and will be removed in a future release of LightGBM. \"\n",
            "/usr/local/lib/python3.7/dist-packages/lightgbm/engine.py:239: UserWarning: 'verbose_eval' argument is deprecated and will be removed in a future release of LightGBM. Pass 'log_evaluation()' callback via 'callbacks' argument instead.\n",
            "  _log_warning(\"'verbose_eval' argument is deprecated and will be removed in a future release of LightGBM. \"\n",
            "/usr/local/lib/python3.7/dist-packages/lightgbm/engine.py:239: UserWarning: 'verbose_eval' argument is deprecated and will be removed in a future release of LightGBM. Pass 'log_evaluation()' callback via 'callbacks' argument instead.\n",
            "  _log_warning(\"'verbose_eval' argument is deprecated and will be removed in a future release of LightGBM. \"\n",
            "/usr/local/lib/python3.7/dist-packages/lightgbm/engine.py:239: UserWarning: 'verbose_eval' argument is deprecated and will be removed in a future release of LightGBM. Pass 'log_evaluation()' callback via 'callbacks' argument instead.\n",
            "  _log_warning(\"'verbose_eval' argument is deprecated and will be removed in a future release of LightGBM. \"\n",
            "/usr/local/lib/python3.7/dist-packages/lightgbm/engine.py:239: UserWarning: 'verbose_eval' argument is deprecated and will be removed in a future release of LightGBM. Pass 'log_evaluation()' callback via 'callbacks' argument instead.\n",
            "  _log_warning(\"'verbose_eval' argument is deprecated and will be removed in a future release of LightGBM. \"\n",
            "\t0.5929\t = Validation score   (r2)\n",
            "\t18.92s\t = Training   runtime\n",
            "\t0.33s\t = Validation runtime\n",
            "Fitting model: LightGBM_BAG_L2 ... Training model for up to 181.34s of the 181.32s of remaining time.\n",
            "/usr/local/lib/python3.7/dist-packages/lightgbm/engine.py:239: UserWarning: 'verbose_eval' argument is deprecated and will be removed in a future release of LightGBM. Pass 'log_evaluation()' callback via 'callbacks' argument instead.\n",
            "  _log_warning(\"'verbose_eval' argument is deprecated and will be removed in a future release of LightGBM. \"\n",
            "/usr/local/lib/python3.7/dist-packages/lightgbm/engine.py:239: UserWarning: 'verbose_eval' argument is deprecated and will be removed in a future release of LightGBM. Pass 'log_evaluation()' callback via 'callbacks' argument instead.\n",
            "  _log_warning(\"'verbose_eval' argument is deprecated and will be removed in a future release of LightGBM. \"\n",
            "/usr/local/lib/python3.7/dist-packages/lightgbm/engine.py:239: UserWarning: 'verbose_eval' argument is deprecated and will be removed in a future release of LightGBM. Pass 'log_evaluation()' callback via 'callbacks' argument instead.\n",
            "  _log_warning(\"'verbose_eval' argument is deprecated and will be removed in a future release of LightGBM. \"\n",
            "/usr/local/lib/python3.7/dist-packages/lightgbm/engine.py:239: UserWarning: 'verbose_eval' argument is deprecated and will be removed in a future release of LightGBM. Pass 'log_evaluation()' callback via 'callbacks' argument instead.\n",
            "  _log_warning(\"'verbose_eval' argument is deprecated and will be removed in a future release of LightGBM. \"\n",
            "/usr/local/lib/python3.7/dist-packages/lightgbm/engine.py:239: UserWarning: 'verbose_eval' argument is deprecated and will be removed in a future release of LightGBM. Pass 'log_evaluation()' callback via 'callbacks' argument instead.\n",
            "  _log_warning(\"'verbose_eval' argument is deprecated and will be removed in a future release of LightGBM. \"\n",
            "/usr/local/lib/python3.7/dist-packages/lightgbm/engine.py:239: UserWarning: 'verbose_eval' argument is deprecated and will be removed in a future release of LightGBM. Pass 'log_evaluation()' callback via 'callbacks' argument instead.\n",
            "  _log_warning(\"'verbose_eval' argument is deprecated and will be removed in a future release of LightGBM. \"\n",
            "/usr/local/lib/python3.7/dist-packages/lightgbm/engine.py:239: UserWarning: 'verbose_eval' argument is deprecated and will be removed in a future release of LightGBM. Pass 'log_evaluation()' callback via 'callbacks' argument instead.\n",
            "  _log_warning(\"'verbose_eval' argument is deprecated and will be removed in a future release of LightGBM. \"\n",
            "/usr/local/lib/python3.7/dist-packages/lightgbm/engine.py:239: UserWarning: 'verbose_eval' argument is deprecated and will be removed in a future release of LightGBM. Pass 'log_evaluation()' callback via 'callbacks' argument instead.\n",
            "  _log_warning(\"'verbose_eval' argument is deprecated and will be removed in a future release of LightGBM. \"\n",
            "/usr/local/lib/python3.7/dist-packages/lightgbm/engine.py:239: UserWarning: 'verbose_eval' argument is deprecated and will be removed in a future release of LightGBM. Pass 'log_evaluation()' callback via 'callbacks' argument instead.\n",
            "  _log_warning(\"'verbose_eval' argument is deprecated and will be removed in a future release of LightGBM. \"\n",
            "/usr/local/lib/python3.7/dist-packages/lightgbm/engine.py:239: UserWarning: 'verbose_eval' argument is deprecated and will be removed in a future release of LightGBM. Pass 'log_evaluation()' callback via 'callbacks' argument instead.\n",
            "  _log_warning(\"'verbose_eval' argument is deprecated and will be removed in a future release of LightGBM. \"\n",
            "\t0.5887\t = Validation score   (r2)\n",
            "\t11.78s\t = Training   runtime\n",
            "\t0.13s\t = Validation runtime\n",
            "Fitting model: RandomForestMSE_BAG_L2 ... Training model for up to 169.25s of the 169.24s of remaining time.\n",
            "\t0.5729\t = Validation score   (r2)\n",
            "\t31.32s\t = Training   runtime\n",
            "\t0.59s\t = Validation runtime\n",
            "Fitting model: CatBoost_BAG_L2 ... Training model for up to 136.51s of the 136.49s of remaining time.\n",
            "\t0.593\t = Validation score   (r2)\n",
            "\t45.67s\t = Training   runtime\n",
            "\t0.07s\t = Validation runtime\n",
            "Fitting model: ExtraTreesMSE_BAG_L2 ... Training model for up to 90.7s of the 90.68s of remaining time.\n",
            "\t0.5873\t = Validation score   (r2)\n",
            "\t7.78s\t = Training   runtime\n",
            "\t0.58s\t = Validation runtime\n",
            "Fitting model: NeuralNetFastAI_BAG_L2 ... Training model for up to 81.49s of the 81.47s of remaining time.\n",
            "\tRan out of time, stopping training early. (Stopping on epoch 11)\n",
            "\tRan out of time, stopping training early. (Stopping on epoch 12)\n",
            "\tRan out of time, stopping training early. (Stopping on epoch 12)\n",
            "\tRan out of time, stopping training early. (Stopping on epoch 12)\n",
            "\tRan out of time, stopping training early. (Stopping on epoch 13)\n",
            "\tRan out of time, stopping training early. (Stopping on epoch 13)\n",
            "\tRan out of time, stopping training early. (Stopping on epoch 14)\n",
            "\tRan out of time, stopping training early. (Stopping on epoch 15)\n",
            "\tRan out of time, stopping training early. (Stopping on epoch 17)\n",
            "\tRan out of time, stopping training early. (Stopping on epoch 22)\n",
            "\t0.5992\t = Validation score   (r2)\n",
            "\t77.93s\t = Training   runtime\n",
            "\t0.45s\t = Validation runtime\n",
            "Fitting model: XGBoost_BAG_L2 ... Training model for up to 2.86s of the 2.85s of remaining time.\n",
            "\t0.3791\t = Validation score   (r2)\n",
            "\t2.66s\t = Training   runtime\n",
            "\t0.13s\t = Validation runtime\n",
            "Completed 1/20 k-fold bagging repeats ...\n",
            "Fitting model: WeightedEnsemble_L3 ... Training model for up to 360.0s of the -0.06s of remaining time.\n",
            "\t0.6036\t = Validation score   (r2)\n",
            "\t0.49s\t = Training   runtime\n",
            "\t0.0s\t = Validation runtime\n",
            "AutoGluon training complete, total runtime = 600.6s ...\n",
            "TabularPredictor saved. To load, use: predictor = TabularPredictor.load(\"AutogluonModels/ag-20220129_214322/\")\n"
          ]
        },
        {
          "output_type": "execute_result",
          "data": {
            "text/plain": [
              "<autogluon.tabular.predictor.predictor.TabularPredictor at 0x7ff25fa682d0>"
            ]
          },
          "metadata": {},
          "execution_count": 32
        }
      ],
      "source": [
        "predictor_new_features = TabularPredictor(\n",
        "    label=\"count\",\n",
        "    problem_type=\"regression\",\n",
        "    eval_metric=\"r2\",\n",
        "    )\n",
        "\n",
        "predictor_new_features.fit(\n",
        "    train_data=train,\n",
        "    time_limit=600, \n",
        "    presets=\"best_quality\"\n",
        ")"
      ]
    },
    {
      "cell_type": "code",
      "execution_count": 33,
      "metadata": {
        "id": "5R3I5ALxFp35",
        "outputId": "2ddc70df-1005-4f86-ae00-ece5f6e136c5",
        "colab": {
          "base_uri": "https://localhost:8080/"
        }
      },
      "outputs": [
        {
          "output_type": "stream",
          "name": "stdout",
          "text": [
            "*** Summary of fit() ***\n",
            "Estimated performance of each model:\n",
            "                     model  score_val  pred_time_val    fit_time  pred_time_val_marginal  fit_time_marginal  stack_level  can_infer  fit_order\n",
            "0      WeightedEnsemble_L3   0.603615       6.754509  532.033499                0.000805           0.494987            3       True         17\n",
            "1   NeuralNetFastAI_BAG_L2   0.599203       5.772957  459.180830                0.454703          77.925536            2       True         15\n",
            "2          CatBoost_BAG_L2   0.592973       5.389050  426.922860                0.070796          45.667566            2       True         13\n",
            "3        LightGBMXT_BAG_L2   0.592898       5.647463  400.170295                0.329209          18.915001            2       True         10\n",
            "4          LightGBM_BAG_L2   0.588681       5.447918  393.038728                0.129664          11.783434            2       True         11\n",
            "5     ExtraTreesMSE_BAG_L2   0.587310       5.898998  389.030409                0.580744           7.775115            2       True         14\n",
            "6      WeightedEnsemble_L2   0.580240       0.884635   87.916787                0.000860           0.554592            2       True          9\n",
            "7   RandomForestMSE_BAG_L1   0.580207       0.483557    9.474876                0.483557           9.474876            1       True          5\n",
            "8   RandomForestMSE_BAG_L2   0.572866       5.910608  412.575390                0.592354          31.320096            2       True         12\n",
            "9     ExtraTreesMSE_BAG_L1   0.518163       0.461697    4.159537                0.461697           4.159537            1       True          7\n",
            "10         LightGBM_BAG_L1   0.479395       0.743063   36.342463                0.743063          36.342463            1       True          4\n",
            "11       LightGBMXT_BAG_L1   0.477390       2.821213  110.791355                2.821213         110.791355            1       True          3\n",
            "12         CatBoost_BAG_L1   0.465721       0.101028  142.537095                0.101028         142.537095            1       True          6\n",
            "13  NeuralNetFastAI_BAG_L1   0.418673       0.400218   77.887319                0.400218          77.887319            1       True          8\n",
            "14          XGBoost_BAG_L2   0.379068       5.443451  383.918695                0.125197           2.663401            2       True         16\n",
            "15   KNeighborsUnif_BAG_L1   0.276381       0.103064    0.030166                0.103064           0.030166            1       True          1\n",
            "16   KNeighborsDist_BAG_L1   0.275347       0.204414    0.032483                0.204414           0.032483            1       True          2\n",
            "Number of models trained: 17\n",
            "Types of models trained:\n",
            "{'StackerEnsembleModel_LGB', 'StackerEnsembleModel_XGBoost', 'StackerEnsembleModel_XT', 'StackerEnsembleModel_KNN', 'StackerEnsembleModel_RF', 'StackerEnsembleModel_CatBoost', 'WeightedEnsembleModel', 'StackerEnsembleModel_NNFastAiTabular'}\n",
            "Bagging used: True  (with 10 folds)\n",
            "Multi-layer stack-ensembling used: True  (with 3 levels)\n",
            "Feature Metadata (Processed):\n",
            "(raw dtype, special dtypes):\n",
            "('category', [])             : 2 | ['season', 'weather']\n",
            "('float', [])                : 3 | ['temp', 'atemp', 'windspeed']\n",
            "('int', [])                  : 3 | ['humidity', 'month', 'day']\n",
            "('int', ['bool'])            : 3 | ['holiday', 'workingday', 'year']\n",
            "('int', ['datetime_as_int']) : 1 | ['datetime']\n",
            "Plot summary of models saved to file: AutogluonModels/ag-20220129_214322/SummaryOfModels.html\n",
            "*** End of fit() summary ***\n"
          ]
        },
        {
          "output_type": "execute_result",
          "data": {
            "text/plain": [
              "{'leaderboard':                      model  score_val  ...  can_infer  fit_order\n",
              " 0      WeightedEnsemble_L3   0.603615  ...       True         17\n",
              " 1   NeuralNetFastAI_BAG_L2   0.599203  ...       True         15\n",
              " 2          CatBoost_BAG_L2   0.592973  ...       True         13\n",
              " 3        LightGBMXT_BAG_L2   0.592898  ...       True         10\n",
              " 4          LightGBM_BAG_L2   0.588681  ...       True         11\n",
              " 5     ExtraTreesMSE_BAG_L2   0.587310  ...       True         14\n",
              " 6      WeightedEnsemble_L2   0.580240  ...       True          9\n",
              " 7   RandomForestMSE_BAG_L1   0.580207  ...       True          5\n",
              " 8   RandomForestMSE_BAG_L2   0.572866  ...       True         12\n",
              " 9     ExtraTreesMSE_BAG_L1   0.518163  ...       True          7\n",
              " 10         LightGBM_BAG_L1   0.479395  ...       True          4\n",
              " 11       LightGBMXT_BAG_L1   0.477390  ...       True          3\n",
              " 12         CatBoost_BAG_L1   0.465721  ...       True          6\n",
              " 13  NeuralNetFastAI_BAG_L1   0.418673  ...       True          8\n",
              " 14          XGBoost_BAG_L2   0.379068  ...       True         16\n",
              " 15   KNeighborsUnif_BAG_L1   0.276381  ...       True          1\n",
              " 16   KNeighborsDist_BAG_L1   0.275347  ...       True          2\n",
              " \n",
              " [17 rows x 9 columns],\n",
              " 'max_stack_level': 3,\n",
              " 'model_best': 'WeightedEnsemble_L3',\n",
              " 'model_fit_times': {'CatBoost_BAG_L1': 142.53709506988525,\n",
              "  'CatBoost_BAG_L2': 45.66756582260132,\n",
              "  'ExtraTreesMSE_BAG_L1': 4.159536600112915,\n",
              "  'ExtraTreesMSE_BAG_L2': 7.775115013122559,\n",
              "  'KNeighborsDist_BAG_L1': 0.03248310089111328,\n",
              "  'KNeighborsUnif_BAG_L1': 0.030166149139404297,\n",
              "  'LightGBMXT_BAG_L1': 110.79135537147522,\n",
              "  'LightGBMXT_BAG_L2': 18.915001153945923,\n",
              "  'LightGBM_BAG_L1': 36.34246277809143,\n",
              "  'LightGBM_BAG_L2': 11.783434391021729,\n",
              "  'NeuralNetFastAI_BAG_L1': 77.88731932640076,\n",
              "  'NeuralNetFastAI_BAG_L2': 77.9255359172821,\n",
              "  'RandomForestMSE_BAG_L1': 9.474875688552856,\n",
              "  'RandomForestMSE_BAG_L2': 31.320095777511597,\n",
              "  'WeightedEnsemble_L2': 0.5545923709869385,\n",
              "  'WeightedEnsemble_L3': 0.49498653411865234,\n",
              "  'XGBoost_BAG_L2': 2.663400888442993},\n",
              " 'model_hyperparams': {'CatBoost_BAG_L1': {'max_base_models': 25,\n",
              "   'max_base_models_per_type': 5,\n",
              "   'save_bag_folds': True,\n",
              "   'use_orig_features': True},\n",
              "  'CatBoost_BAG_L2': {'max_base_models': 25,\n",
              "   'max_base_models_per_type': 5,\n",
              "   'save_bag_folds': True,\n",
              "   'use_orig_features': True},\n",
              "  'ExtraTreesMSE_BAG_L1': {'max_base_models': 25,\n",
              "   'max_base_models_per_type': 5,\n",
              "   'save_bag_folds': True,\n",
              "   'use_child_oof': True,\n",
              "   'use_orig_features': True},\n",
              "  'ExtraTreesMSE_BAG_L2': {'max_base_models': 25,\n",
              "   'max_base_models_per_type': 5,\n",
              "   'save_bag_folds': True,\n",
              "   'use_child_oof': True,\n",
              "   'use_orig_features': True},\n",
              "  'KNeighborsDist_BAG_L1': {'max_base_models': 25,\n",
              "   'max_base_models_per_type': 5,\n",
              "   'save_bag_folds': True,\n",
              "   'use_child_oof': True,\n",
              "   'use_orig_features': True},\n",
              "  'KNeighborsUnif_BAG_L1': {'max_base_models': 25,\n",
              "   'max_base_models_per_type': 5,\n",
              "   'save_bag_folds': True,\n",
              "   'use_child_oof': True,\n",
              "   'use_orig_features': True},\n",
              "  'LightGBMXT_BAG_L1': {'max_base_models': 25,\n",
              "   'max_base_models_per_type': 5,\n",
              "   'save_bag_folds': True,\n",
              "   'use_orig_features': True},\n",
              "  'LightGBMXT_BAG_L2': {'max_base_models': 25,\n",
              "   'max_base_models_per_type': 5,\n",
              "   'save_bag_folds': True,\n",
              "   'use_orig_features': True},\n",
              "  'LightGBM_BAG_L1': {'max_base_models': 25,\n",
              "   'max_base_models_per_type': 5,\n",
              "   'save_bag_folds': True,\n",
              "   'use_orig_features': True},\n",
              "  'LightGBM_BAG_L2': {'max_base_models': 25,\n",
              "   'max_base_models_per_type': 5,\n",
              "   'save_bag_folds': True,\n",
              "   'use_orig_features': True},\n",
              "  'NeuralNetFastAI_BAG_L1': {'max_base_models': 25,\n",
              "   'max_base_models_per_type': 5,\n",
              "   'save_bag_folds': True,\n",
              "   'use_orig_features': True},\n",
              "  'NeuralNetFastAI_BAG_L2': {'max_base_models': 25,\n",
              "   'max_base_models_per_type': 5,\n",
              "   'save_bag_folds': True,\n",
              "   'use_orig_features': True},\n",
              "  'RandomForestMSE_BAG_L1': {'max_base_models': 25,\n",
              "   'max_base_models_per_type': 5,\n",
              "   'save_bag_folds': True,\n",
              "   'use_child_oof': True,\n",
              "   'use_orig_features': True},\n",
              "  'RandomForestMSE_BAG_L2': {'max_base_models': 25,\n",
              "   'max_base_models_per_type': 5,\n",
              "   'save_bag_folds': True,\n",
              "   'use_child_oof': True,\n",
              "   'use_orig_features': True},\n",
              "  'WeightedEnsemble_L2': {'max_base_models': 25,\n",
              "   'max_base_models_per_type': 5,\n",
              "   'save_bag_folds': True,\n",
              "   'use_orig_features': False},\n",
              "  'WeightedEnsemble_L3': {'max_base_models': 25,\n",
              "   'max_base_models_per_type': 5,\n",
              "   'save_bag_folds': True,\n",
              "   'use_orig_features': False},\n",
              "  'XGBoost_BAG_L2': {'max_base_models': 25,\n",
              "   'max_base_models_per_type': 5,\n",
              "   'save_bag_folds': True,\n",
              "   'use_orig_features': True}},\n",
              " 'model_paths': {'CatBoost_BAG_L1': 'AutogluonModels/ag-20220129_214322/models/CatBoost_BAG_L1/',\n",
              "  'CatBoost_BAG_L2': 'AutogluonModels/ag-20220129_214322/models/CatBoost_BAG_L2/',\n",
              "  'ExtraTreesMSE_BAG_L1': 'AutogluonModels/ag-20220129_214322/models/ExtraTreesMSE_BAG_L1/',\n",
              "  'ExtraTreesMSE_BAG_L2': 'AutogluonModels/ag-20220129_214322/models/ExtraTreesMSE_BAG_L2/',\n",
              "  'KNeighborsDist_BAG_L1': 'AutogluonModels/ag-20220129_214322/models/KNeighborsDist_BAG_L1/',\n",
              "  'KNeighborsUnif_BAG_L1': 'AutogluonModels/ag-20220129_214322/models/KNeighborsUnif_BAG_L1/',\n",
              "  'LightGBMXT_BAG_L1': 'AutogluonModels/ag-20220129_214322/models/LightGBMXT_BAG_L1/',\n",
              "  'LightGBMXT_BAG_L2': 'AutogluonModels/ag-20220129_214322/models/LightGBMXT_BAG_L2/',\n",
              "  'LightGBM_BAG_L1': 'AutogluonModels/ag-20220129_214322/models/LightGBM_BAG_L1/',\n",
              "  'LightGBM_BAG_L2': 'AutogluonModels/ag-20220129_214322/models/LightGBM_BAG_L2/',\n",
              "  'NeuralNetFastAI_BAG_L1': 'AutogluonModels/ag-20220129_214322/models/NeuralNetFastAI_BAG_L1/',\n",
              "  'NeuralNetFastAI_BAG_L2': 'AutogluonModels/ag-20220129_214322/models/NeuralNetFastAI_BAG_L2/',\n",
              "  'RandomForestMSE_BAG_L1': 'AutogluonModels/ag-20220129_214322/models/RandomForestMSE_BAG_L1/',\n",
              "  'RandomForestMSE_BAG_L2': 'AutogluonModels/ag-20220129_214322/models/RandomForestMSE_BAG_L2/',\n",
              "  'WeightedEnsemble_L2': 'AutogluonModels/ag-20220129_214322/models/WeightedEnsemble_L2/',\n",
              "  'WeightedEnsemble_L3': 'AutogluonModels/ag-20220129_214322/models/WeightedEnsemble_L3/',\n",
              "  'XGBoost_BAG_L2': 'AutogluonModels/ag-20220129_214322/models/XGBoost_BAG_L2/'},\n",
              " 'model_performance': {'CatBoost_BAG_L1': 0.4657213809874594,\n",
              "  'CatBoost_BAG_L2': 0.5929726191877545,\n",
              "  'ExtraTreesMSE_BAG_L1': 0.5181627381260896,\n",
              "  'ExtraTreesMSE_BAG_L2': 0.5873102720741397,\n",
              "  'KNeighborsDist_BAG_L1': 0.2753467946354189,\n",
              "  'KNeighborsUnif_BAG_L1': 0.27638134723030783,\n",
              "  'LightGBMXT_BAG_L1': 0.47739007400729294,\n",
              "  'LightGBMXT_BAG_L2': 0.5928977744339229,\n",
              "  'LightGBM_BAG_L1': 0.4793945587671534,\n",
              "  'LightGBM_BAG_L2': 0.5886809422488222,\n",
              "  'NeuralNetFastAI_BAG_L1': 0.4186731425817526,\n",
              "  'NeuralNetFastAI_BAG_L2': 0.5992032822594877,\n",
              "  'RandomForestMSE_BAG_L1': 0.5802074884876973,\n",
              "  'RandomForestMSE_BAG_L2': 0.5728660180744449,\n",
              "  'WeightedEnsemble_L2': 0.5802404062777531,\n",
              "  'WeightedEnsemble_L3': 0.6036145568554256,\n",
              "  'XGBoost_BAG_L2': 0.37906810920671685},\n",
              " 'model_pred_times': {'CatBoost_BAG_L1': 0.1010279655456543,\n",
              "  'CatBoost_BAG_L2': 0.07079577445983887,\n",
              "  'ExtraTreesMSE_BAG_L1': 0.4616971015930176,\n",
              "  'ExtraTreesMSE_BAG_L2': 0.5807437896728516,\n",
              "  'KNeighborsDist_BAG_L1': 0.20441365242004395,\n",
              "  'KNeighborsUnif_BAG_L1': 0.10306382179260254,\n",
              "  'LightGBMXT_BAG_L1': 2.8212130069732666,\n",
              "  'LightGBMXT_BAG_L2': 0.3292086124420166,\n",
              "  'LightGBM_BAG_L1': 0.7430629730224609,\n",
              "  'LightGBM_BAG_L2': 0.12966418266296387,\n",
              "  'NeuralNetFastAI_BAG_L1': 0.40021848678588867,\n",
              "  'NeuralNetFastAI_BAG_L2': 0.45470261573791504,\n",
              "  'RandomForestMSE_BAG_L1': 0.48355698585510254,\n",
              "  'RandomForestMSE_BAG_L2': 0.5923540592193604,\n",
              "  'WeightedEnsemble_L2': 0.0008597373962402344,\n",
              "  'WeightedEnsemble_L3': 0.0008046627044677734,\n",
              "  'XGBoost_BAG_L2': 0.1251974105834961},\n",
              " 'model_types': {'CatBoost_BAG_L1': 'StackerEnsembleModel_CatBoost',\n",
              "  'CatBoost_BAG_L2': 'StackerEnsembleModel_CatBoost',\n",
              "  'ExtraTreesMSE_BAG_L1': 'StackerEnsembleModel_XT',\n",
              "  'ExtraTreesMSE_BAG_L2': 'StackerEnsembleModel_XT',\n",
              "  'KNeighborsDist_BAG_L1': 'StackerEnsembleModel_KNN',\n",
              "  'KNeighborsUnif_BAG_L1': 'StackerEnsembleModel_KNN',\n",
              "  'LightGBMXT_BAG_L1': 'StackerEnsembleModel_LGB',\n",
              "  'LightGBMXT_BAG_L2': 'StackerEnsembleModel_LGB',\n",
              "  'LightGBM_BAG_L1': 'StackerEnsembleModel_LGB',\n",
              "  'LightGBM_BAG_L2': 'StackerEnsembleModel_LGB',\n",
              "  'NeuralNetFastAI_BAG_L1': 'StackerEnsembleModel_NNFastAiTabular',\n",
              "  'NeuralNetFastAI_BAG_L2': 'StackerEnsembleModel_NNFastAiTabular',\n",
              "  'RandomForestMSE_BAG_L1': 'StackerEnsembleModel_RF',\n",
              "  'RandomForestMSE_BAG_L2': 'StackerEnsembleModel_RF',\n",
              "  'WeightedEnsemble_L2': 'WeightedEnsembleModel',\n",
              "  'WeightedEnsemble_L3': 'WeightedEnsembleModel',\n",
              "  'XGBoost_BAG_L2': 'StackerEnsembleModel_XGBoost'},\n",
              " 'num_bag_folds': 10}"
            ]
          },
          "metadata": {},
          "execution_count": 33
        }
      ],
      "source": [
        "predictor_new_features.fit_summary()"
      ]
    },
    {
      "cell_type": "code",
      "execution_count": 34,
      "metadata": {
        "id": "4HmvAD4kFp35",
        "outputId": "bfdc46b6-59b5-4f53-f1b1-d8c4881e6c3c",
        "colab": {
          "base_uri": "https://localhost:8080/"
        }
      },
      "outputs": [
        {
          "output_type": "stream",
          "name": "stdout",
          "text": [
            "(0,)\n"
          ]
        }
      ],
      "source": [
        "# Remember to set all negative values to zero\n",
        "predictions_new_features = predictor_new_features.predict(test)\n",
        "predictions_new_features[predictions_new_features < 0] = 0\n",
        "print(predictions_new_features[predictions_new_features < 0].shape)"
      ]
    },
    {
      "cell_type": "code",
      "source": [
        "submission_new_features = pd.read_csv(\"submission.csv\")"
      ],
      "metadata": {
        "id": "lSb_g-9miIUa"
      },
      "execution_count": 35,
      "outputs": []
    },
    {
      "cell_type": "code",
      "execution_count": 36,
      "metadata": {
        "id": "0KPM6YcBFp35"
      },
      "outputs": [],
      "source": [
        "# Same submitting predictions\n",
        "submission_new_features[\"count\"] = predictions_new_features.values\n",
        "submission_new_features.to_csv(\"submission_new_features.csv\", index=False)"
      ]
    },
    {
      "cell_type": "code",
      "execution_count": 37,
      "metadata": {
        "id": "gavAJT_UFp35",
        "outputId": "62ad2b41-2279-40ca-83eb-6d4c27088a30",
        "colab": {
          "base_uri": "https://localhost:8080/"
        }
      },
      "outputs": [
        {
          "output_type": "stream",
          "name": "stdout",
          "text": [
            "Warning: Looks like you're using an outdated API Version, please consider updating (server 1.5.12 / client 1.5.4)\n",
            "100% 188k/188k [00:01<00:00, 119kB/s]\n",
            "Successfully submitted to Bike Sharing Demand"
          ]
        }
      ],
      "source": [
        "!kaggle competitions submit -c bike-sharing-demand -f submission_new_features.csv -m \"new features\""
      ]
    },
    {
      "cell_type": "code",
      "execution_count": 38,
      "metadata": {
        "id": "CfnQ5H33Fp35",
        "outputId": "add51d5a-a0f7-4b8e-bbd3-4806abc90546",
        "colab": {
          "base_uri": "https://localhost:8080/"
        }
      },
      "outputs": [
        {
          "output_type": "stream",
          "name": "stdout",
          "text": [
            "Warning: Looks like you're using an outdated API Version, please consider updating (server 1.5.12 / client 1.5.4)\n",
            "fileName                     date                 description                        status    publicScore  privateScore  \n",
            "---------------------------  -------------------  ---------------------------------  --------  -----------  ------------  \n",
            "submission_new_features.csv  2022-01-29 21:53:54  new features                       complete  1.42969      1.42969       \n",
            "submission.csv               2022-01-29 21:43:17  first raw submission               complete  1.39581      1.39581       \n",
            "submission_new_hpo.csv       2022-01-29 20:55:00  new features with hyperparameters  complete  1.21910      1.21910       \n"
          ]
        }
      ],
      "source": [
        "!kaggle competitions submissions -c bike-sharing-demand | tail -n +1 | head -n 6"
      ]
    },
    {
      "cell_type": "markdown",
      "metadata": {
        "id": "lmUyMxynFp36"
      },
      "source": [
        "#### New Score of `1.43298`"
      ]
    },
    {
      "cell_type": "markdown",
      "metadata": {
        "id": "urBY_V9nFp36"
      },
      "source": [
        "## Step 6: Hyper parameter optimization\n",
        "* There are many options for hyper parameter optimization.\n",
        "* Options are to change the AutoGluon higher level parameters or the individual model hyperparameters.\n",
        "* The hyperparameters of the models themselves that are in AutoGluon. Those need the `hyperparameter` and `hyperparameter_tune_kwargs` arguments."
      ]
    },
    {
      "cell_type": "code",
      "source": [
        "import autogluon.core as ag\n",
        "\n",
        "feed_forward_neural_network_options = {  \n",
        "    'num_epochs': 40,  \n",
        "    'learning_rate': ag.space.Real(1e-4, 1e-3, default=5e-4, log=True),  \n",
        "    'activation': ag.space.Categorical('relu'),  \n",
        "    'layers': ag.space.Categorical([128], [64], [64, 32], [16, 8]),  # each choice for categorical hyperparameter 'layers' corresponds to list of sizes for each NN layer to use\n",
        "    'dropout_prob': ag.space.Real(0.2, 0.5, default=0.3),  \n",
        "}\n",
        "\n",
        "hyperparameters = {  \n",
        "                   'NN': feed_forward_neural_network_options,  \n",
        "                  }  \n",
        "\n",
        "search_strategy = 'auto'\n",
        "\n",
        "hyperparameter_tune_kwargs = {  \n",
        "    'scheduler' : 'local',\n",
        "    'searcher': search_strategy,\n",
        "}\n"
      ],
      "metadata": {
        "id": "X56DE3CHrxSR"
      },
      "execution_count": 53,
      "outputs": []
    },
    {
      "cell_type": "code",
      "source": [
        "predictor_new_hpo = TabularPredictor(\n",
        "    label=\"count\", \n",
        "    eval_metric=\"r2\",\n",
        "    learner_kwargs={\n",
        "        \"ignored_columns\":[\"casual\", \"registered\"]\n",
        "        }\n",
        "    )\n",
        "\n",
        "predictor_new_hpo.fit(\n",
        "    train_data=train, \n",
        "    time_limit=1000, \n",
        "    presets=\"best_quality\", \n",
        "    hyperparameters=hyperparameters, \n",
        "    hyperparameter_tune_kwargs=hyperparameter_tune_kwargs\n",
        ")"
      ],
      "metadata": {
        "id": "2VAgClvegLEh",
        "outputId": "0522b71f-cf0c-4486-e18f-7f2aa84108af",
        "colab": {
          "base_uri": "https://localhost:8080/"
        }
      },
      "execution_count": 54,
      "outputs": [
        {
          "output_type": "stream",
          "name": "stderr",
          "text": [
            "No path specified. Models will be saved in: \"AutogluonModels/ag-20220129_222605/\"\n",
            "Presets specified: ['best_quality']\n",
            "Warning: hyperparameter tuning is currently experimental and may cause the process to hang.\n",
            "Beginning AutoGluon training ... Time limit = 1000s\n",
            "AutoGluon will save models to \"AutogluonModels/ag-20220129_222605/\"\n",
            "AutoGluon Version:  0.3.1\n",
            "Train Data Rows:    10886\n",
            "Train Data Columns: 12\n",
            "Preprocessing data ...\n",
            "AutoGluon infers your prediction problem is: 'regression' (because dtype of label-column == int and many unique label-values observed).\n",
            "\tLabel info (max, min, mean, stddev): (977, 1, 191.57413, 181.14445)\n",
            "\tIf 'regression' is not the correct problem_type, please manually specify the problem_type argument in fit() (You may specify problem_type as one of: ['binary', 'multiclass', 'regression'])\n",
            "Using Feature Generators to preprocess the data ...\n",
            "Dropping user-specified ignored columns: ['casual', 'registered']\n",
            "Fitting AutoMLPipelineFeatureGenerator...\n",
            "\tAvailable Memory:                    10617.6 MB\n",
            "\tTrain Data (Original)  Memory Usage: 0.89 MB (0.0% of available memory)\n",
            "\tInferring data type of each feature based on column values. Set feature_metadata_in to manually specify special dtypes of the features.\n",
            "\tStage 1 Generators:\n",
            "\t\tFitting AsTypeFeatureGenerator...\n",
            "\t\t\tNote: Converting 3 features to boolean dtype as they only contain 2 unique values.\n",
            "\tStage 2 Generators:\n",
            "\t\tFitting FillNaFeatureGenerator...\n",
            "\tStage 3 Generators:\n",
            "\t\tFitting IdentityFeatureGenerator...\n",
            "\t\tFitting CategoryFeatureGenerator...\n",
            "\t\t\tFitting CategoryMemoryMinimizeFeatureGenerator...\n",
            "\t\tFitting DatetimeFeatureGenerator...\n",
            "\tStage 4 Generators:\n",
            "\t\tFitting DropUniqueFeatureGenerator...\n",
            "\tTypes of features in original data (raw dtype, special dtypes):\n",
            "\t\t('category', []) : 2 | ['season', 'weather']\n",
            "\t\t('datetime', []) : 1 | ['datetime']\n",
            "\t\t('float', [])    : 3 | ['temp', 'atemp', 'windspeed']\n",
            "\t\t('int', [])      : 6 | ['holiday', 'workingday', 'humidity', 'year', 'month', ...]\n",
            "\tTypes of features in processed data (raw dtype, special dtypes):\n",
            "\t\t('category', [])             : 2 | ['season', 'weather']\n",
            "\t\t('float', [])                : 3 | ['temp', 'atemp', 'windspeed']\n",
            "\t\t('int', [])                  : 3 | ['humidity', 'month', 'day']\n",
            "\t\t('int', ['bool'])            : 3 | ['holiday', 'workingday', 'year']\n",
            "\t\t('int', ['datetime_as_int']) : 1 | ['datetime']\n",
            "\t0.3s = Fit runtime\n",
            "\t12 features in original data used to generate 12 features in processed data.\n",
            "\tTrain Data (Processed) Memory Usage: 0.67 MB (0.0% of available memory)\n",
            "Data preprocessing and feature engineering runtime = 0.5s ...\n",
            "AutoGluon will gauge predictive performance using evaluation metric: 'r2'\n",
            "\tTo change this, specify the eval_metric argument of fit()\n",
            "AutoGluon will fit 2 stack levels (L1 to L2) ...\n",
            "Fitting 1 L1 models ...\n",
            "Hyperparameter tuning model: NeuralNetMXNet_BAG_L1 ...\n",
            "\tRan out of time, stopping training early. (Stopping on epoch 29)\n",
            "\tTime limit exceeded\n",
            "Fitted model: NeuralNetMXNet_BAG_L1/T0 ...\n",
            "\t0.3335\t = Validation score   (r2)\n",
            "\t44.52s\t = Training   runtime\n",
            "\t0.08s\t = Validation runtime\n",
            "Fitting model: NeuralNetMXNet_BAG_L1/T0 ... Training model for up to 618.21s of the 951.53s of remaining time.\n",
            "Attempting to fit model without HPO, but search space is provided. fit() will only consider default hyperparameter values from search space.\n",
            "Attempting to fit model without HPO, but search space is provided. fit() will only consider default hyperparameter values from search space.\n",
            "Attempting to fit model without HPO, but search space is provided. fit() will only consider default hyperparameter values from search space.\n",
            "Attempting to fit model without HPO, but search space is provided. fit() will only consider default hyperparameter values from search space.\n",
            "Attempting to fit model without HPO, but search space is provided. fit() will only consider default hyperparameter values from search space.\n",
            "Attempting to fit model without HPO, but search space is provided. fit() will only consider default hyperparameter values from search space.\n",
            "Attempting to fit model without HPO, but search space is provided. fit() will only consider default hyperparameter values from search space.\n",
            "Attempting to fit model without HPO, but search space is provided. fit() will only consider default hyperparameter values from search space.\n",
            "Attempting to fit model without HPO, but search space is provided. fit() will only consider default hyperparameter values from search space.\n",
            "\t0.3663\t = Validation score   (r2)\n",
            "\t379.9s\t = Training   runtime\n",
            "\t2.12s\t = Validation runtime\n",
            "Completed 1/20 k-fold bagging repeats ...\n",
            "Fitting model: WeightedEnsemble_L2 ... Training model for up to 360.0s of the 614.03s of remaining time.\n",
            "\t0.3663\t = Validation score   (r2)\n",
            "\t0.01s\t = Training   runtime\n",
            "\t0.0s\t = Validation runtime\n",
            "Fitting 1 L2 models ...\n",
            "Hyperparameter tuning model: NeuralNetMXNet_BAG_L2 ...\n",
            "\tRan out of time, stopping training early. (Stopping on epoch 37)\n",
            "\tTime limit exceeded\n",
            "Fitted model: NeuralNetMXNet_BAG_L2/T0 ...\n",
            "\t0.4179\t = Validation score   (r2)\n",
            "\t42.81s\t = Training   runtime\n",
            "\t0.07s\t = Validation runtime\n",
            "Fitting model: NeuralNetMXNet_BAG_L2/T0 ... Training model for up to 569.45s of the 569.44s of remaining time.\n",
            "Attempting to fit model without HPO, but search space is provided. fit() will only consider default hyperparameter values from search space.\n",
            "Attempting to fit model without HPO, but search space is provided. fit() will only consider default hyperparameter values from search space.\n",
            "Attempting to fit model without HPO, but search space is provided. fit() will only consider default hyperparameter values from search space.\n",
            "Attempting to fit model without HPO, but search space is provided. fit() will only consider default hyperparameter values from search space.\n",
            "Attempting to fit model without HPO, but search space is provided. fit() will only consider default hyperparameter values from search space.\n",
            "Attempting to fit model without HPO, but search space is provided. fit() will only consider default hyperparameter values from search space.\n",
            "Attempting to fit model without HPO, but search space is provided. fit() will only consider default hyperparameter values from search space.\n",
            "Attempting to fit model without HPO, but search space is provided. fit() will only consider default hyperparameter values from search space.\n",
            "Attempting to fit model without HPO, but search space is provided. fit() will only consider default hyperparameter values from search space.\n",
            "\t0.362\t = Validation score   (r2)\n",
            "\t364.04s\t = Training   runtime\n",
            "\t2.13s\t = Validation runtime\n",
            "Completed 1/20 k-fold bagging repeats ...\n",
            "Fitting model: WeightedEnsemble_L3 ... Training model for up to 360.0s of the 246.08s of remaining time.\n",
            "\t0.362\t = Validation score   (r2)\n",
            "\t0.01s\t = Training   runtime\n",
            "\t0.0s\t = Validation runtime\n",
            "AutoGluon training complete, total runtime = 753.96s ...\n",
            "TabularPredictor saved. To load, use: predictor = TabularPredictor.load(\"AutogluonModels/ag-20220129_222605/\")\n"
          ]
        },
        {
          "output_type": "execute_result",
          "data": {
            "text/plain": [
              "<autogluon.tabular.predictor.predictor.TabularPredictor at 0x7ff25cb01610>"
            ]
          },
          "metadata": {},
          "execution_count": 54
        }
      ]
    },
    {
      "cell_type": "code",
      "execution_count": 55,
      "metadata": {
        "id": "Md42ro4nFp36",
        "outputId": "4d2976f9-2d2f-41c4-97ec-e9fc075898a2",
        "colab": {
          "base_uri": "https://localhost:8080/"
        }
      },
      "outputs": [
        {
          "output_type": "stream",
          "name": "stdout",
          "text": [
            "*** Summary of fit() ***\n",
            "Estimated performance of each model:\n",
            "                      model  score_val  pred_time_val    fit_time  pred_time_val_marginal  fit_time_marginal  stack_level  can_infer  fit_order\n",
            "0  NeuralNetMXNet_BAG_L1/T0   0.366275       2.120317  379.903600                2.120317         379.903600            1       True          1\n",
            "1       WeightedEnsemble_L2   0.366275       2.121486  379.910094                0.001169           0.006494            2       True          2\n",
            "2  NeuralNetMXNet_BAG_L2/T0   0.361986       4.247193  743.939215                2.126875         364.035615            2       True          3\n",
            "3       WeightedEnsemble_L3   0.361986       4.248036  743.944287                0.000844           0.005071            3       True          4\n",
            "Number of models trained: 4\n",
            "Types of models trained:\n",
            "{'WeightedEnsembleModel', 'StackerEnsembleModel_TabularNeuralNet'}\n",
            "Bagging used: True  (with 10 folds)\n",
            "Multi-layer stack-ensembling used: True  (with 3 levels)\n",
            "Feature Metadata (Processed):\n",
            "(raw dtype, special dtypes):\n",
            "('category', [])             : 2 | ['season', 'weather']\n",
            "('float', [])                : 3 | ['temp', 'atemp', 'windspeed']\n",
            "('int', [])                  : 3 | ['humidity', 'month', 'day']\n",
            "('int', ['bool'])            : 3 | ['holiday', 'workingday', 'year']\n",
            "('int', ['datetime_as_int']) : 1 | ['datetime']\n",
            "Plot summary of models saved to file: AutogluonModels/ag-20220129_222605/SummaryOfModels.html\n",
            "*** End of fit() summary ***\n"
          ]
        },
        {
          "output_type": "execute_result",
          "data": {
            "text/plain": [
              "{'leaderboard':                       model  score_val  ...  can_infer  fit_order\n",
              " 0  NeuralNetMXNet_BAG_L1/T0   0.366275  ...       True          1\n",
              " 1       WeightedEnsemble_L2   0.366275  ...       True          2\n",
              " 2  NeuralNetMXNet_BAG_L2/T0   0.361986  ...       True          3\n",
              " 3       WeightedEnsemble_L3   0.361986  ...       True          4\n",
              " \n",
              " [4 rows x 9 columns],\n",
              " 'max_stack_level': 3,\n",
              " 'model_best': 'WeightedEnsemble_L2',\n",
              " 'model_fit_times': {'NeuralNetMXNet_BAG_L1/T0': 379.90360021591187,\n",
              "  'NeuralNetMXNet_BAG_L2/T0': 364.03561520576477,\n",
              "  'WeightedEnsemble_L2': 0.006494045257568359,\n",
              "  'WeightedEnsemble_L3': 0.005071163177490234},\n",
              " 'model_hyperparams': {'NeuralNetMXNet_BAG_L1/T0': {'max_base_models': 25,\n",
              "   'max_base_models_per_type': 5,\n",
              "   'save_bag_folds': True,\n",
              "   'use_orig_features': True},\n",
              "  'NeuralNetMXNet_BAG_L2/T0': {'max_base_models': 25,\n",
              "   'max_base_models_per_type': 5,\n",
              "   'save_bag_folds': True,\n",
              "   'use_orig_features': True},\n",
              "  'WeightedEnsemble_L2': {'max_base_models': 25,\n",
              "   'max_base_models_per_type': 5,\n",
              "   'save_bag_folds': True,\n",
              "   'use_orig_features': False},\n",
              "  'WeightedEnsemble_L3': {'max_base_models': 25,\n",
              "   'max_base_models_per_type': 5,\n",
              "   'save_bag_folds': True,\n",
              "   'use_orig_features': False}},\n",
              " 'model_paths': {'NeuralNetMXNet_BAG_L1/T0': 'AutogluonModels/ag-20220129_222605/models/NeuralNetMXNet_BAG_L1/T0/',\n",
              "  'NeuralNetMXNet_BAG_L2/T0': 'AutogluonModels/ag-20220129_222605/models/NeuralNetMXNet_BAG_L2/T0/',\n",
              "  'WeightedEnsemble_L2': 'AutogluonModels/ag-20220129_222605/models/WeightedEnsemble_L2/',\n",
              "  'WeightedEnsemble_L3': 'AutogluonModels/ag-20220129_222605/models/WeightedEnsemble_L3/'},\n",
              " 'model_performance': {'NeuralNetMXNet_BAG_L1/T0': 0.3662750221867387,\n",
              "  'NeuralNetMXNet_BAG_L2/T0': 0.3619860179226062,\n",
              "  'WeightedEnsemble_L2': 0.3662750221867387,\n",
              "  'WeightedEnsemble_L3': 0.3619860179226062},\n",
              " 'model_pred_times': {'NeuralNetMXNet_BAG_L1/T0': 2.1203174591064453,\n",
              "  'NeuralNetMXNet_BAG_L2/T0': 2.126875162124634,\n",
              "  'WeightedEnsemble_L2': 0.0011687278747558594,\n",
              "  'WeightedEnsemble_L3': 0.0008437633514404297},\n",
              " 'model_types': {'NeuralNetMXNet_BAG_L1/T0': 'StackerEnsembleModel_TabularNeuralNet',\n",
              "  'NeuralNetMXNet_BAG_L2/T0': 'StackerEnsembleModel_TabularNeuralNet',\n",
              "  'WeightedEnsemble_L2': 'WeightedEnsembleModel',\n",
              "  'WeightedEnsemble_L3': 'WeightedEnsembleModel'},\n",
              " 'num_bag_folds': 10}"
            ]
          },
          "metadata": {},
          "execution_count": 55
        }
      ],
      "source": [
        "predictor_new_hpo.fit_summary()"
      ]
    },
    {
      "cell_type": "code",
      "execution_count": 56,
      "metadata": {
        "id": "joBgSAVMFp36",
        "outputId": "2c45f7ca-c007-43c4-8966-356393790c15",
        "colab": {
          "base_uri": "https://localhost:8080/"
        }
      },
      "outputs": [
        {
          "output_type": "execute_result",
          "data": {
            "text/plain": [
              "0    44.032490\n",
              "1    31.880054\n",
              "2    31.881170\n",
              "3    42.457848\n",
              "4    42.460194\n",
              "Name: count, dtype: float32"
            ]
          },
          "metadata": {},
          "execution_count": 56
        }
      ],
      "source": [
        "# Remember to set all negative values to zero\n",
        "predictions = predictor_new_hpo.predict(test)\n",
        "predictions.head()"
      ]
    },
    {
      "cell_type": "code",
      "source": [
        "predictions[predictions < 0] = 0\n",
        "print(predictions[predictions < 0].shape)"
      ],
      "metadata": {
        "id": "Hi2HBCrLnaTG",
        "outputId": "3e2c0597-3579-4642-e594-3c5cdcf04947",
        "colab": {
          "base_uri": "https://localhost:8080/"
        }
      },
      "execution_count": 57,
      "outputs": [
        {
          "output_type": "stream",
          "name": "stdout",
          "text": [
            "(0,)\n"
          ]
        }
      ]
    },
    {
      "cell_type": "code",
      "source": [
        "submission_new_hpo = pd.read_csv(\"submission.csv\")"
      ],
      "metadata": {
        "id": "e1nmgdcXnkfs"
      },
      "execution_count": 58,
      "outputs": []
    },
    {
      "cell_type": "code",
      "execution_count": 59,
      "metadata": {
        "id": "J4JfQu5HFp36"
      },
      "outputs": [],
      "source": [
        "# Same submitting predictions\n",
        "submission_new_hpo[\"count\"] = predictions.values\n",
        "submission_new_hpo.to_csv(\"submission_new_hpo.csv\", index=False)"
      ]
    },
    {
      "cell_type": "code",
      "execution_count": 60,
      "metadata": {
        "id": "K8TcNedoFp37",
        "outputId": "54c92a54-4ba3-41dc-a102-520326af9bea",
        "colab": {
          "base_uri": "https://localhost:8080/"
        }
      },
      "outputs": [
        {
          "output_type": "stream",
          "name": "stdout",
          "text": [
            "Warning: Looks like you're using an outdated API Version, please consider updating (server 1.5.12 / client 1.5.4)\n",
            "100% 188k/188k [00:01<00:00, 152kB/s]\n",
            "Successfully submitted to Bike Sharing Demand"
          ]
        }
      ],
      "source": [
        "!kaggle competitions submit -c bike-sharing-demand -f submission_new_hpo.csv -m \"new features with hyperparameters\""
      ]
    },
    {
      "cell_type": "code",
      "execution_count": 61,
      "metadata": {
        "id": "MnRNx_wdFp37",
        "outputId": "fbf789f7-daea-4666-9e9b-c5a0363f551d",
        "colab": {
          "base_uri": "https://localhost:8080/"
        }
      },
      "outputs": [
        {
          "output_type": "stream",
          "name": "stdout",
          "text": [
            "Warning: Looks like you're using an outdated API Version, please consider updating (server 1.5.12 / client 1.5.4)\n",
            "fileName                     date                 description                        status    publicScore  privateScore  \n",
            "---------------------------  -------------------  ---------------------------------  --------  -----------  ------------  \n",
            "submission_new_hpo.csv       2022-01-29 22:38:47  new features with hyperparameters  complete  1.22538      1.22538       \n",
            "submission_new_hpo.csv       2022-01-29 22:03:54  new features with hyperparameters  complete  1.21963      1.21963       \n",
            "submission_new_features.csv  2022-01-29 21:53:54  new features                       complete  1.42969      1.42969       \n"
          ]
        }
      ],
      "source": [
        "!kaggle competitions submissions -c bike-sharing-demand | tail -n +1 | head -n 6"
      ]
    },
    {
      "cell_type": "markdown",
      "metadata": {
        "id": "TbZgFPMJFp37"
      },
      "source": [
        "**bold text**#### New Score of `1.21910`"
      ]
    },
    {
      "cell_type": "markdown",
      "metadata": {
        "id": "q-K53AqiFp37"
      },
      "source": [
        "## Step 7: Write a Report\n",
        "### Refer to the markdown file for the full report\n",
        "### Creating plots and table for report"
      ]
    },
    {
      "cell_type": "code",
      "execution_count": 51,
      "metadata": {
        "jupyter": {
          "source_hidden": true
        },
        "id": "h25rkhWqFp37",
        "outputId": "a78c158a-7ebb-4506-d01a-32795c103cba",
        "colab": {
          "base_uri": "https://localhost:8080/",
          "height": 389
        }
      },
      "outputs": [
        {
          "output_type": "display_data",
          "data": {
            "image/png": "[encoded data removed]",
            "text/plain": [
              "<Figure size 576x432 with 1 Axes>"
            ]
          },
          "metadata": {
            "needs_background": "light"
          }
        }
      ],
      "source": [
        "# Taking the top model score from each training run and creating a line plot to show improvement\n",
        "# You can create these in the notebook and save them to PNG or use some other tool (e.g. google sheets, excel)\n",
        "fig = pd.DataFrame(\n",
        "    {\n",
        "        \"model\": [\"initial\", \"add_features\", \"hpo\"],\n",
        "        \"score\": [0.599288, 0.603615 , 0.368040]\n",
        "    }\n",
        ").plot(x=\"model\", y=\"score\", figsize=(8, 6)).get_figure()\n",
        "fig.savefig('model_train_score.png')"
      ]
    },
    {
      "cell_type": "code",
      "execution_count": 52,
      "metadata": {
        "id": "VIhWnVAfFp37",
        "outputId": "61490f5a-c332-4237-a4c5-e6a2742e8daa",
        "colab": {
          "base_uri": "https://localhost:8080/",
          "height": 390
        }
      },
      "outputs": [
        {
          "output_type": "display_data",
          "data": {
            "image/png": "[encoded data removed]",
            "text/plain": [
              "<Figure size 576x432 with 1 Axes>"
            ]
          },
          "metadata": {
            "needs_background": "light"
          }
        }
      ],
      "source": [
        "# Take the 3 kaggle scores and creating a line plot to show improvement\n",
        "fig = pd.DataFrame(\n",
        "    {\n",
        "        \"test_eval\": [\"initial\", \"add_features\", \"hpo\"],\n",
        "        \"score\": [1.39581 , 1.42969 , 1.21963]\n",
        "    }\n",
        ").plot(x=\"test_eval\", y=\"score\", figsize=(8, 6)).get_figure()\n",
        "fig.savefig('model_test_score.png')"
      ]
    },
    {
      "cell_type": "markdown",
      "metadata": {
        "id": "oN6DTqwDFp37"
      },
      "source": [
        "### Hyperparameter table"
      ]
    },
    {
      "cell_type": "code",
      "execution_count": 62,
      "metadata": {
        "id": "dDApobyaFp38",
        "outputId": "0aca6c19-83d7-4ec9-d454-34a295b19e51",
        "colab": {
          "base_uri": "https://localhost:8080/",
          "height": 142
        }
      },
      "outputs": [
        {
          "output_type": "execute_result",
          "data": {
            "text/html": [
              "\n",
              "  <div id=\"df-a9bcd690-f99d-4585-9535-c739b71d0280\">\n",
              "    <div class=\"colab-df-container\">\n",
              "      <div>\n",
              "<style scoped>\n",
              "    .dataframe tbody tr th:only-of-type {\n",
              "        vertical-align: middle;\n",
              "    }\n",
              "\n",
              "    .dataframe tbody tr th {\n",
              "        vertical-align: top;\n",
              "    }\n",
              "\n",
              "    .dataframe thead th {\n",
              "        text-align: right;\n",
              "    }\n",
              "</style>\n",
              "<table border=\"1\" class=\"dataframe\">\n",
              "  <thead>\n",
              "    <tr style=\"text-align: right;\">\n",
              "      <th></th>\n",
              "      <th>model</th>\n",
              "      <th>hpo1</th>\n",
              "      <th>hpo2</th>\n",
              "      <th>hpo3</th>\n",
              "      <th>score</th>\n",
              "    </tr>\n",
              "  </thead>\n",
              "  <tbody>\n",
              "    <tr>\n",
              "      <th>0</th>\n",
              "      <td>initial</td>\n",
              "      <td>600</td>\n",
              "      <td>default</td>\n",
              "      <td>default</td>\n",
              "      <td>1.39581</td>\n",
              "    </tr>\n",
              "    <tr>\n",
              "      <th>1</th>\n",
              "      <td>add_features</td>\n",
              "      <td>600</td>\n",
              "      <td>default</td>\n",
              "      <td>default</td>\n",
              "      <td>1.42969</td>\n",
              "    </tr>\n",
              "    <tr>\n",
              "      <th>2</th>\n",
              "      <td>hpo</td>\n",
              "      <td>1000</td>\n",
              "      <td>learning rate</td>\n",
              "      <td>layers</td>\n",
              "      <td>1.21963</td>\n",
              "    </tr>\n",
              "  </tbody>\n",
              "</table>\n",
              "</div>\n",
              "      <button class=\"colab-df-convert\" onclick=\"convertToInteractive('df-a9bcd690-f99d-4585-9535-c739b71d0280')\"\n",
              "              title=\"Convert this dataframe to an interactive table.\"\n",
              "              style=\"display:none;\">\n",
              "        \n",
              "  <svg xmlns=\"http://www.w3.org/2000/svg\" height=\"24px\"viewBox=\"0 0 24 24\"\n",
              "       width=\"24px\">\n",
              "    <path d=\"M0 0h24v24H0V0z\" fill=\"none\"/>\n",
              "    <path d=\"M18.56 5.44l.94 2.06.94-2.06 2.06-.94-2.06-.94-.94-2.06-.94 2.06-2.06.94zm-11 1L8.5 8.5l.94-2.06 2.06-.94-2.06-.94L8.5 2.5l-.94 2.06-2.06.94zm10 10l.94 2.06.94-2.06 2.06-.94-2.06-.94-.94-2.06-.94 2.06-2.06.94z\"/><path d=\"M17.41 7.96l-1.37-1.37c-.4-.4-.92-.59-1.43-.59-.52 0-1.04.2-1.43.59L10.3 9.45l-7.72 7.72c-.78.78-.78 2.05 0 2.83L4 21.41c.39.39.9.59 1.41.59.51 0 1.02-.2 1.41-.59l7.78-7.78 2.81-2.81c.8-.78.8-2.07 0-2.86zM5.41 20L4 18.59l7.72-7.72 1.47 1.35L5.41 20z\"/>\n",
              "  </svg>\n",
              "      </button>\n",
              "      \n",
              "  <style>\n",
              "    .colab-df-container {\n",
              "      display:flex;\n",
              "      flex-wrap:wrap;\n",
              "      gap: 12px;\n",
              "    }\n",
              "\n",
              "    .colab-df-convert {\n",
              "      background-color: #E8F0FE;\n",
              "      border: none;\n",
              "      border-radius: 50%;\n",
              "      cursor: pointer;\n",
              "      display: none;\n",
              "      fill: #1967D2;\n",
              "      height: 32px;\n",
              "      padding: 0 0 0 0;\n",
              "      width: 32px;\n",
              "    }\n",
              "\n",
              "    .colab-df-convert:hover {\n",
              "      background-color: #E2EBFA;\n",
              "      box-shadow: 0px 1px 2px rgba(60, 64, 67, 0.3), 0px 1px 3px 1px rgba(60, 64, 67, 0.15);\n",
              "      fill: #174EA6;\n",
              "    }\n",
              "\n",
              "    [theme=dark] .colab-df-convert {\n",
              "      background-color: #3B4455;\n",
              "      fill: #D2E3FC;\n",
              "    }\n",
              "\n",
              "    [theme=dark] .colab-df-convert:hover {\n",
              "      background-color: #434B5C;\n",
              "      box-shadow: 0px 1px 3px 1px rgba(0, 0, 0, 0.15);\n",
              "      filter: drop-shadow(0px 1px 2px rgba(0, 0, 0, 0.3));\n",
              "      fill: #FFFFFF;\n",
              "    }\n",
              "  </style>\n",
              "\n",
              "      <script>\n",
              "        const buttonEl =\n",
              "          document.querySelector('#df-a9bcd690-f99d-4585-9535-c739b71d0280 button.colab-df-convert');\n",
              "        buttonEl.style.display =\n",
              "          google.colab.kernel.accessAllowed ? 'block' : 'none';\n",
              "\n",
              "        async function convertToInteractive(key) {\n",
              "          const element = document.querySelector('#df-a9bcd690-f99d-4585-9535-c739b71d0280');\n",
              "          const dataTable =\n",
              "            await google.colab.kernel.invokeFunction('convertToInteractive',\n",
              "                                                     [key], {});\n",
              "          if (!dataTable) return;\n",
              "\n",
              "          const docLinkHtml = 'Like what you see? Visit the ' +\n",
              "            '<a target=\"_blank\" href=https://colab.research.google.com/notebooks/data_table.ipynb>data table notebook</a>'\n",
              "            + ' to learn more about interactive tables.';\n",
              "          element.innerHTML = '';\n",
              "          dataTable['output_type'] = 'display_data';\n",
              "          await google.colab.output.renderOutput(dataTable, element);\n",
              "          const docLink = document.createElement('div');\n",
              "          docLink.innerHTML = docLinkHtml;\n",
              "          element.appendChild(docLink);\n",
              "        }\n",
              "      </script>\n",
              "    </div>\n",
              "  </div>\n",
              "  "
            ],
            "text/plain": [
              "          model  hpo1           hpo2     hpo3    score\n",
              "0       initial   600        default  default  1.39581\n",
              "1  add_features   600        default  default  1.42969\n",
              "2           hpo  1000  learning rate   layers  1.21963"
            ]
          },
          "metadata": {},
          "execution_count": 62
        }
      ],
      "source": [
        "# The 3 hyperparameters we tuned with the kaggle score as the result\n",
        "pd.DataFrame({\n",
        "    \"model\": [\"initial\", \"add_features\", \"hpo\"],\n",
        "    \"hpo1\": [600, 600, 1000],\n",
        "    \"hpo2\": [\"default\", \"default\", \"learning rate\"],\n",
        "    \"hpo3\": [\"default\", \"default\", \"layers\"],\n",
        "    \"score\": [1.39581 , 1.42969 , 1.21963]\n",
        "})"
      ]
    },
    {
      "cell_type": "code",
      "source": [
        ""
      ],
      "metadata": {
        "id": "9VHwsT2W_1Ji"
      },
      "execution_count": null,
      "outputs": []
    }
  ],
  "metadata": {
    "kernelspec": {
      "display_name": "Python 3 (ipykernel)",
      "language": "python",
      "name": "python3"
    },
    "language_info": {
      "codemirror_mode": {
        "name": "ipython",
        "version": 3
      },
      "file_extension": ".py",
      "mimetype": "text/x-python",
      "name": "python",
      "nbconvert_exporter": "python",
      "pygments_lexer": "ipython3",
      "version": "3.9.7"
    },
    "colab": {
      "name": "project-template.ipynb",
      "provenance": []
    },
    "accelerator": "GPU"
  },
  "nbformat": 4,
  "nbformat_minor": 0
}